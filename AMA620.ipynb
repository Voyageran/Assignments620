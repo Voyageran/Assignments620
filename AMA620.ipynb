{
  "cells": [
    {
      "cell_type": "markdown",
      "metadata": {
        "id": "view-in-github",
        "colab_type": "text"
      },
      "source": [
        "<a href=\"https://colab.research.google.com/github/Voyageran/Assignments620/blob/main/AMA620.ipynb\" target=\"_parent\"><img src=\"https://colab.research.google.com/assets/colab-badge.svg\" alt=\"Open In Colab\"/></a>"
      ]
    },
    {
      "cell_type": "markdown",
      "metadata": {
        "id": "-4FwZC2B4-5r"
      },
      "source": [
        "\n",
        "# AMA620 Assignment 1\n",
        "---\n",
        "JIANG Ran \\& 23036623R\n",
        "\n"
      ]
    },
    {
      "cell_type": "code",
      "execution_count": 1,
      "metadata": {
        "colab": {
          "base_uri": "https://localhost:8080/"
        },
        "id": "FEYYD7ZWDfxy",
        "outputId": "84e0f3df-b519-4903-dc2f-4236ca4c30d1"
      },
      "outputs": [
        {
          "output_type": "stream",
          "name": "stdout",
          "text": [
            "Mounted at /content/drive\n"
          ]
        }
      ],
      "source": [
        "from google.colab import drive\n",
        "drive.mount('/content/drive')"
      ]
    },
    {
      "cell_type": "code",
      "execution_count": 2,
      "metadata": {
        "colab": {
          "base_uri": "https://localhost:8080/"
        },
        "id": "vLCEH7aNmoSv",
        "outputId": "56195e48-e675-4dd8-eea1-b0b76f707f78"
      },
      "outputs": [
        {
          "output_type": "stream",
          "name": "stdout",
          "text": [
            "Mounted at /content/gdrive\n",
            "'/content/gdrive/MyDrive/Colab Notebooks/d2l' -> '/content/d2l'\n",
            "'/content/gdrive/MyDrive/Colab Notebooks/d2l/paddle.py' -> '/content/d2l/paddle.py'\n",
            "'/content/gdrive/MyDrive/Colab Notebooks/d2l/mxnet.py' -> '/content/d2l/mxnet.py'\n",
            "'/content/gdrive/MyDrive/Colab Notebooks/d2l/tensorflow.py' -> '/content/d2l/tensorflow.py'\n",
            "'/content/gdrive/MyDrive/Colab Notebooks/d2l/torch.py' -> '/content/d2l/torch.py'\n",
            "'/content/gdrive/MyDrive/Colab Notebooks/d2l/__init__.py' -> '/content/d2l/__init__.py'\n",
            "'/content/gdrive/MyDrive/Colab Notebooks/d2l/__pycache__' -> '/content/d2l/__pycache__'\n",
            "'/content/gdrive/MyDrive/Colab Notebooks/d2l/__pycache__/mxnet.cpython-310.pyc' -> '/content/d2l/__pycache__/mxnet.cpython-310.pyc'\n",
            "'/content/gdrive/MyDrive/Colab Notebooks/d2l/__pycache__/__init__.cpython-310.pyc' -> '/content/d2l/__pycache__/__init__.cpython-310.pyc'\n",
            "'/content/gdrive/MyDrive/Colab Notebooks/d2l/__pycache__/torch.cpython-310.pyc' -> '/content/d2l/__pycache__/torch.cpython-310.pyc'\n",
            "'/content/gdrive/MyDrive/Colab Notebooks/d2l/__pycache__/tensorflow.cpython-310.pyc' -> '/content/d2l/__pycache__/tensorflow.cpython-310.pyc'\n",
            "'/content/gdrive/MyDrive/Colab Notebooks/d2l/__pycache__/paddle.cpython-310.pyc' -> '/content/d2l/__pycache__/paddle.cpython-310.pyc'\n",
            "'/content/gdrive/MyDrive/Colab Notebooks/d2l/MNIST' -> '/content/d2l/MNIST'\n",
            "'/content/gdrive/MyDrive/Colab Notebooks/d2l/MNIST/raw' -> '/content/d2l/MNIST/raw'\n",
            "'/content/gdrive/MyDrive/Colab Notebooks/d2l/MNIST/raw/train-images-idx3-ubyte.gz' -> '/content/d2l/MNIST/raw/train-images-idx3-ubyte.gz'\n",
            "'/content/gdrive/MyDrive/Colab Notebooks/d2l/MNIST/raw/train-images-idx3-ubyte' -> '/content/d2l/MNIST/raw/train-images-idx3-ubyte'\n",
            "'/content/gdrive/MyDrive/Colab Notebooks/d2l/MNIST/raw/train-labels-idx1-ubyte.gz' -> '/content/d2l/MNIST/raw/train-labels-idx1-ubyte.gz'\n",
            "'/content/gdrive/MyDrive/Colab Notebooks/d2l/MNIST/raw/train-labels-idx1-ubyte' -> '/content/d2l/MNIST/raw/train-labels-idx1-ubyte'\n",
            "'/content/gdrive/MyDrive/Colab Notebooks/d2l/MNIST/raw/t10k-images-idx3-ubyte.gz' -> '/content/d2l/MNIST/raw/t10k-images-idx3-ubyte.gz'\n",
            "'/content/gdrive/MyDrive/Colab Notebooks/d2l/MNIST/raw/t10k-images-idx3-ubyte' -> '/content/d2l/MNIST/raw/t10k-images-idx3-ubyte'\n",
            "'/content/gdrive/MyDrive/Colab Notebooks/d2l/MNIST/raw/t10k-labels-idx1-ubyte.gz' -> '/content/d2l/MNIST/raw/t10k-labels-idx1-ubyte.gz'\n",
            "'/content/gdrive/MyDrive/Colab Notebooks/d2l/MNIST/raw/t10k-labels-idx1-ubyte' -> '/content/d2l/MNIST/raw/t10k-labels-idx1-ubyte'\n"
          ]
        }
      ],
      "source": [
        "import sys\n",
        "from google.colab import drive\n",
        "drive.mount('/content/gdrive')\n",
        "sys.path.insert(0,\"/content/content/notebooks/colabInstallPackage\")\n",
        "\n",
        "!cp -av '/content/gdrive/MyDrive/Colab Notebooks/d2l' '/content/'"
      ]
    },
    {
      "cell_type": "code",
      "execution_count": 3,
      "metadata": {
        "id": "_xEKMU4047h5"
      },
      "outputs": [],
      "source": [
        "import torch\n",
        "import torchvision\n",
        "from d2l import torch as d2l\n",
        "import torch.nn as nn\n",
        "import torch.nn.functional as F\n",
        "import torch.optim as optim\n",
        "from torch.utils.data import DataLoader"
      ]
    },
    {
      "cell_type": "markdown",
      "metadata": {
        "id": "P8nuMHEp5eDN"
      },
      "source": [
        "## Preparing the Dataset"
      ]
    },
    {
      "cell_type": "code",
      "execution_count": 11,
      "metadata": {
        "id": "CiS076p5G_pr"
      },
      "outputs": [],
      "source": [
        "batch_size_train = 100\n",
        "batch_size_test = 1000"
      ]
    },
    {
      "cell_type": "code",
      "execution_count": 12,
      "metadata": {
        "id": "puPRvpOF__Vk"
      },
      "outputs": [],
      "source": [
        "## Loading data\n",
        "train_loader = torch.utils.data.DataLoader(\n",
        "    torchvision.datasets.MNIST('/content/gdrive/MyDrive/Colab Notebooks/d2l',train = True, download = True, #'/content/drive/MyDrive/assign1'\n",
        "                               transform=torchvision.transforms.Compose([\n",
        "                                   torchvision.transforms.ToTensor(),\n",
        "                                   torchvision.transforms.Normalize(\n",
        "                                       (0.1307, ), (0.3081,) #global mean, standard deviation of MNIST\n",
        "                                   )\n",
        "                                ]\n",
        "                                )\n",
        "                               ),\n",
        "    batch_size = batch_size_train, shuffle = True\n",
        ")\n",
        "\n",
        "test_loader = torch.utils.data.DataLoader(\n",
        "    torchvision.datasets.MNIST('/content/gdrive/MyDrive/Colab Notebooks/d2l',train = True, download = False,\n",
        "                               transform=torchvision.transforms.Compose([\n",
        "                                   torchvision.transforms.ToTensor(),\n",
        "                                   torchvision.transforms.Normalize(\n",
        "                                       (0.1307, ), (0.3081,) #global mean, standard deviation of MNIST\n",
        "                                   )\n",
        "                                ]\n",
        "                                )\n",
        "                               ),\n",
        "    batch_size = batch_size_test, shuffle = True\n",
        ")"
      ]
    },
    {
      "cell_type": "code",
      "execution_count": 13,
      "metadata": {
        "id": "U6OBFcktS7oM"
      },
      "outputs": [],
      "source": [
        "# next(iter(train_loader))"
      ]
    },
    {
      "cell_type": "code",
      "execution_count": 14,
      "metadata": {
        "id": "yuHfXPbVFcRm"
      },
      "outputs": [],
      "source": [
        "# Use test_loader\n",
        "examples = enumerate(test_loader)\n",
        "batch_idx, (example_data, example_targets) = next(examples)"
      ]
    },
    {
      "cell_type": "code",
      "execution_count": 15,
      "metadata": {
        "id": "X3qdFrZwTm4T"
      },
      "outputs": [],
      "source": [
        "# examples = enumerate(test_loader)\n",
        "# batch_idx, (example_data, example_targets) = next(examples)\n",
        "# batch_idx"
      ]
    },
    {
      "cell_type": "code",
      "execution_count": 16,
      "metadata": {
        "colab": {
          "base_uri": "https://localhost:8080/"
        },
        "id": "gd-d0BG6HIHh",
        "outputId": "5238621d-527a-4760-d579-ce66c807cd12"
      },
      "outputs": [
        {
          "output_type": "execute_result",
          "data": {
            "text/plain": [
              "torch.Size([1000, 1, 28, 28])"
            ]
          },
          "metadata": {},
          "execution_count": 16
        }
      ],
      "source": [
        "example_data.shape"
      ]
    },
    {
      "cell_type": "code",
      "execution_count": 17,
      "metadata": {
        "colab": {
          "base_uri": "https://localhost:8080/",
          "height": 438
        },
        "id": "aIvkdrZuHQ4l",
        "outputId": "1aeaf2f3-9354-4438-ad7b-05e635de2829"
      },
      "outputs": [
        {
          "output_type": "display_data",
          "data": {
            "text/plain": [
              "<Figure size 640x480 with 6 Axes>"
            ],
            "image/png": "[encoded data removed]"
          },
          "metadata": {}
        }
      ],
      "source": [
        "import matplotlib.pyplot as plt\n",
        "\n",
        "fig = plt.figure()\n",
        "for i in range(6):\n",
        "  plt.subplot(2,3,i+1)\n",
        "  plt.tight_layout()\n",
        "  plt.imshow(example_data[i][0], cmap = 'gray', interpolation='none')\n",
        "  plt.title(\"Ground Truth: {}\".format(example_targets[i]))\n",
        "  plt.xticks([])\n",
        "  plt.yticks([])\n",
        "\n",
        "# fig"
      ]
    },
    {
      "cell_type": "markdown",
      "metadata": {
        "id": "-LgKicWee7g9"
      },
      "source": [
        "## CNN"
      ]
    },
    {
      "cell_type": "markdown",
      "metadata": {
        "id": "5XEuZzOU49xm"
      },
      "source": [
        "### Building the Network"
      ]
    },
    {
      "cell_type": "code",
      "execution_count": 30,
      "metadata": {
        "id": "oILCVtkuLKhU"
      },
      "outputs": [],
      "source": [
        "class Net(nn.Module):\n",
        "    def __init__(self):\n",
        "        super(Net, self).__init__()\n",
        "        self.conv1 = nn.Conv2d(1, 10, kernel_size=5)\n",
        "        self.conv2 = nn.Conv2d(10, 20, kernel_size=5)\n",
        "        self.conv2_drop = nn.Dropout2d()\n",
        "        self.fc1 = nn.Linear(320, 50)\n",
        "        self.fc2 = nn.Linear(50, 10)\n",
        "\n",
        "    def forward(self, x):\n",
        "        x = F.relu(F.max_pool2d(self.conv1(x), 2))\n",
        "        x = F.relu(F.max_pool2d(self.conv2_drop(self.conv2(x)), 2))\n",
        "        x = x.view(-1, 320)\n",
        "        x = F.relu(self.fc1(x))\n",
        "        x = F.dropout(x, training=self.training)\n",
        "        x = self.fc2(x)\n",
        "        return F.log_softmax(x)"
      ]
    },
    {
      "cell_type": "code",
      "execution_count": 31,
      "metadata": {
        "id": "lTVTFzPwSuv-"
      },
      "outputs": [],
      "source": [
        "# instance\n",
        "network = Net()"
      ]
    },
    {
      "cell_type": "code",
      "execution_count": 32,
      "metadata": {
        "colab": {
          "base_uri": "https://localhost:8080/"
        },
        "id": "5QcsayUX5ae-",
        "outputId": "d322a4a4-5dd2-41ca-ca9e-40753ba64f8d"
      },
      "outputs": [
        {
          "output_type": "execute_result",
          "data": {
            "text/plain": [
              "<torch._C.Generator at 0x7af0ce9cadf0>"
            ]
          },
          "metadata": {},
          "execution_count": 32
        }
      ],
      "source": [
        "n_epochs = 8\n",
        "learning_rate = 0.01\n",
        "momentum = 0.5\n",
        "log_interval = 10\n",
        "\n",
        "random_seed = 1\n",
        "torch.backends.cudnn.enable = False\n",
        "torch.manual_seed(random_seed)"
      ]
    },
    {
      "cell_type": "code",
      "execution_count": 33,
      "metadata": {
        "id": "W-giyDMccR5y"
      },
      "outputs": [],
      "source": [
        "# initialize optimizer\n",
        "optimizer = optim.SGD(network.parameters(), lr=learning_rate,\n",
        "                      momentum=momentum) #learning_rate=0.01,momentum=0.5"
      ]
    },
    {
      "cell_type": "markdown",
      "metadata": {
        "id": "mE7ggQf6eoty"
      },
      "source": [
        "### Training the Model"
      ]
    },
    {
      "cell_type": "code",
      "execution_count": null,
      "metadata": {
        "id": "eg6s4F7chgJS"
      },
      "outputs": [],
      "source": [
        "def train(epoch):\n",
        "  network.train()\n",
        "  for batch_idx, (data, target) in enumerate(train_loader):\n",
        "    optimizer.zero_grad()\n",
        "    output = network(data)\n",
        "    loss = F.nll_loss(output, target)\n",
        "    loss.backward()\n",
        "    optimizer.step()\n",
        "    if batch_idx % log_interval == 0:\n",
        "      print('Train Epoch: {} [{}/{} ({:.0f}%)]\\tLoss: {:.6f}'.format(\n",
        "        epoch, batch_idx * len(data), len(train_loader.dataset),\n",
        "        100. * batch_idx / len(train_loader), loss.item()))\n",
        "      train_losses.append(loss.item())\n",
        "      train_counter.append(\n",
        "        (batch_idx*100) + ((epoch-1)*len(train_loader.dataset)))\n",
        "      torch.save(network.state_dict(), 'model.pth')\n",
        "      torch.save(optimizer.state_dict(), 'optimizer.pth')"
      ]
    },
    {
      "cell_type": "code",
      "execution_count": null,
      "metadata": {
        "id": "FtqtboRcjDNy"
      },
      "outputs": [],
      "source": [
        "def test():\n",
        "  network.eval()\n",
        "  test_loss = 0\n",
        "  correct = 0\n",
        "  with torch.no_grad():\n",
        "    for data, target in test_loader:\n",
        "      output = network(data)\n",
        "      test_loss += F.nll_loss(output, target, size_average=False).item()\n",
        "      pred = output.data.max(1, keepdim=True)[1]\n",
        "      correct += pred.eq(target.data.view_as(pred)).sum()\n",
        "  test_loss /= len(test_loader.dataset)\n",
        "  test_losses.append(test_loss)\n",
        "  print('\\nTest set: Avg. loss: {:.4f}, Accuracy: {}/{} ({:.0f}%)\\n'.format(\n",
        "    test_loss, correct, len(test_loader.dataset),\n",
        "    100. * correct / len(test_loader.dataset)))"
      ]
    },
    {
      "cell_type": "code",
      "execution_count": null,
      "metadata": {
        "colab": {
          "base_uri": "https://localhost:8080/"
        },
        "id": "sunTGod4xGel",
        "outputId": "d6214a1f-c620-4475-960d-b5486c7980c6"
      },
      "outputs": [
        {
          "name": "stderr",
          "output_type": "stream",
          "text": [
            "<ipython-input-301-6c2218f37724>:17: UserWarning: Implicit dimension choice for log_softmax has been deprecated. Change the call to include dim=X as an argument.\n",
            "  return F.log_softmax(x)\n"
          ]
        },
        {
          "name": "stdout",
          "output_type": "stream",
          "text": [
            "Train Epoch: 1 [0/60000 (0%)]\tLoss: 2.355847\n",
            "Train Epoch: 1 [1000/60000 (2%)]\tLoss: 2.285408\n",
            "Train Epoch: 1 [2000/60000 (3%)]\tLoss: 2.267978\n",
            "Train Epoch: 1 [3000/60000 (5%)]\tLoss: 2.265007\n",
            "Train Epoch: 1 [4000/60000 (7%)]\tLoss: 2.244080\n",
            "Train Epoch: 1 [5000/60000 (8%)]\tLoss: 2.264297\n",
            "Train Epoch: 1 [6000/60000 (10%)]\tLoss: 2.221968\n",
            "Train Epoch: 1 [7000/60000 (12%)]\tLoss: 2.191390\n",
            "Train Epoch: 1 [8000/60000 (13%)]\tLoss: 2.166354\n",
            "Train Epoch: 1 [9000/60000 (15%)]\tLoss: 2.112631\n",
            "Train Epoch: 1 [10000/60000 (17%)]\tLoss: 2.035832\n",
            "Train Epoch: 1 [11000/60000 (18%)]\tLoss: 1.964915\n",
            "Train Epoch: 1 [12000/60000 (20%)]\tLoss: 1.949992\n",
            "Train Epoch: 1 [13000/60000 (22%)]\tLoss: 1.877749\n",
            "Train Epoch: 1 [14000/60000 (23%)]\tLoss: 1.691632\n",
            "Train Epoch: 1 [15000/60000 (25%)]\tLoss: 1.644858\n",
            "Train Epoch: 1 [16000/60000 (27%)]\tLoss: 1.576668\n",
            "Train Epoch: 1 [17000/60000 (28%)]\tLoss: 1.389927\n",
            "Train Epoch: 1 [18000/60000 (30%)]\tLoss: 1.443596\n",
            "Train Epoch: 1 [19000/60000 (32%)]\tLoss: 1.311536\n",
            "Train Epoch: 1 [20000/60000 (33%)]\tLoss: 1.239498\n",
            "Train Epoch: 1 [21000/60000 (35%)]\tLoss: 1.200123\n",
            "Train Epoch: 1 [22000/60000 (37%)]\tLoss: 1.115303\n",
            "Train Epoch: 1 [23000/60000 (38%)]\tLoss: 1.012401\n",
            "Train Epoch: 1 [24000/60000 (40%)]\tLoss: 0.949188\n",
            "Train Epoch: 1 [25000/60000 (42%)]\tLoss: 1.116180\n",
            "Train Epoch: 1 [26000/60000 (43%)]\tLoss: 1.107538\n",
            "Train Epoch: 1 [27000/60000 (45%)]\tLoss: 0.826532\n",
            "Train Epoch: 1 [28000/60000 (47%)]\tLoss: 0.902522\n",
            "Train Epoch: 1 [29000/60000 (48%)]\tLoss: 1.150992\n",
            "Train Epoch: 1 [30000/60000 (50%)]\tLoss: 0.811163\n",
            "Train Epoch: 1 [31000/60000 (52%)]\tLoss: 0.833747\n",
            "Train Epoch: 1 [32000/60000 (53%)]\tLoss: 0.747506\n",
            "Train Epoch: 1 [33000/60000 (55%)]\tLoss: 0.846028\n",
            "Train Epoch: 1 [34000/60000 (57%)]\tLoss: 0.827923\n",
            "Train Epoch: 1 [35000/60000 (58%)]\tLoss: 0.892291\n",
            "Train Epoch: 1 [36000/60000 (60%)]\tLoss: 0.814920\n",
            "Train Epoch: 1 [37000/60000 (62%)]\tLoss: 0.731726\n",
            "Train Epoch: 1 [38000/60000 (63%)]\tLoss: 0.879310\n",
            "Train Epoch: 1 [39000/60000 (65%)]\tLoss: 0.640488\n",
            "Train Epoch: 1 [40000/60000 (67%)]\tLoss: 0.866540\n",
            "Train Epoch: 1 [41000/60000 (68%)]\tLoss: 0.785547\n",
            "Train Epoch: 1 [42000/60000 (70%)]\tLoss: 0.774971\n",
            "Train Epoch: 1 [43000/60000 (72%)]\tLoss: 0.725705\n",
            "Train Epoch: 1 [44000/60000 (73%)]\tLoss: 0.732976\n",
            "Train Epoch: 1 [45000/60000 (75%)]\tLoss: 0.652547\n",
            "Train Epoch: 1 [46000/60000 (77%)]\tLoss: 0.665508\n",
            "Train Epoch: 1 [47000/60000 (78%)]\tLoss: 0.577345\n",
            "Train Epoch: 1 [48000/60000 (80%)]\tLoss: 0.519153\n",
            "Train Epoch: 1 [49000/60000 (82%)]\tLoss: 0.517412\n",
            "Train Epoch: 1 [50000/60000 (83%)]\tLoss: 0.402862\n",
            "Train Epoch: 1 [51000/60000 (85%)]\tLoss: 0.471972\n",
            "Train Epoch: 1 [52000/60000 (87%)]\tLoss: 0.536705\n",
            "Train Epoch: 1 [53000/60000 (88%)]\tLoss: 0.677828\n",
            "Train Epoch: 1 [54000/60000 (90%)]\tLoss: 0.656737\n",
            "Train Epoch: 1 [55000/60000 (92%)]\tLoss: 0.779046\n",
            "Train Epoch: 1 [56000/60000 (93%)]\tLoss: 0.519911\n",
            "Train Epoch: 1 [57000/60000 (95%)]\tLoss: 0.571387\n",
            "Train Epoch: 1 [58000/60000 (97%)]\tLoss: 0.500171\n",
            "Train Epoch: 1 [59000/60000 (98%)]\tLoss: 0.503080\n"
          ]
        },
        {
          "name": "stderr",
          "output_type": "stream",
          "text": [
            "/usr/local/lib/python3.10/dist-packages/torch/nn/_reduction.py:42: UserWarning: size_average and reduce args will be deprecated, please use reduction='sum' instead.\n",
            "  warnings.warn(warning.format(ret))\n"
          ]
        },
        {
          "name": "stdout",
          "output_type": "stream",
          "text": [
            "\n",
            "Test set: Avg. loss: 0.2764, Accuracy: 55275/60000 (92%)\n",
            "\n",
            "Train Epoch: 2 [0/60000 (0%)]\tLoss: 0.451749\n",
            "Train Epoch: 2 [1000/60000 (2%)]\tLoss: 0.736380\n",
            "Train Epoch: 2 [2000/60000 (3%)]\tLoss: 0.459200\n",
            "Train Epoch: 2 [3000/60000 (5%)]\tLoss: 0.503279\n",
            "Train Epoch: 2 [4000/60000 (7%)]\tLoss: 0.757079\n",
            "Train Epoch: 2 [5000/60000 (8%)]\tLoss: 0.514530\n",
            "Train Epoch: 2 [6000/60000 (10%)]\tLoss: 0.589051\n",
            "Train Epoch: 2 [7000/60000 (12%)]\tLoss: 0.500261\n",
            "Train Epoch: 2 [8000/60000 (13%)]\tLoss: 0.418052\n",
            "Train Epoch: 2 [9000/60000 (15%)]\tLoss: 0.722626\n",
            "Train Epoch: 2 [10000/60000 (17%)]\tLoss: 0.436772\n",
            "Train Epoch: 2 [11000/60000 (18%)]\tLoss: 0.574027\n",
            "Train Epoch: 2 [12000/60000 (20%)]\tLoss: 0.503467\n",
            "Train Epoch: 2 [13000/60000 (22%)]\tLoss: 0.522689\n",
            "Train Epoch: 2 [14000/60000 (23%)]\tLoss: 0.570908\n",
            "Train Epoch: 2 [15000/60000 (25%)]\tLoss: 0.574409\n",
            "Train Epoch: 2 [16000/60000 (27%)]\tLoss: 0.462549\n",
            "Train Epoch: 2 [17000/60000 (28%)]\tLoss: 0.650371\n",
            "Train Epoch: 2 [18000/60000 (30%)]\tLoss: 0.435735\n",
            "Train Epoch: 2 [19000/60000 (32%)]\tLoss: 0.465541\n",
            "Train Epoch: 2 [20000/60000 (33%)]\tLoss: 0.446470\n",
            "Train Epoch: 2 [21000/60000 (35%)]\tLoss: 0.403463\n",
            "Train Epoch: 2 [22000/60000 (37%)]\tLoss: 0.343843\n",
            "Train Epoch: 2 [23000/60000 (38%)]\tLoss: 0.493014\n",
            "Train Epoch: 2 [24000/60000 (40%)]\tLoss: 0.368047\n",
            "Train Epoch: 2 [25000/60000 (42%)]\tLoss: 0.390654\n",
            "Train Epoch: 2 [26000/60000 (43%)]\tLoss: 0.540465\n",
            "Train Epoch: 2 [27000/60000 (45%)]\tLoss: 0.302799\n",
            "Train Epoch: 2 [28000/60000 (47%)]\tLoss: 0.492808\n",
            "Train Epoch: 2 [29000/60000 (48%)]\tLoss: 0.523239\n",
            "Train Epoch: 2 [30000/60000 (50%)]\tLoss: 0.415726\n",
            "Train Epoch: 2 [31000/60000 (52%)]\tLoss: 0.397858\n",
            "Train Epoch: 2 [32000/60000 (53%)]\tLoss: 0.478907\n",
            "Train Epoch: 2 [33000/60000 (55%)]\tLoss: 0.394779\n",
            "Train Epoch: 2 [34000/60000 (57%)]\tLoss: 0.461593\n",
            "Train Epoch: 2 [35000/60000 (58%)]\tLoss: 0.562129\n",
            "Train Epoch: 2 [36000/60000 (60%)]\tLoss: 0.386492\n",
            "Train Epoch: 2 [37000/60000 (62%)]\tLoss: 0.325401\n",
            "Train Epoch: 2 [38000/60000 (63%)]\tLoss: 0.374526\n",
            "Train Epoch: 2 [39000/60000 (65%)]\tLoss: 0.531735\n",
            "Train Epoch: 2 [40000/60000 (67%)]\tLoss: 0.527759\n",
            "Train Epoch: 2 [41000/60000 (68%)]\tLoss: 0.362840\n",
            "Train Epoch: 2 [42000/60000 (70%)]\tLoss: 0.353137\n",
            "Train Epoch: 2 [43000/60000 (72%)]\tLoss: 0.383385\n",
            "Train Epoch: 2 [44000/60000 (73%)]\tLoss: 0.784342\n",
            "Train Epoch: 2 [45000/60000 (75%)]\tLoss: 0.416457\n",
            "Train Epoch: 2 [46000/60000 (77%)]\tLoss: 0.395006\n",
            "Train Epoch: 2 [47000/60000 (78%)]\tLoss: 0.383905\n",
            "Train Epoch: 2 [48000/60000 (80%)]\tLoss: 0.346077\n",
            "Train Epoch: 2 [49000/60000 (82%)]\tLoss: 0.498434\n",
            "Train Epoch: 2 [50000/60000 (83%)]\tLoss: 0.382432\n",
            "Train Epoch: 2 [51000/60000 (85%)]\tLoss: 0.402484\n",
            "Train Epoch: 2 [52000/60000 (87%)]\tLoss: 0.440793\n",
            "Train Epoch: 2 [53000/60000 (88%)]\tLoss: 0.363075\n",
            "Train Epoch: 2 [54000/60000 (90%)]\tLoss: 0.418573\n",
            "Train Epoch: 2 [55000/60000 (92%)]\tLoss: 0.351008\n",
            "Train Epoch: 2 [56000/60000 (93%)]\tLoss: 0.334523\n",
            "Train Epoch: 2 [57000/60000 (95%)]\tLoss: 0.434868\n",
            "Train Epoch: 2 [58000/60000 (97%)]\tLoss: 0.352117\n",
            "Train Epoch: 2 [59000/60000 (98%)]\tLoss: 0.607894\n",
            "\n",
            "Test set: Avg. loss: 0.1685, Accuracy: 57105/60000 (95%)\n",
            "\n",
            "Train Epoch: 3 [0/60000 (0%)]\tLoss: 0.394980\n",
            "Train Epoch: 3 [1000/60000 (2%)]\tLoss: 0.310488\n",
            "Train Epoch: 3 [2000/60000 (3%)]\tLoss: 0.404702\n",
            "Train Epoch: 3 [3000/60000 (5%)]\tLoss: 0.323065\n",
            "Train Epoch: 3 [4000/60000 (7%)]\tLoss: 0.543247\n",
            "Train Epoch: 3 [5000/60000 (8%)]\tLoss: 0.574455\n",
            "Train Epoch: 3 [6000/60000 (10%)]\tLoss: 0.377574\n",
            "Train Epoch: 3 [7000/60000 (12%)]\tLoss: 0.333773\n",
            "Train Epoch: 3 [8000/60000 (13%)]\tLoss: 0.450095\n",
            "Train Epoch: 3 [9000/60000 (15%)]\tLoss: 0.380311\n",
            "Train Epoch: 3 [10000/60000 (17%)]\tLoss: 0.596731\n",
            "Train Epoch: 3 [11000/60000 (18%)]\tLoss: 0.253759\n",
            "Train Epoch: 3 [12000/60000 (20%)]\tLoss: 0.415412\n",
            "Train Epoch: 3 [13000/60000 (22%)]\tLoss: 0.448820\n",
            "Train Epoch: 3 [14000/60000 (23%)]\tLoss: 0.166034\n",
            "Train Epoch: 3 [15000/60000 (25%)]\tLoss: 0.363213\n",
            "Train Epoch: 3 [16000/60000 (27%)]\tLoss: 0.371419\n",
            "Train Epoch: 3 [17000/60000 (28%)]\tLoss: 0.342620\n",
            "Train Epoch: 3 [18000/60000 (30%)]\tLoss: 0.494743\n",
            "Train Epoch: 3 [19000/60000 (32%)]\tLoss: 0.459416\n",
            "Train Epoch: 3 [20000/60000 (33%)]\tLoss: 0.234910\n",
            "Train Epoch: 3 [21000/60000 (35%)]\tLoss: 0.271455\n",
            "Train Epoch: 3 [22000/60000 (37%)]\tLoss: 0.288125\n",
            "Train Epoch: 3 [23000/60000 (38%)]\tLoss: 0.460516\n",
            "Train Epoch: 3 [24000/60000 (40%)]\tLoss: 0.318567\n",
            "Train Epoch: 3 [25000/60000 (42%)]\tLoss: 0.466495\n",
            "Train Epoch: 3 [26000/60000 (43%)]\tLoss: 0.458892\n",
            "Train Epoch: 3 [27000/60000 (45%)]\tLoss: 0.348921\n",
            "Train Epoch: 3 [28000/60000 (47%)]\tLoss: 0.405342\n",
            "Train Epoch: 3 [29000/60000 (48%)]\tLoss: 0.246778\n",
            "Train Epoch: 3 [30000/60000 (50%)]\tLoss: 0.551652\n",
            "Train Epoch: 3 [31000/60000 (52%)]\tLoss: 0.338212\n",
            "Train Epoch: 3 [32000/60000 (53%)]\tLoss: 0.555716\n",
            "Train Epoch: 3 [33000/60000 (55%)]\tLoss: 0.292754\n",
            "Train Epoch: 3 [34000/60000 (57%)]\tLoss: 0.328345\n",
            "Train Epoch: 3 [35000/60000 (58%)]\tLoss: 0.341531\n",
            "Train Epoch: 3 [36000/60000 (60%)]\tLoss: 0.375621\n",
            "Train Epoch: 3 [37000/60000 (62%)]\tLoss: 0.342291\n",
            "Train Epoch: 3 [38000/60000 (63%)]\tLoss: 0.527435\n",
            "Train Epoch: 3 [39000/60000 (65%)]\tLoss: 0.182353\n",
            "Train Epoch: 3 [40000/60000 (67%)]\tLoss: 0.340394\n",
            "Train Epoch: 3 [41000/60000 (68%)]\tLoss: 0.621715\n",
            "Train Epoch: 3 [42000/60000 (70%)]\tLoss: 0.317688\n",
            "Train Epoch: 3 [43000/60000 (72%)]\tLoss: 0.375151\n",
            "Train Epoch: 3 [44000/60000 (73%)]\tLoss: 0.316985\n",
            "Train Epoch: 3 [45000/60000 (75%)]\tLoss: 0.192289\n",
            "Train Epoch: 3 [46000/60000 (77%)]\tLoss: 0.300148\n",
            "Train Epoch: 3 [47000/60000 (78%)]\tLoss: 0.286349\n",
            "Train Epoch: 3 [48000/60000 (80%)]\tLoss: 0.334326\n",
            "Train Epoch: 3 [49000/60000 (82%)]\tLoss: 0.353368\n",
            "Train Epoch: 3 [50000/60000 (83%)]\tLoss: 0.398979\n",
            "Train Epoch: 3 [51000/60000 (85%)]\tLoss: 0.534363\n",
            "Train Epoch: 3 [52000/60000 (87%)]\tLoss: 0.384769\n",
            "Train Epoch: 3 [53000/60000 (88%)]\tLoss: 0.329446\n",
            "Train Epoch: 3 [54000/60000 (90%)]\tLoss: 0.255622\n",
            "Train Epoch: 3 [55000/60000 (92%)]\tLoss: 0.433254\n",
            "Train Epoch: 3 [56000/60000 (93%)]\tLoss: 0.297550\n",
            "Train Epoch: 3 [57000/60000 (95%)]\tLoss: 0.260310\n",
            "Train Epoch: 3 [58000/60000 (97%)]\tLoss: 0.332927\n",
            "Train Epoch: 3 [59000/60000 (98%)]\tLoss: 0.321502\n",
            "\n",
            "Test set: Avg. loss: 0.1320, Accuracy: 57680/60000 (96%)\n",
            "\n",
            "Train Epoch: 4 [0/60000 (0%)]\tLoss: 0.328692\n",
            "Train Epoch: 4 [1000/60000 (2%)]\tLoss: 0.284680\n",
            "Train Epoch: 4 [2000/60000 (3%)]\tLoss: 0.400787\n",
            "Train Epoch: 4 [3000/60000 (5%)]\tLoss: 0.464814\n",
            "Train Epoch: 4 [4000/60000 (7%)]\tLoss: 0.210064\n",
            "Train Epoch: 4 [5000/60000 (8%)]\tLoss: 0.251277\n",
            "Train Epoch: 4 [6000/60000 (10%)]\tLoss: 0.302484\n",
            "Train Epoch: 4 [7000/60000 (12%)]\tLoss: 0.220204\n",
            "Train Epoch: 4 [8000/60000 (13%)]\tLoss: 0.281378\n",
            "Train Epoch: 4 [9000/60000 (15%)]\tLoss: 0.300038\n",
            "Train Epoch: 4 [10000/60000 (17%)]\tLoss: 0.490292\n",
            "Train Epoch: 4 [11000/60000 (18%)]\tLoss: 0.334784\n",
            "Train Epoch: 4 [12000/60000 (20%)]\tLoss: 0.492671\n",
            "Train Epoch: 4 [13000/60000 (22%)]\tLoss: 0.335905\n",
            "Train Epoch: 4 [14000/60000 (23%)]\tLoss: 0.247447\n",
            "Train Epoch: 4 [15000/60000 (25%)]\tLoss: 0.199635\n",
            "Train Epoch: 4 [16000/60000 (27%)]\tLoss: 0.345046\n",
            "Train Epoch: 4 [17000/60000 (28%)]\tLoss: 0.276898\n",
            "Train Epoch: 4 [18000/60000 (30%)]\tLoss: 0.212172\n",
            "Train Epoch: 4 [19000/60000 (32%)]\tLoss: 0.275714\n",
            "Train Epoch: 4 [20000/60000 (33%)]\tLoss: 0.353794\n",
            "Train Epoch: 4 [21000/60000 (35%)]\tLoss: 0.307194\n",
            "Train Epoch: 4 [22000/60000 (37%)]\tLoss: 0.340092\n",
            "Train Epoch: 4 [23000/60000 (38%)]\tLoss: 0.143624\n",
            "Train Epoch: 4 [24000/60000 (40%)]\tLoss: 0.517729\n",
            "Train Epoch: 4 [25000/60000 (42%)]\tLoss: 0.315817\n",
            "Train Epoch: 4 [26000/60000 (43%)]\tLoss: 0.535775\n",
            "Train Epoch: 4 [27000/60000 (45%)]\tLoss: 0.423221\n",
            "Train Epoch: 4 [28000/60000 (47%)]\tLoss: 0.478507\n",
            "Train Epoch: 4 [29000/60000 (48%)]\tLoss: 0.282258\n",
            "Train Epoch: 4 [30000/60000 (50%)]\tLoss: 0.355546\n",
            "Train Epoch: 4 [31000/60000 (52%)]\tLoss: 0.165931\n",
            "Train Epoch: 4 [32000/60000 (53%)]\tLoss: 0.275900\n",
            "Train Epoch: 4 [33000/60000 (55%)]\tLoss: 0.157637\n",
            "Train Epoch: 4 [34000/60000 (57%)]\tLoss: 0.241272\n",
            "Train Epoch: 4 [35000/60000 (58%)]\tLoss: 0.422517\n",
            "Train Epoch: 4 [36000/60000 (60%)]\tLoss: 0.160104\n",
            "Train Epoch: 4 [37000/60000 (62%)]\tLoss: 0.283194\n",
            "Train Epoch: 4 [38000/60000 (63%)]\tLoss: 0.319234\n",
            "Train Epoch: 4 [39000/60000 (65%)]\tLoss: 0.204039\n",
            "Train Epoch: 4 [40000/60000 (67%)]\tLoss: 0.168013\n",
            "Train Epoch: 4 [41000/60000 (68%)]\tLoss: 0.387655\n",
            "Train Epoch: 4 [42000/60000 (70%)]\tLoss: 0.464245\n",
            "Train Epoch: 4 [43000/60000 (72%)]\tLoss: 0.293278\n",
            "Train Epoch: 4 [44000/60000 (73%)]\tLoss: 0.237159\n",
            "Train Epoch: 4 [45000/60000 (75%)]\tLoss: 0.277535\n",
            "Train Epoch: 4 [46000/60000 (77%)]\tLoss: 0.223312\n",
            "Train Epoch: 4 [47000/60000 (78%)]\tLoss: 0.369193\n",
            "Train Epoch: 4 [48000/60000 (80%)]\tLoss: 0.285179\n",
            "Train Epoch: 4 [49000/60000 (82%)]\tLoss: 0.273951\n",
            "Train Epoch: 4 [50000/60000 (83%)]\tLoss: 0.253641\n",
            "Train Epoch: 4 [51000/60000 (85%)]\tLoss: 0.327472\n",
            "Train Epoch: 4 [52000/60000 (87%)]\tLoss: 0.224128\n",
            "Train Epoch: 4 [53000/60000 (88%)]\tLoss: 0.305802\n",
            "Train Epoch: 4 [54000/60000 (90%)]\tLoss: 0.305737\n",
            "Train Epoch: 4 [55000/60000 (92%)]\tLoss: 0.284204\n",
            "Train Epoch: 4 [56000/60000 (93%)]\tLoss: 0.273542\n",
            "Train Epoch: 4 [57000/60000 (95%)]\tLoss: 0.352437\n",
            "Train Epoch: 4 [58000/60000 (97%)]\tLoss: 0.311794\n",
            "Train Epoch: 4 [59000/60000 (98%)]\tLoss: 0.238490\n",
            "\n",
            "Test set: Avg. loss: 0.1110, Accuracy: 58070/60000 (97%)\n",
            "\n",
            "Train Epoch: 5 [0/60000 (0%)]\tLoss: 0.247685\n",
            "Train Epoch: 5 [1000/60000 (2%)]\tLoss: 0.468039\n",
            "Train Epoch: 5 [2000/60000 (3%)]\tLoss: 0.222086\n",
            "Train Epoch: 5 [3000/60000 (5%)]\tLoss: 0.351241\n",
            "Train Epoch: 5 [4000/60000 (7%)]\tLoss: 0.283510\n",
            "Train Epoch: 5 [5000/60000 (8%)]\tLoss: 0.197691\n",
            "Train Epoch: 5 [6000/60000 (10%)]\tLoss: 0.220808\n",
            "Train Epoch: 5 [7000/60000 (12%)]\tLoss: 0.189619\n",
            "Train Epoch: 5 [8000/60000 (13%)]\tLoss: 0.280869\n",
            "Train Epoch: 5 [9000/60000 (15%)]\tLoss: 0.239765\n",
            "Train Epoch: 5 [10000/60000 (17%)]\tLoss: 0.155825\n",
            "Train Epoch: 5 [11000/60000 (18%)]\tLoss: 0.175846\n",
            "Train Epoch: 5 [12000/60000 (20%)]\tLoss: 0.501446\n",
            "Train Epoch: 5 [13000/60000 (22%)]\tLoss: 0.329694\n",
            "Train Epoch: 5 [14000/60000 (23%)]\tLoss: 0.233457\n",
            "Train Epoch: 5 [15000/60000 (25%)]\tLoss: 0.290991\n",
            "Train Epoch: 5 [16000/60000 (27%)]\tLoss: 0.210780\n",
            "Train Epoch: 5 [17000/60000 (28%)]\tLoss: 0.404985\n",
            "Train Epoch: 5 [18000/60000 (30%)]\tLoss: 0.208522\n",
            "Train Epoch: 5 [19000/60000 (32%)]\tLoss: 0.360970\n",
            "Train Epoch: 5 [20000/60000 (33%)]\tLoss: 0.130253\n",
            "Train Epoch: 5 [21000/60000 (35%)]\tLoss: 0.278720\n",
            "Train Epoch: 5 [22000/60000 (37%)]\tLoss: 0.183056\n",
            "Train Epoch: 5 [23000/60000 (38%)]\tLoss: 0.260278\n",
            "Train Epoch: 5 [24000/60000 (40%)]\tLoss: 0.301514\n",
            "Train Epoch: 5 [25000/60000 (42%)]\tLoss: 0.263296\n",
            "Train Epoch: 5 [26000/60000 (43%)]\tLoss: 0.336399\n",
            "Train Epoch: 5 [27000/60000 (45%)]\tLoss: 0.186701\n",
            "Train Epoch: 5 [28000/60000 (47%)]\tLoss: 0.239309\n",
            "Train Epoch: 5 [29000/60000 (48%)]\tLoss: 0.270143\n",
            "Train Epoch: 5 [30000/60000 (50%)]\tLoss: 0.395104\n",
            "Train Epoch: 5 [31000/60000 (52%)]\tLoss: 0.321121\n",
            "Train Epoch: 5 [32000/60000 (53%)]\tLoss: 0.246749\n",
            "Train Epoch: 5 [33000/60000 (55%)]\tLoss: 0.241129\n",
            "Train Epoch: 5 [34000/60000 (57%)]\tLoss: 0.173788\n",
            "Train Epoch: 5 [35000/60000 (58%)]\tLoss: 0.265750\n",
            "Train Epoch: 5 [36000/60000 (60%)]\tLoss: 0.173751\n",
            "Train Epoch: 5 [37000/60000 (62%)]\tLoss: 0.271720\n",
            "Train Epoch: 5 [38000/60000 (63%)]\tLoss: 0.301565\n",
            "Train Epoch: 5 [39000/60000 (65%)]\tLoss: 0.201723\n",
            "Train Epoch: 5 [40000/60000 (67%)]\tLoss: 0.326051\n",
            "Train Epoch: 5 [41000/60000 (68%)]\tLoss: 0.237797\n",
            "Train Epoch: 5 [42000/60000 (70%)]\tLoss: 0.343879\n",
            "Train Epoch: 5 [43000/60000 (72%)]\tLoss: 0.197954\n",
            "Train Epoch: 5 [44000/60000 (73%)]\tLoss: 0.228577\n",
            "Train Epoch: 5 [45000/60000 (75%)]\tLoss: 0.301428\n",
            "Train Epoch: 5 [46000/60000 (77%)]\tLoss: 0.486787\n",
            "Train Epoch: 5 [47000/60000 (78%)]\tLoss: 0.282195\n",
            "Train Epoch: 5 [48000/60000 (80%)]\tLoss: 0.260419\n",
            "Train Epoch: 5 [49000/60000 (82%)]\tLoss: 0.160448\n",
            "Train Epoch: 5 [50000/60000 (83%)]\tLoss: 0.259368\n",
            "Train Epoch: 5 [51000/60000 (85%)]\tLoss: 0.174765\n",
            "Train Epoch: 5 [52000/60000 (87%)]\tLoss: 0.347154\n",
            "Train Epoch: 5 [53000/60000 (88%)]\tLoss: 0.499418\n",
            "Train Epoch: 5 [54000/60000 (90%)]\tLoss: 0.228842\n",
            "Train Epoch: 5 [55000/60000 (92%)]\tLoss: 0.199993\n",
            "Train Epoch: 5 [56000/60000 (93%)]\tLoss: 0.212813\n",
            "Train Epoch: 5 [57000/60000 (95%)]\tLoss: 0.138018\n",
            "Train Epoch: 5 [58000/60000 (97%)]\tLoss: 0.296231\n",
            "Train Epoch: 5 [59000/60000 (98%)]\tLoss: 0.222893\n",
            "\n",
            "Test set: Avg. loss: 0.0988, Accuracy: 58230/60000 (97%)\n",
            "\n",
            "Train Epoch: 6 [0/60000 (0%)]\tLoss: 0.203214\n",
            "Train Epoch: 6 [1000/60000 (2%)]\tLoss: 0.245468\n",
            "Train Epoch: 6 [2000/60000 (3%)]\tLoss: 0.283350\n",
            "Train Epoch: 6 [3000/60000 (5%)]\tLoss: 0.191414\n",
            "Train Epoch: 6 [4000/60000 (7%)]\tLoss: 0.282075\n",
            "Train Epoch: 6 [5000/60000 (8%)]\tLoss: 0.342986\n",
            "Train Epoch: 6 [6000/60000 (10%)]\tLoss: 0.244908\n",
            "Train Epoch: 6 [7000/60000 (12%)]\tLoss: 0.265184\n",
            "Train Epoch: 6 [8000/60000 (13%)]\tLoss: 0.149963\n",
            "Train Epoch: 6 [9000/60000 (15%)]\tLoss: 0.466194\n",
            "Train Epoch: 6 [10000/60000 (17%)]\tLoss: 0.202519\n",
            "Train Epoch: 6 [11000/60000 (18%)]\tLoss: 0.388708\n",
            "Train Epoch: 6 [12000/60000 (20%)]\tLoss: 0.210314\n",
            "Train Epoch: 6 [13000/60000 (22%)]\tLoss: 0.282281\n",
            "Train Epoch: 6 [14000/60000 (23%)]\tLoss: 0.247308\n",
            "Train Epoch: 6 [15000/60000 (25%)]\tLoss: 0.201654\n",
            "Train Epoch: 6 [16000/60000 (27%)]\tLoss: 0.206152\n",
            "Train Epoch: 6 [17000/60000 (28%)]\tLoss: 0.171638\n",
            "Train Epoch: 6 [18000/60000 (30%)]\tLoss: 0.134842\n",
            "Train Epoch: 6 [19000/60000 (32%)]\tLoss: 0.149719\n",
            "Train Epoch: 6 [20000/60000 (33%)]\tLoss: 0.351438\n",
            "Train Epoch: 6 [21000/60000 (35%)]\tLoss: 0.139321\n",
            "Train Epoch: 6 [22000/60000 (37%)]\tLoss: 0.425716\n",
            "Train Epoch: 6 [23000/60000 (38%)]\tLoss: 0.187120\n",
            "Train Epoch: 6 [24000/60000 (40%)]\tLoss: 0.344995\n",
            "Train Epoch: 6 [25000/60000 (42%)]\tLoss: 0.147484\n",
            "Train Epoch: 6 [26000/60000 (43%)]\tLoss: 0.212707\n",
            "Train Epoch: 6 [27000/60000 (45%)]\tLoss: 0.537832\n",
            "Train Epoch: 6 [28000/60000 (47%)]\tLoss: 0.213427\n",
            "Train Epoch: 6 [29000/60000 (48%)]\tLoss: 0.243091\n",
            "Train Epoch: 6 [30000/60000 (50%)]\tLoss: 0.162875\n",
            "Train Epoch: 6 [31000/60000 (52%)]\tLoss: 0.306728\n",
            "Train Epoch: 6 [32000/60000 (53%)]\tLoss: 0.584807\n",
            "Train Epoch: 6 [33000/60000 (55%)]\tLoss: 0.248287\n",
            "Train Epoch: 6 [34000/60000 (57%)]\tLoss: 0.219975\n",
            "Train Epoch: 6 [35000/60000 (58%)]\tLoss: 0.282210\n",
            "Train Epoch: 6 [36000/60000 (60%)]\tLoss: 0.252043\n",
            "Train Epoch: 6 [37000/60000 (62%)]\tLoss: 0.377095\n",
            "Train Epoch: 6 [38000/60000 (63%)]\tLoss: 0.332973\n",
            "Train Epoch: 6 [39000/60000 (65%)]\tLoss: 0.137489\n",
            "Train Epoch: 6 [40000/60000 (67%)]\tLoss: 0.287091\n",
            "Train Epoch: 6 [41000/60000 (68%)]\tLoss: 0.233634\n",
            "Train Epoch: 6 [42000/60000 (70%)]\tLoss: 0.226476\n",
            "Train Epoch: 6 [43000/60000 (72%)]\tLoss: 0.222964\n",
            "Train Epoch: 6 [44000/60000 (73%)]\tLoss: 0.174867\n",
            "Train Epoch: 6 [45000/60000 (75%)]\tLoss: 0.230651\n",
            "Train Epoch: 6 [46000/60000 (77%)]\tLoss: 0.172523\n",
            "Train Epoch: 6 [47000/60000 (78%)]\tLoss: 0.232355\n",
            "Train Epoch: 6 [48000/60000 (80%)]\tLoss: 0.163209\n",
            "Train Epoch: 6 [49000/60000 (82%)]\tLoss: 0.399774\n",
            "Train Epoch: 6 [50000/60000 (83%)]\tLoss: 0.302279\n",
            "Train Epoch: 6 [51000/60000 (85%)]\tLoss: 0.185730\n",
            "Train Epoch: 6 [52000/60000 (87%)]\tLoss: 0.155791\n",
            "Train Epoch: 6 [53000/60000 (88%)]\tLoss: 0.154049\n",
            "Train Epoch: 6 [54000/60000 (90%)]\tLoss: 0.148651\n",
            "Train Epoch: 6 [55000/60000 (92%)]\tLoss: 0.282685\n",
            "Train Epoch: 6 [56000/60000 (93%)]\tLoss: 0.201655\n",
            "Train Epoch: 6 [57000/60000 (95%)]\tLoss: 0.265625\n",
            "Train Epoch: 6 [58000/60000 (97%)]\tLoss: 0.304085\n",
            "Train Epoch: 6 [59000/60000 (98%)]\tLoss: 0.223583\n",
            "\n",
            "Test set: Avg. loss: 0.0889, Accuracy: 58351/60000 (97%)\n",
            "\n",
            "Train Epoch: 7 [0/60000 (0%)]\tLoss: 0.211879\n",
            "Train Epoch: 7 [1000/60000 (2%)]\tLoss: 0.141668\n",
            "Train Epoch: 7 [2000/60000 (3%)]\tLoss: 0.294664\n",
            "Train Epoch: 7 [3000/60000 (5%)]\tLoss: 0.168582\n",
            "Train Epoch: 7 [4000/60000 (7%)]\tLoss: 0.378871\n",
            "Train Epoch: 7 [5000/60000 (8%)]\tLoss: 0.179041\n",
            "Train Epoch: 7 [6000/60000 (10%)]\tLoss: 0.260403\n",
            "Train Epoch: 7 [7000/60000 (12%)]\tLoss: 0.127319\n",
            "Train Epoch: 7 [8000/60000 (13%)]\tLoss: 0.203486\n",
            "Train Epoch: 7 [9000/60000 (15%)]\tLoss: 0.349590\n",
            "Train Epoch: 7 [10000/60000 (17%)]\tLoss: 0.245050\n",
            "Train Epoch: 7 [11000/60000 (18%)]\tLoss: 0.157222\n",
            "Train Epoch: 7 [12000/60000 (20%)]\tLoss: 0.229264\n",
            "Train Epoch: 7 [13000/60000 (22%)]\tLoss: 0.228186\n",
            "Train Epoch: 7 [14000/60000 (23%)]\tLoss: 0.247853\n",
            "Train Epoch: 7 [15000/60000 (25%)]\tLoss: 0.290030\n",
            "Train Epoch: 7 [16000/60000 (27%)]\tLoss: 0.202400\n",
            "Train Epoch: 7 [17000/60000 (28%)]\tLoss: 0.347167\n",
            "Train Epoch: 7 [18000/60000 (30%)]\tLoss: 0.377288\n",
            "Train Epoch: 7 [19000/60000 (32%)]\tLoss: 0.250618\n",
            "Train Epoch: 7 [20000/60000 (33%)]\tLoss: 0.127705\n",
            "Train Epoch: 7 [21000/60000 (35%)]\tLoss: 0.286640\n",
            "Train Epoch: 7 [22000/60000 (37%)]\tLoss: 0.180055\n",
            "Train Epoch: 7 [23000/60000 (38%)]\tLoss: 0.201167\n",
            "Train Epoch: 7 [24000/60000 (40%)]\tLoss: 0.362153\n",
            "Train Epoch: 7 [25000/60000 (42%)]\tLoss: 0.193787\n",
            "Train Epoch: 7 [26000/60000 (43%)]\tLoss: 0.178807\n",
            "Train Epoch: 7 [27000/60000 (45%)]\tLoss: 0.257562\n",
            "Train Epoch: 7 [28000/60000 (47%)]\tLoss: 0.217701\n",
            "Train Epoch: 7 [29000/60000 (48%)]\tLoss: 0.244752\n",
            "Train Epoch: 7 [30000/60000 (50%)]\tLoss: 0.321845\n",
            "Train Epoch: 7 [31000/60000 (52%)]\tLoss: 0.284354\n",
            "Train Epoch: 7 [32000/60000 (53%)]\tLoss: 0.197253\n",
            "Train Epoch: 7 [33000/60000 (55%)]\tLoss: 0.130443\n",
            "Train Epoch: 7 [34000/60000 (57%)]\tLoss: 0.129687\n",
            "Train Epoch: 7 [35000/60000 (58%)]\tLoss: 0.308915\n",
            "Train Epoch: 7 [36000/60000 (60%)]\tLoss: 0.371069\n",
            "Train Epoch: 7 [37000/60000 (62%)]\tLoss: 0.250475\n",
            "Train Epoch: 7 [38000/60000 (63%)]\tLoss: 0.235482\n",
            "Train Epoch: 7 [39000/60000 (65%)]\tLoss: 0.164211\n",
            "Train Epoch: 7 [40000/60000 (67%)]\tLoss: 0.115575\n",
            "Train Epoch: 7 [41000/60000 (68%)]\tLoss: 0.076286\n",
            "Train Epoch: 7 [42000/60000 (70%)]\tLoss: 0.197174\n",
            "Train Epoch: 7 [43000/60000 (72%)]\tLoss: 0.220345\n",
            "Train Epoch: 7 [44000/60000 (73%)]\tLoss: 0.128165\n",
            "Train Epoch: 7 [45000/60000 (75%)]\tLoss: 0.238459\n",
            "Train Epoch: 7 [46000/60000 (77%)]\tLoss: 0.312577\n",
            "Train Epoch: 7 [47000/60000 (78%)]\tLoss: 0.254024\n",
            "Train Epoch: 7 [48000/60000 (80%)]\tLoss: 0.376464\n",
            "Train Epoch: 7 [49000/60000 (82%)]\tLoss: 0.345731\n",
            "Train Epoch: 7 [50000/60000 (83%)]\tLoss: 0.326691\n",
            "Train Epoch: 7 [51000/60000 (85%)]\tLoss: 0.271431\n",
            "Train Epoch: 7 [52000/60000 (87%)]\tLoss: 0.153778\n",
            "Train Epoch: 7 [53000/60000 (88%)]\tLoss: 0.290886\n",
            "Train Epoch: 7 [54000/60000 (90%)]\tLoss: 0.176495\n",
            "Train Epoch: 7 [55000/60000 (92%)]\tLoss: 0.261754\n",
            "Train Epoch: 7 [56000/60000 (93%)]\tLoss: 0.219868\n",
            "Train Epoch: 7 [57000/60000 (95%)]\tLoss: 0.344635\n",
            "Train Epoch: 7 [58000/60000 (97%)]\tLoss: 0.164136\n",
            "Train Epoch: 7 [59000/60000 (98%)]\tLoss: 0.162437\n",
            "\n",
            "Test set: Avg. loss: 0.0799, Accuracy: 58517/60000 (98%)\n",
            "\n",
            "Train Epoch: 8 [0/60000 (0%)]\tLoss: 0.170680\n",
            "Train Epoch: 8 [1000/60000 (2%)]\tLoss: 0.447960\n",
            "Train Epoch: 8 [2000/60000 (3%)]\tLoss: 0.160987\n",
            "Train Epoch: 8 [3000/60000 (5%)]\tLoss: 0.195829\n",
            "Train Epoch: 8 [4000/60000 (7%)]\tLoss: 0.255328\n",
            "Train Epoch: 8 [5000/60000 (8%)]\tLoss: 0.169909\n",
            "Train Epoch: 8 [6000/60000 (10%)]\tLoss: 0.224455\n",
            "Train Epoch: 8 [7000/60000 (12%)]\tLoss: 0.217402\n",
            "Train Epoch: 8 [8000/60000 (13%)]\tLoss: 0.183973\n",
            "Train Epoch: 8 [9000/60000 (15%)]\tLoss: 0.179322\n",
            "Train Epoch: 8 [10000/60000 (17%)]\tLoss: 0.149329\n",
            "Train Epoch: 8 [11000/60000 (18%)]\tLoss: 0.142028\n",
            "Train Epoch: 8 [12000/60000 (20%)]\tLoss: 0.274186\n",
            "Train Epoch: 8 [13000/60000 (22%)]\tLoss: 0.197001\n",
            "Train Epoch: 8 [14000/60000 (23%)]\tLoss: 0.382962\n",
            "Train Epoch: 8 [15000/60000 (25%)]\tLoss: 0.185808\n",
            "Train Epoch: 8 [16000/60000 (27%)]\tLoss: 0.226868\n",
            "Train Epoch: 8 [17000/60000 (28%)]\tLoss: 0.311377\n",
            "Train Epoch: 8 [18000/60000 (30%)]\tLoss: 0.108739\n",
            "Train Epoch: 8 [19000/60000 (32%)]\tLoss: 0.142765\n",
            "Train Epoch: 8 [20000/60000 (33%)]\tLoss: 0.287650\n",
            "Train Epoch: 8 [21000/60000 (35%)]\tLoss: 0.117290\n",
            "Train Epoch: 8 [22000/60000 (37%)]\tLoss: 0.302718\n",
            "Train Epoch: 8 [23000/60000 (38%)]\tLoss: 0.277648\n",
            "Train Epoch: 8 [24000/60000 (40%)]\tLoss: 0.237709\n",
            "Train Epoch: 8 [25000/60000 (42%)]\tLoss: 0.162585\n",
            "Train Epoch: 8 [26000/60000 (43%)]\tLoss: 0.296566\n",
            "Train Epoch: 8 [27000/60000 (45%)]\tLoss: 0.293775\n",
            "Train Epoch: 8 [28000/60000 (47%)]\tLoss: 0.243421\n",
            "Train Epoch: 8 [29000/60000 (48%)]\tLoss: 0.293661\n",
            "Train Epoch: 8 [30000/60000 (50%)]\tLoss: 0.217108\n",
            "Train Epoch: 8 [31000/60000 (52%)]\tLoss: 0.199247\n",
            "Train Epoch: 8 [32000/60000 (53%)]\tLoss: 0.211209\n",
            "Train Epoch: 8 [33000/60000 (55%)]\tLoss: 0.315609\n",
            "Train Epoch: 8 [34000/60000 (57%)]\tLoss: 0.207921\n",
            "Train Epoch: 8 [35000/60000 (58%)]\tLoss: 0.165029\n",
            "Train Epoch: 8 [36000/60000 (60%)]\tLoss: 0.218841\n",
            "Train Epoch: 8 [37000/60000 (62%)]\tLoss: 0.276287\n",
            "Train Epoch: 8 [38000/60000 (63%)]\tLoss: 0.193644\n",
            "Train Epoch: 8 [39000/60000 (65%)]\tLoss: 0.344921\n",
            "Train Epoch: 8 [40000/60000 (67%)]\tLoss: 0.162494\n",
            "Train Epoch: 8 [41000/60000 (68%)]\tLoss: 0.273030\n",
            "Train Epoch: 8 [42000/60000 (70%)]\tLoss: 0.276152\n",
            "Train Epoch: 8 [43000/60000 (72%)]\tLoss: 0.193707\n",
            "Train Epoch: 8 [44000/60000 (73%)]\tLoss: 0.097745\n",
            "Train Epoch: 8 [45000/60000 (75%)]\tLoss: 0.273574\n",
            "Train Epoch: 8 [46000/60000 (77%)]\tLoss: 0.129605\n",
            "Train Epoch: 8 [47000/60000 (78%)]\tLoss: 0.153829\n",
            "Train Epoch: 8 [48000/60000 (80%)]\tLoss: 0.276245\n",
            "Train Epoch: 8 [49000/60000 (82%)]\tLoss: 0.310593\n",
            "Train Epoch: 8 [50000/60000 (83%)]\tLoss: 0.183165\n",
            "Train Epoch: 8 [51000/60000 (85%)]\tLoss: 0.150449\n",
            "Train Epoch: 8 [52000/60000 (87%)]\tLoss: 0.157812\n",
            "Train Epoch: 8 [53000/60000 (88%)]\tLoss: 0.156090\n",
            "Train Epoch: 8 [54000/60000 (90%)]\tLoss: 0.191453\n",
            "Train Epoch: 8 [55000/60000 (92%)]\tLoss: 0.265802\n",
            "Train Epoch: 8 [56000/60000 (93%)]\tLoss: 0.148458\n",
            "Train Epoch: 8 [57000/60000 (95%)]\tLoss: 0.220288\n",
            "Train Epoch: 8 [58000/60000 (97%)]\tLoss: 0.120340\n",
            "Train Epoch: 8 [59000/60000 (98%)]\tLoss: 0.347581\n",
            "\n",
            "Test set: Avg. loss: 0.0769, Accuracy: 58604/60000 (98%)\n",
            "\n"
          ]
        }
      ],
      "source": [
        "# test()\n",
        "# keep track of the progress with some printouts\n",
        "train_losses = []\n",
        "train_counter = []\n",
        "test_losses = []\n",
        "test_counter = [i*len(train_loader.dataset) for i in range(n_epochs + 1)]\n",
        "\n",
        "for epoch in range(1, n_epochs + 1):\n",
        "  train(epoch)\n",
        "  test()"
      ]
    },
    {
      "cell_type": "markdown",
      "metadata": {
        "id": "n1fdId8Ty3TN"
      },
      "source": [
        "### Evaluating Performance"
      ]
    },
    {
      "cell_type": "code",
      "execution_count": null,
      "metadata": {
        "colab": {
          "base_uri": "https://localhost:8080/",
          "height": 453
        },
        "id": "vCDPjGgmyD_R",
        "outputId": "cd74fad1-d4da-43ff-9334-84dd88272c3f"
      },
      "outputs": [
        {
          "data": {
            "text/plain": [
              "Text(0, 0.5, 'negative log likelihood loss')"
            ]
          },
          "execution_count": 308,
          "metadata": {},
          "output_type": "execute_result"
        },
        {
          "data": {
            "image/svg+xml": "<?xml version=\"1.0\" encoding=\"utf-8\" standalone=\"no\"?>\n<!DOCTYPE svg PUBLIC \"-//W3C//DTD SVG 1.1//EN\"\n  \"http://www.w3.org/Graphics/SVG/1.1/DTD/svg11.dtd\">\n<svg xmlns:xlink=\"http://www.w3.org/1999/xlink\" width=\"424.483295pt\" height=\"310.86825pt\" viewBox=\"0 0 424.483295 310.86825\" xmlns=\"http://www.w3.org/2000/svg\" version=\"1.1\">\n <metadata>\n  <rdf:RDF xmlns:dc=\"http://purl.org/dc/elements/1.1/\" xmlns:cc=\"http://creativecommons.org/ns#\" xmlns:rdf=\"http://www.w3.org/1999/02/22-rdf-syntax-ns#\">\n   <cc:Work>\n    <dc:type rdf:resource=\"http://purl.org/dc/dcmitype/StillImage\"/>\n    <dc:date>2024-02-19T14:47:06.488944</dc:date>\n    <dc:format>image/svg+xml</dc:format>\n    <dc:creator>\n     <cc:Agent>\n      <dc:title>Matplotlib v3.7.1, https://matplotlib.org/</dc:title>\n     </cc:Agent>\n    </dc:creator>\n   </cc:Work>\n  </rdf:RDF>\n </metadata>\n <defs>\n  <style type=\"text/css\">*{stroke-linejoin: round; stroke-linecap: butt}</style>\n </defs>\n <g id=\"figure_1\">\n  <g id=\"patch_1\">\n   <path d=\"M 0 310.86825 \nL 424.483295 310.86825 \nL 424.483295 0 \nL 0 0 \nz\n\" style=\"fill: #ffffff\"/>\n  </g>\n  <g id=\"axes_1\">\n   <g id=\"patch_2\">\n    <path d=\"M 43.78125 273.312 \nL 400.90125 273.312 \nL 400.90125 7.2 \nL 43.78125 7.2 \nz\n\" style=\"fill: #ffffff\"/>\n   </g>\n   <g id=\"PathCollection_1\">\n    <defs>\n     <path id=\"mff371a8dde\" d=\"M 0 3 \nC 0.795609 3 1.55874 2.683901 2.12132 2.12132 \nC 2.683901 1.55874 3 0.795609 3 0 \nC 3 -0.795609 2.683901 -1.55874 2.12132 -2.12132 \nC 1.55874 -2.683901 0.795609 -3 0 -3 \nC -0.795609 -3 -1.55874 -2.683901 -2.12132 -2.12132 \nC -2.683901 -1.55874 -3 -0.795609 -3 0 \nC -3 0.795609 -2.683901 1.55874 -2.12132 2.12132 \nC -1.55874 2.683901 -0.795609 3 0 3 \nz\n\" style=\"stroke: #ff0000\"/>\n    </defs>\n    <g clip-path=\"url(#pb7ef585033)\">\n     <use xlink:href=\"#mff371a8dde\" x=\"60.013977\" y=\"19.296\" style=\"fill: #ff0000; stroke: #ff0000\"/>\n     <use xlink:href=\"#mff371a8dde\" x=\"100.595795\" y=\"239.981482\" style=\"fill: #ff0000; stroke: #ff0000\"/>\n     <use xlink:href=\"#mff371a8dde\" x=\"141.177614\" y=\"251.427172\" style=\"fill: #ff0000; stroke: #ff0000\"/>\n     <use xlink:href=\"#mff371a8dde\" x=\"181.759432\" y=\"255.299872\" style=\"fill: #ff0000; stroke: #ff0000\"/>\n     <use xlink:href=\"#mff371a8dde\" x=\"222.34125\" y=\"257.533353\" style=\"fill: #ff0000; stroke: #ff0000\"/>\n     <use xlink:href=\"#mff371a8dde\" x=\"262.923068\" y=\"258.829211\" style=\"fill: #ff0000; stroke: #ff0000\"/>\n     <use xlink:href=\"#mff371a8dde\" x=\"303.504886\" y=\"259.877104\" style=\"fill: #ff0000; stroke: #ff0000\"/>\n     <use xlink:href=\"#mff371a8dde\" x=\"344.086705\" y=\"260.834914\" style=\"fill: #ff0000; stroke: #ff0000\"/>\n     <use xlink:href=\"#mff371a8dde\" x=\"384.668523\" y=\"261.15313\" style=\"fill: #ff0000; stroke: #ff0000\"/>\n    </g>\n   </g>\n   <g id=\"matplotlib.axis_1\">\n    <g id=\"xtick_1\">\n     <g id=\"line2d_1\">\n      <defs>\n       <path id=\"mf7b76e3a19\" d=\"M 0 0 \nL 0 3.5 \n\" style=\"stroke: #000000; stroke-width: 0.8\"/>\n      </defs>\n      <g>\n       <use xlink:href=\"#mf7b76e3a19\" x=\"60.013977\" y=\"273.312\" style=\"stroke: #000000; stroke-width: 0.8\"/>\n      </g>\n     </g>\n     <g id=\"text_1\">\n      <!-- 0 -->\n      <g transform=\"translate(56.832727 287.910437) scale(0.1 -0.1)\">\n       <defs>\n        <path id=\"DejaVuSans-30\" d=\"M 2034 4250 \nQ 1547 4250 1301 3770 \nQ 1056 3291 1056 2328 \nQ 1056 1369 1301 889 \nQ 1547 409 2034 409 \nQ 2525 409 2770 889 \nQ 3016 1369 3016 2328 \nQ 3016 3291 2770 3770 \nQ 2525 4250 2034 4250 \nz\nM 2034 4750 \nQ 2819 4750 3233 4129 \nQ 3647 3509 3647 2328 \nQ 3647 1150 3233 529 \nQ 2819 -91 2034 -91 \nQ 1250 -91 836 529 \nQ 422 1150 422 2328 \nQ 422 3509 836 4129 \nQ 1250 4750 2034 4750 \nz\n\" transform=\"scale(0.015625)\"/>\n       </defs>\n       <use xlink:href=\"#DejaVuSans-30\"/>\n      </g>\n     </g>\n    </g>\n    <g id=\"xtick_2\">\n     <g id=\"line2d_2\">\n      <g>\n       <use xlink:href=\"#mf7b76e3a19\" x=\"127.650341\" y=\"273.312\" style=\"stroke: #000000; stroke-width: 0.8\"/>\n      </g>\n     </g>\n     <g id=\"text_2\">\n      <!-- 100000 -->\n      <g transform=\"translate(108.562841 287.910437) scale(0.1 -0.1)\">\n       <defs>\n        <path id=\"DejaVuSans-31\" d=\"M 794 531 \nL 1825 531 \nL 1825 4091 \nL 703 3866 \nL 703 4441 \nL 1819 4666 \nL 2450 4666 \nL 2450 531 \nL 3481 531 \nL 3481 0 \nL 794 0 \nL 794 531 \nz\n\" transform=\"scale(0.015625)\"/>\n       </defs>\n       <use xlink:href=\"#DejaVuSans-31\"/>\n       <use xlink:href=\"#DejaVuSans-30\" x=\"63.623047\"/>\n       <use xlink:href=\"#DejaVuSans-30\" x=\"127.246094\"/>\n       <use xlink:href=\"#DejaVuSans-30\" x=\"190.869141\"/>\n       <use xlink:href=\"#DejaVuSans-30\" x=\"254.492188\"/>\n       <use xlink:href=\"#DejaVuSans-30\" x=\"318.115234\"/>\n      </g>\n     </g>\n    </g>\n    <g id=\"xtick_3\">\n     <g id=\"line2d_3\">\n      <g>\n       <use xlink:href=\"#mf7b76e3a19\" x=\"195.286705\" y=\"273.312\" style=\"stroke: #000000; stroke-width: 0.8\"/>\n      </g>\n     </g>\n     <g id=\"text_3\">\n      <!-- 200000 -->\n      <g transform=\"translate(176.199205 287.910437) scale(0.1 -0.1)\">\n       <defs>\n        <path id=\"DejaVuSans-32\" d=\"M 1228 531 \nL 3431 531 \nL 3431 0 \nL 469 0 \nL 469 531 \nQ 828 903 1448 1529 \nQ 2069 2156 2228 2338 \nQ 2531 2678 2651 2914 \nQ 2772 3150 2772 3378 \nQ 2772 3750 2511 3984 \nQ 2250 4219 1831 4219 \nQ 1534 4219 1204 4116 \nQ 875 4013 500 3803 \nL 500 4441 \nQ 881 4594 1212 4672 \nQ 1544 4750 1819 4750 \nQ 2544 4750 2975 4387 \nQ 3406 4025 3406 3419 \nQ 3406 3131 3298 2873 \nQ 3191 2616 2906 2266 \nQ 2828 2175 2409 1742 \nQ 1991 1309 1228 531 \nz\n\" transform=\"scale(0.015625)\"/>\n       </defs>\n       <use xlink:href=\"#DejaVuSans-32\"/>\n       <use xlink:href=\"#DejaVuSans-30\" x=\"63.623047\"/>\n       <use xlink:href=\"#DejaVuSans-30\" x=\"127.246094\"/>\n       <use xlink:href=\"#DejaVuSans-30\" x=\"190.869141\"/>\n       <use xlink:href=\"#DejaVuSans-30\" x=\"254.492188\"/>\n       <use xlink:href=\"#DejaVuSans-30\" x=\"318.115234\"/>\n      </g>\n     </g>\n    </g>\n    <g id=\"xtick_4\">\n     <g id=\"line2d_4\">\n      <g>\n       <use xlink:href=\"#mf7b76e3a19\" x=\"262.923068\" y=\"273.312\" style=\"stroke: #000000; stroke-width: 0.8\"/>\n      </g>\n     </g>\n     <g id=\"text_4\">\n      <!-- 300000 -->\n      <g transform=\"translate(243.835568 287.910437) scale(0.1 -0.1)\">\n       <defs>\n        <path id=\"DejaVuSans-33\" d=\"M 2597 2516 \nQ 3050 2419 3304 2112 \nQ 3559 1806 3559 1356 \nQ 3559 666 3084 287 \nQ 2609 -91 1734 -91 \nQ 1441 -91 1130 -33 \nQ 819 25 488 141 \nL 488 750 \nQ 750 597 1062 519 \nQ 1375 441 1716 441 \nQ 2309 441 2620 675 \nQ 2931 909 2931 1356 \nQ 2931 1769 2642 2001 \nQ 2353 2234 1838 2234 \nL 1294 2234 \nL 1294 2753 \nL 1863 2753 \nQ 2328 2753 2575 2939 \nQ 2822 3125 2822 3475 \nQ 2822 3834 2567 4026 \nQ 2313 4219 1838 4219 \nQ 1578 4219 1281 4162 \nQ 984 4106 628 3988 \nL 628 4550 \nQ 988 4650 1302 4700 \nQ 1616 4750 1894 4750 \nQ 2613 4750 3031 4423 \nQ 3450 4097 3450 3541 \nQ 3450 3153 3228 2886 \nQ 3006 2619 2597 2516 \nz\n\" transform=\"scale(0.015625)\"/>\n       </defs>\n       <use xlink:href=\"#DejaVuSans-33\"/>\n       <use xlink:href=\"#DejaVuSans-30\" x=\"63.623047\"/>\n       <use xlink:href=\"#DejaVuSans-30\" x=\"127.246094\"/>\n       <use xlink:href=\"#DejaVuSans-30\" x=\"190.869141\"/>\n       <use xlink:href=\"#DejaVuSans-30\" x=\"254.492188\"/>\n       <use xlink:href=\"#DejaVuSans-30\" x=\"318.115234\"/>\n      </g>\n     </g>\n    </g>\n    <g id=\"xtick_5\">\n     <g id=\"line2d_5\">\n      <g>\n       <use xlink:href=\"#mf7b76e3a19\" x=\"330.559432\" y=\"273.312\" style=\"stroke: #000000; stroke-width: 0.8\"/>\n      </g>\n     </g>\n     <g id=\"text_5\">\n      <!-- 400000 -->\n      <g transform=\"translate(311.471932 287.910437) scale(0.1 -0.1)\">\n       <defs>\n        <path id=\"DejaVuSans-34\" d=\"M 2419 4116 \nL 825 1625 \nL 2419 1625 \nL 2419 4116 \nz\nM 2253 4666 \nL 3047 4666 \nL 3047 1625 \nL 3713 1625 \nL 3713 1100 \nL 3047 1100 \nL 3047 0 \nL 2419 0 \nL 2419 1100 \nL 313 1100 \nL 313 1709 \nL 2253 4666 \nz\n\" transform=\"scale(0.015625)\"/>\n       </defs>\n       <use xlink:href=\"#DejaVuSans-34\"/>\n       <use xlink:href=\"#DejaVuSans-30\" x=\"63.623047\"/>\n       <use xlink:href=\"#DejaVuSans-30\" x=\"127.246094\"/>\n       <use xlink:href=\"#DejaVuSans-30\" x=\"190.869141\"/>\n       <use xlink:href=\"#DejaVuSans-30\" x=\"254.492188\"/>\n       <use xlink:href=\"#DejaVuSans-30\" x=\"318.115234\"/>\n      </g>\n     </g>\n    </g>\n    <g id=\"xtick_6\">\n     <g id=\"line2d_6\">\n      <g>\n       <use xlink:href=\"#mf7b76e3a19\" x=\"398.195795\" y=\"273.312\" style=\"stroke: #000000; stroke-width: 0.8\"/>\n      </g>\n     </g>\n     <g id=\"text_6\">\n      <!-- 500000 -->\n      <g transform=\"translate(379.108295 287.910437) scale(0.1 -0.1)\">\n       <defs>\n        <path id=\"DejaVuSans-35\" d=\"M 691 4666 \nL 3169 4666 \nL 3169 4134 \nL 1269 4134 \nL 1269 2991 \nQ 1406 3038 1543 3061 \nQ 1681 3084 1819 3084 \nQ 2600 3084 3056 2656 \nQ 3513 2228 3513 1497 \nQ 3513 744 3044 326 \nQ 2575 -91 1722 -91 \nQ 1428 -91 1123 -41 \nQ 819 9 494 109 \nL 494 744 \nQ 775 591 1075 516 \nQ 1375 441 1709 441 \nQ 2250 441 2565 725 \nQ 2881 1009 2881 1497 \nQ 2881 1984 2565 2268 \nQ 2250 2553 1709 2553 \nQ 1456 2553 1204 2497 \nQ 953 2441 691 2322 \nL 691 4666 \nz\n\" transform=\"scale(0.015625)\"/>\n       </defs>\n       <use xlink:href=\"#DejaVuSans-35\"/>\n       <use xlink:href=\"#DejaVuSans-30\" x=\"63.623047\"/>\n       <use xlink:href=\"#DejaVuSans-30\" x=\"127.246094\"/>\n       <use xlink:href=\"#DejaVuSans-30\" x=\"190.869141\"/>\n       <use xlink:href=\"#DejaVuSans-30\" x=\"254.492188\"/>\n       <use xlink:href=\"#DejaVuSans-30\" x=\"318.115234\"/>\n      </g>\n     </g>\n    </g>\n    <g id=\"text_7\">\n     <!-- number of training examples seen -->\n     <g transform=\"translate(136.227969 301.588562) scale(0.1 -0.1)\">\n      <defs>\n       <path id=\"DejaVuSans-6e\" d=\"M 3513 2113 \nL 3513 0 \nL 2938 0 \nL 2938 2094 \nQ 2938 2591 2744 2837 \nQ 2550 3084 2163 3084 \nQ 1697 3084 1428 2787 \nQ 1159 2491 1159 1978 \nL 1159 0 \nL 581 0 \nL 581 3500 \nL 1159 3500 \nL 1159 2956 \nQ 1366 3272 1645 3428 \nQ 1925 3584 2291 3584 \nQ 2894 3584 3203 3211 \nQ 3513 2838 3513 2113 \nz\n\" transform=\"scale(0.015625)\"/>\n       <path id=\"DejaVuSans-75\" d=\"M 544 1381 \nL 544 3500 \nL 1119 3500 \nL 1119 1403 \nQ 1119 906 1312 657 \nQ 1506 409 1894 409 \nQ 2359 409 2629 706 \nQ 2900 1003 2900 1516 \nL 2900 3500 \nL 3475 3500 \nL 3475 0 \nL 2900 0 \nL 2900 538 \nQ 2691 219 2414 64 \nQ 2138 -91 1772 -91 \nQ 1169 -91 856 284 \nQ 544 659 544 1381 \nz\nM 1991 3584 \nL 1991 3584 \nz\n\" transform=\"scale(0.015625)\"/>\n       <path id=\"DejaVuSans-6d\" d=\"M 3328 2828 \nQ 3544 3216 3844 3400 \nQ 4144 3584 4550 3584 \nQ 5097 3584 5394 3201 \nQ 5691 2819 5691 2113 \nL 5691 0 \nL 5113 0 \nL 5113 2094 \nQ 5113 2597 4934 2840 \nQ 4756 3084 4391 3084 \nQ 3944 3084 3684 2787 \nQ 3425 2491 3425 1978 \nL 3425 0 \nL 2847 0 \nL 2847 2094 \nQ 2847 2600 2669 2842 \nQ 2491 3084 2119 3084 \nQ 1678 3084 1418 2786 \nQ 1159 2488 1159 1978 \nL 1159 0 \nL 581 0 \nL 581 3500 \nL 1159 3500 \nL 1159 2956 \nQ 1356 3278 1631 3431 \nQ 1906 3584 2284 3584 \nQ 2666 3584 2933 3390 \nQ 3200 3197 3328 2828 \nz\n\" transform=\"scale(0.015625)\"/>\n       <path id=\"DejaVuSans-62\" d=\"M 3116 1747 \nQ 3116 2381 2855 2742 \nQ 2594 3103 2138 3103 \nQ 1681 3103 1420 2742 \nQ 1159 2381 1159 1747 \nQ 1159 1113 1420 752 \nQ 1681 391 2138 391 \nQ 2594 391 2855 752 \nQ 3116 1113 3116 1747 \nz\nM 1159 2969 \nQ 1341 3281 1617 3432 \nQ 1894 3584 2278 3584 \nQ 2916 3584 3314 3078 \nQ 3713 2572 3713 1747 \nQ 3713 922 3314 415 \nQ 2916 -91 2278 -91 \nQ 1894 -91 1617 61 \nQ 1341 213 1159 525 \nL 1159 0 \nL 581 0 \nL 581 4863 \nL 1159 4863 \nL 1159 2969 \nz\n\" transform=\"scale(0.015625)\"/>\n       <path id=\"DejaVuSans-65\" d=\"M 3597 1894 \nL 3597 1613 \nL 953 1613 \nQ 991 1019 1311 708 \nQ 1631 397 2203 397 \nQ 2534 397 2845 478 \nQ 3156 559 3463 722 \nL 3463 178 \nQ 3153 47 2828 -22 \nQ 2503 -91 2169 -91 \nQ 1331 -91 842 396 \nQ 353 884 353 1716 \nQ 353 2575 817 3079 \nQ 1281 3584 2069 3584 \nQ 2775 3584 3186 3129 \nQ 3597 2675 3597 1894 \nz\nM 3022 2063 \nQ 3016 2534 2758 2815 \nQ 2500 3097 2075 3097 \nQ 1594 3097 1305 2825 \nQ 1016 2553 972 2059 \nL 3022 2063 \nz\n\" transform=\"scale(0.015625)\"/>\n       <path id=\"DejaVuSans-72\" d=\"M 2631 2963 \nQ 2534 3019 2420 3045 \nQ 2306 3072 2169 3072 \nQ 1681 3072 1420 2755 \nQ 1159 2438 1159 1844 \nL 1159 0 \nL 581 0 \nL 581 3500 \nL 1159 3500 \nL 1159 2956 \nQ 1341 3275 1631 3429 \nQ 1922 3584 2338 3584 \nQ 2397 3584 2469 3576 \nQ 2541 3569 2628 3553 \nL 2631 2963 \nz\n\" transform=\"scale(0.015625)\"/>\n       <path id=\"DejaVuSans-20\" transform=\"scale(0.015625)\"/>\n       <path id=\"DejaVuSans-6f\" d=\"M 1959 3097 \nQ 1497 3097 1228 2736 \nQ 959 2375 959 1747 \nQ 959 1119 1226 758 \nQ 1494 397 1959 397 \nQ 2419 397 2687 759 \nQ 2956 1122 2956 1747 \nQ 2956 2369 2687 2733 \nQ 2419 3097 1959 3097 \nz\nM 1959 3584 \nQ 2709 3584 3137 3096 \nQ 3566 2609 3566 1747 \nQ 3566 888 3137 398 \nQ 2709 -91 1959 -91 \nQ 1206 -91 779 398 \nQ 353 888 353 1747 \nQ 353 2609 779 3096 \nQ 1206 3584 1959 3584 \nz\n\" transform=\"scale(0.015625)\"/>\n       <path id=\"DejaVuSans-66\" d=\"M 2375 4863 \nL 2375 4384 \nL 1825 4384 \nQ 1516 4384 1395 4259 \nQ 1275 4134 1275 3809 \nL 1275 3500 \nL 2222 3500 \nL 2222 3053 \nL 1275 3053 \nL 1275 0 \nL 697 0 \nL 697 3053 \nL 147 3053 \nL 147 3500 \nL 697 3500 \nL 697 3744 \nQ 697 4328 969 4595 \nQ 1241 4863 1831 4863 \nL 2375 4863 \nz\n\" transform=\"scale(0.015625)\"/>\n       <path id=\"DejaVuSans-74\" d=\"M 1172 4494 \nL 1172 3500 \nL 2356 3500 \nL 2356 3053 \nL 1172 3053 \nL 1172 1153 \nQ 1172 725 1289 603 \nQ 1406 481 1766 481 \nL 2356 481 \nL 2356 0 \nL 1766 0 \nQ 1100 0 847 248 \nQ 594 497 594 1153 \nL 594 3053 \nL 172 3053 \nL 172 3500 \nL 594 3500 \nL 594 4494 \nL 1172 4494 \nz\n\" transform=\"scale(0.015625)\"/>\n       <path id=\"DejaVuSans-61\" d=\"M 2194 1759 \nQ 1497 1759 1228 1600 \nQ 959 1441 959 1056 \nQ 959 750 1161 570 \nQ 1363 391 1709 391 \nQ 2188 391 2477 730 \nQ 2766 1069 2766 1631 \nL 2766 1759 \nL 2194 1759 \nz\nM 3341 1997 \nL 3341 0 \nL 2766 0 \nL 2766 531 \nQ 2569 213 2275 61 \nQ 1981 -91 1556 -91 \nQ 1019 -91 701 211 \nQ 384 513 384 1019 \nQ 384 1609 779 1909 \nQ 1175 2209 1959 2209 \nL 2766 2209 \nL 2766 2266 \nQ 2766 2663 2505 2880 \nQ 2244 3097 1772 3097 \nQ 1472 3097 1187 3025 \nQ 903 2953 641 2809 \nL 641 3341 \nQ 956 3463 1253 3523 \nQ 1550 3584 1831 3584 \nQ 2591 3584 2966 3190 \nQ 3341 2797 3341 1997 \nz\n\" transform=\"scale(0.015625)\"/>\n       <path id=\"DejaVuSans-69\" d=\"M 603 3500 \nL 1178 3500 \nL 1178 0 \nL 603 0 \nL 603 3500 \nz\nM 603 4863 \nL 1178 4863 \nL 1178 4134 \nL 603 4134 \nL 603 4863 \nz\n\" transform=\"scale(0.015625)\"/>\n       <path id=\"DejaVuSans-67\" d=\"M 2906 1791 \nQ 2906 2416 2648 2759 \nQ 2391 3103 1925 3103 \nQ 1463 3103 1205 2759 \nQ 947 2416 947 1791 \nQ 947 1169 1205 825 \nQ 1463 481 1925 481 \nQ 2391 481 2648 825 \nQ 2906 1169 2906 1791 \nz\nM 3481 434 \nQ 3481 -459 3084 -895 \nQ 2688 -1331 1869 -1331 \nQ 1566 -1331 1297 -1286 \nQ 1028 -1241 775 -1147 \nL 775 -588 \nQ 1028 -725 1275 -790 \nQ 1522 -856 1778 -856 \nQ 2344 -856 2625 -561 \nQ 2906 -266 2906 331 \nL 2906 616 \nQ 2728 306 2450 153 \nQ 2172 0 1784 0 \nQ 1141 0 747 490 \nQ 353 981 353 1791 \nQ 353 2603 747 3093 \nQ 1141 3584 1784 3584 \nQ 2172 3584 2450 3431 \nQ 2728 3278 2906 2969 \nL 2906 3500 \nL 3481 3500 \nL 3481 434 \nz\n\" transform=\"scale(0.015625)\"/>\n       <path id=\"DejaVuSans-78\" d=\"M 3513 3500 \nL 2247 1797 \nL 3578 0 \nL 2900 0 \nL 1881 1375 \nL 863 0 \nL 184 0 \nL 1544 1831 \nL 300 3500 \nL 978 3500 \nL 1906 2253 \nL 2834 3500 \nL 3513 3500 \nz\n\" transform=\"scale(0.015625)\"/>\n       <path id=\"DejaVuSans-70\" d=\"M 1159 525 \nL 1159 -1331 \nL 581 -1331 \nL 581 3500 \nL 1159 3500 \nL 1159 2969 \nQ 1341 3281 1617 3432 \nQ 1894 3584 2278 3584 \nQ 2916 3584 3314 3078 \nQ 3713 2572 3713 1747 \nQ 3713 922 3314 415 \nQ 2916 -91 2278 -91 \nQ 1894 -91 1617 61 \nQ 1341 213 1159 525 \nz\nM 3116 1747 \nQ 3116 2381 2855 2742 \nQ 2594 3103 2138 3103 \nQ 1681 3103 1420 2742 \nQ 1159 2381 1159 1747 \nQ 1159 1113 1420 752 \nQ 1681 391 2138 391 \nQ 2594 391 2855 752 \nQ 3116 1113 3116 1747 \nz\n\" transform=\"scale(0.015625)\"/>\n       <path id=\"DejaVuSans-6c\" d=\"M 603 4863 \nL 1178 4863 \nL 1178 0 \nL 603 0 \nL 603 4863 \nz\n\" transform=\"scale(0.015625)\"/>\n       <path id=\"DejaVuSans-73\" d=\"M 2834 3397 \nL 2834 2853 \nQ 2591 2978 2328 3040 \nQ 2066 3103 1784 3103 \nQ 1356 3103 1142 2972 \nQ 928 2841 928 2578 \nQ 928 2378 1081 2264 \nQ 1234 2150 1697 2047 \nL 1894 2003 \nQ 2506 1872 2764 1633 \nQ 3022 1394 3022 966 \nQ 3022 478 2636 193 \nQ 2250 -91 1575 -91 \nQ 1294 -91 989 -36 \nQ 684 19 347 128 \nL 347 722 \nQ 666 556 975 473 \nQ 1284 391 1588 391 \nQ 1994 391 2212 530 \nQ 2431 669 2431 922 \nQ 2431 1156 2273 1281 \nQ 2116 1406 1581 1522 \nL 1381 1569 \nQ 847 1681 609 1914 \nQ 372 2147 372 2553 \nQ 372 3047 722 3315 \nQ 1072 3584 1716 3584 \nQ 2034 3584 2315 3537 \nQ 2597 3491 2834 3397 \nz\n\" transform=\"scale(0.015625)\"/>\n      </defs>\n      <use xlink:href=\"#DejaVuSans-6e\"/>\n      <use xlink:href=\"#DejaVuSans-75\" x=\"63.378906\"/>\n      <use xlink:href=\"#DejaVuSans-6d\" x=\"126.757812\"/>\n      <use xlink:href=\"#DejaVuSans-62\" x=\"224.169922\"/>\n      <use xlink:href=\"#DejaVuSans-65\" x=\"287.646484\"/>\n      <use xlink:href=\"#DejaVuSans-72\" x=\"349.169922\"/>\n      <use xlink:href=\"#DejaVuSans-20\" x=\"390.283203\"/>\n      <use xlink:href=\"#DejaVuSans-6f\" x=\"422.070312\"/>\n      <use xlink:href=\"#DejaVuSans-66\" x=\"483.251953\"/>\n      <use xlink:href=\"#DejaVuSans-20\" x=\"518.457031\"/>\n      <use xlink:href=\"#DejaVuSans-74\" x=\"550.244141\"/>\n      <use xlink:href=\"#DejaVuSans-72\" x=\"589.453125\"/>\n      <use xlink:href=\"#DejaVuSans-61\" x=\"630.566406\"/>\n      <use xlink:href=\"#DejaVuSans-69\" x=\"691.845703\"/>\n      <use xlink:href=\"#DejaVuSans-6e\" x=\"719.628906\"/>\n      <use xlink:href=\"#DejaVuSans-69\" x=\"783.007812\"/>\n      <use xlink:href=\"#DejaVuSans-6e\" x=\"810.791016\"/>\n      <use xlink:href=\"#DejaVuSans-67\" x=\"874.169922\"/>\n      <use xlink:href=\"#DejaVuSans-20\" x=\"937.646484\"/>\n      <use xlink:href=\"#DejaVuSans-65\" x=\"969.433594\"/>\n      <use xlink:href=\"#DejaVuSans-78\" x=\"1029.207031\"/>\n      <use xlink:href=\"#DejaVuSans-61\" x=\"1088.386719\"/>\n      <use xlink:href=\"#DejaVuSans-6d\" x=\"1149.666016\"/>\n      <use xlink:href=\"#DejaVuSans-70\" x=\"1247.078125\"/>\n      <use xlink:href=\"#DejaVuSans-6c\" x=\"1310.554688\"/>\n      <use xlink:href=\"#DejaVuSans-65\" x=\"1338.337891\"/>\n      <use xlink:href=\"#DejaVuSans-73\" x=\"1399.861328\"/>\n      <use xlink:href=\"#DejaVuSans-20\" x=\"1451.960938\"/>\n      <use xlink:href=\"#DejaVuSans-73\" x=\"1483.748047\"/>\n      <use xlink:href=\"#DejaVuSans-65\" x=\"1535.847656\"/>\n      <use xlink:href=\"#DejaVuSans-65\" x=\"1597.371094\"/>\n      <use xlink:href=\"#DejaVuSans-6e\" x=\"1658.894531\"/>\n     </g>\n    </g>\n   </g>\n   <g id=\"matplotlib.axis_2\">\n    <g id=\"ytick_1\">\n     <g id=\"line2d_7\">\n      <defs>\n       <path id=\"m8050e1ee9f\" d=\"M 0 0 \nL -3.5 0 \n\" style=\"stroke: #000000; stroke-width: 0.8\"/>\n      </defs>\n      <g>\n       <use xlink:href=\"#m8050e1ee9f\" x=\"43.78125\" y=\"269.311862\" style=\"stroke: #000000; stroke-width: 0.8\"/>\n      </g>\n     </g>\n     <g id=\"text_8\">\n      <!-- 0.0 -->\n      <g transform=\"translate(20.878125 273.111081) scale(0.1 -0.1)\">\n       <defs>\n        <path id=\"DejaVuSans-2e\" d=\"M 684 794 \nL 1344 794 \nL 1344 0 \nL 684 0 \nL 684 794 \nz\n\" transform=\"scale(0.015625)\"/>\n       </defs>\n       <use xlink:href=\"#DejaVuSans-30\"/>\n       <use xlink:href=\"#DejaVuSans-2e\" x=\"63.623047\"/>\n       <use xlink:href=\"#DejaVuSans-30\" x=\"95.410156\"/>\n      </g>\n     </g>\n    </g>\n    <g id=\"ytick_2\">\n     <g id=\"line2d_8\">\n      <g>\n       <use xlink:href=\"#m8050e1ee9f\" x=\"43.78125\" y=\"216.24902\" style=\"stroke: #000000; stroke-width: 0.8\"/>\n      </g>\n     </g>\n     <g id=\"text_9\">\n      <!-- 0.5 -->\n      <g transform=\"translate(20.878125 220.048239) scale(0.1 -0.1)\">\n       <use xlink:href=\"#DejaVuSans-30\"/>\n       <use xlink:href=\"#DejaVuSans-2e\" x=\"63.623047\"/>\n       <use xlink:href=\"#DejaVuSans-35\" x=\"95.410156\"/>\n      </g>\n     </g>\n    </g>\n    <g id=\"ytick_3\">\n     <g id=\"line2d_9\">\n      <g>\n       <use xlink:href=\"#m8050e1ee9f\" x=\"43.78125\" y=\"163.186178\" style=\"stroke: #000000; stroke-width: 0.8\"/>\n      </g>\n     </g>\n     <g id=\"text_10\">\n      <!-- 1.0 -->\n      <g transform=\"translate(20.878125 166.985397) scale(0.1 -0.1)\">\n       <use xlink:href=\"#DejaVuSans-31\"/>\n       <use xlink:href=\"#DejaVuSans-2e\" x=\"63.623047\"/>\n       <use xlink:href=\"#DejaVuSans-30\" x=\"95.410156\"/>\n      </g>\n     </g>\n    </g>\n    <g id=\"ytick_4\">\n     <g id=\"line2d_10\">\n      <g>\n       <use xlink:href=\"#m8050e1ee9f\" x=\"43.78125\" y=\"110.123336\" style=\"stroke: #000000; stroke-width: 0.8\"/>\n      </g>\n     </g>\n     <g id=\"text_11\">\n      <!-- 1.5 -->\n      <g transform=\"translate(20.878125 113.922555) scale(0.1 -0.1)\">\n       <use xlink:href=\"#DejaVuSans-31\"/>\n       <use xlink:href=\"#DejaVuSans-2e\" x=\"63.623047\"/>\n       <use xlink:href=\"#DejaVuSans-35\" x=\"95.410156\"/>\n      </g>\n     </g>\n    </g>\n    <g id=\"ytick_5\">\n     <g id=\"line2d_11\">\n      <g>\n       <use xlink:href=\"#m8050e1ee9f\" x=\"43.78125\" y=\"57.060494\" style=\"stroke: #000000; stroke-width: 0.8\"/>\n      </g>\n     </g>\n     <g id=\"text_12\">\n      <!-- 2.0 -->\n      <g transform=\"translate(20.878125 60.859713) scale(0.1 -0.1)\">\n       <use xlink:href=\"#DejaVuSans-32\"/>\n       <use xlink:href=\"#DejaVuSans-2e\" x=\"63.623047\"/>\n       <use xlink:href=\"#DejaVuSans-30\" x=\"95.410156\"/>\n      </g>\n     </g>\n    </g>\n    <g id=\"text_13\">\n     <!-- negative log likelihood loss -->\n     <g transform=\"translate(14.798438 207.981) rotate(-90) scale(0.1 -0.1)\">\n      <defs>\n       <path id=\"DejaVuSans-76\" d=\"M 191 3500 \nL 800 3500 \nL 1894 563 \nL 2988 3500 \nL 3597 3500 \nL 2284 0 \nL 1503 0 \nL 191 3500 \nz\n\" transform=\"scale(0.015625)\"/>\n       <path id=\"DejaVuSans-6b\" d=\"M 581 4863 \nL 1159 4863 \nL 1159 1991 \nL 2875 3500 \nL 3609 3500 \nL 1753 1863 \nL 3688 0 \nL 2938 0 \nL 1159 1709 \nL 1159 0 \nL 581 0 \nL 581 4863 \nz\n\" transform=\"scale(0.015625)\"/>\n       <path id=\"DejaVuSans-68\" d=\"M 3513 2113 \nL 3513 0 \nL 2938 0 \nL 2938 2094 \nQ 2938 2591 2744 2837 \nQ 2550 3084 2163 3084 \nQ 1697 3084 1428 2787 \nQ 1159 2491 1159 1978 \nL 1159 0 \nL 581 0 \nL 581 4863 \nL 1159 4863 \nL 1159 2956 \nQ 1366 3272 1645 3428 \nQ 1925 3584 2291 3584 \nQ 2894 3584 3203 3211 \nQ 3513 2838 3513 2113 \nz\n\" transform=\"scale(0.015625)\"/>\n       <path id=\"DejaVuSans-64\" d=\"M 2906 2969 \nL 2906 4863 \nL 3481 4863 \nL 3481 0 \nL 2906 0 \nL 2906 525 \nQ 2725 213 2448 61 \nQ 2172 -91 1784 -91 \nQ 1150 -91 751 415 \nQ 353 922 353 1747 \nQ 353 2572 751 3078 \nQ 1150 3584 1784 3584 \nQ 2172 3584 2448 3432 \nQ 2725 3281 2906 2969 \nz\nM 947 1747 \nQ 947 1113 1208 752 \nQ 1469 391 1925 391 \nQ 2381 391 2643 752 \nQ 2906 1113 2906 1747 \nQ 2906 2381 2643 2742 \nQ 2381 3103 1925 3103 \nQ 1469 3103 1208 2742 \nQ 947 2381 947 1747 \nz\n\" transform=\"scale(0.015625)\"/>\n      </defs>\n      <use xlink:href=\"#DejaVuSans-6e\"/>\n      <use xlink:href=\"#DejaVuSans-65\" x=\"63.378906\"/>\n      <use xlink:href=\"#DejaVuSans-67\" x=\"124.902344\"/>\n      <use xlink:href=\"#DejaVuSans-61\" x=\"188.378906\"/>\n      <use xlink:href=\"#DejaVuSans-74\" x=\"249.658203\"/>\n      <use xlink:href=\"#DejaVuSans-69\" x=\"288.867188\"/>\n      <use xlink:href=\"#DejaVuSans-76\" x=\"316.650391\"/>\n      <use xlink:href=\"#DejaVuSans-65\" x=\"375.830078\"/>\n      <use xlink:href=\"#DejaVuSans-20\" x=\"437.353516\"/>\n      <use xlink:href=\"#DejaVuSans-6c\" x=\"469.140625\"/>\n      <use xlink:href=\"#DejaVuSans-6f\" x=\"496.923828\"/>\n      <use xlink:href=\"#DejaVuSans-67\" x=\"558.105469\"/>\n      <use xlink:href=\"#DejaVuSans-20\" x=\"621.582031\"/>\n      <use xlink:href=\"#DejaVuSans-6c\" x=\"653.369141\"/>\n      <use xlink:href=\"#DejaVuSans-69\" x=\"681.152344\"/>\n      <use xlink:href=\"#DejaVuSans-6b\" x=\"708.935547\"/>\n      <use xlink:href=\"#DejaVuSans-65\" x=\"763.220703\"/>\n      <use xlink:href=\"#DejaVuSans-6c\" x=\"824.744141\"/>\n      <use xlink:href=\"#DejaVuSans-69\" x=\"852.527344\"/>\n      <use xlink:href=\"#DejaVuSans-68\" x=\"880.310547\"/>\n      <use xlink:href=\"#DejaVuSans-6f\" x=\"943.689453\"/>\n      <use xlink:href=\"#DejaVuSans-6f\" x=\"1004.871094\"/>\n      <use xlink:href=\"#DejaVuSans-64\" x=\"1066.052734\"/>\n      <use xlink:href=\"#DejaVuSans-20\" x=\"1129.529297\"/>\n      <use xlink:href=\"#DejaVuSans-6c\" x=\"1161.316406\"/>\n      <use xlink:href=\"#DejaVuSans-6f\" x=\"1189.099609\"/>\n      <use xlink:href=\"#DejaVuSans-73\" x=\"1250.28125\"/>\n      <use xlink:href=\"#DejaVuSans-73\" x=\"1302.380859\"/>\n     </g>\n    </g>\n   </g>\n   <g id=\"line2d_12\">\n    <path d=\"M 60.013977 19.296 \nL 60.690341 26.771347 \nL 61.366705 28.621176 \nL 62.043068 28.936468 \nL 62.719432 31.15738 \nL 63.395795 29.011768 \nL 64.072159 33.50402 \nL 64.748523 36.74907 \nL 65.424886 39.406043 \nL 66.10125 45.107468 \nL 67.453977 60.783947 \nL 68.130341 62.367621 \nL 68.806705 70.03443 \nL 69.483068 89.786293 \nL 70.159432 94.750219 \nL 70.835795 101.986902 \nL 71.512159 121.804956 \nL 72.188523 116.109198 \nL 72.864886 130.124161 \nL 73.54125 137.769262 \nL 74.217614 141.947942 \nL 74.893977 150.949577 \nL 75.570341 161.870153 \nL 76.246705 168.578675 \nL 76.923068 150.856464 \nL 77.599432 151.773686 \nL 78.275795 181.595569 \nL 78.952159 173.531133 \nL 79.628523 147.162032 \nL 80.304886 183.226589 \nL 80.98125 180.829926 \nL 81.657614 189.9823 \nL 82.333977 179.52659 \nL 83.010341 181.448018 \nL 83.686705 174.616818 \nL 85.039432 191.656992 \nL 85.715795 175.994511 \nL 86.392159 201.339645 \nL 87.068523 177.349698 \nL 87.744886 185.945148 \nL 88.42125 187.067584 \nL 89.097614 192.295888 \nL 89.773977 191.524293 \nL 90.450341 200.059916 \nL 91.126705 198.684399 \nL 91.803068 208.040766 \nL 92.479432 214.216382 \nL 93.155795 214.401172 \nL 93.832159 226.557856 \nL 95.184886 212.353713 \nL 95.86125 197.376939 \nL 96.537614 199.615215 \nL 97.213977 186.635073 \nL 97.890341 214.135997 \nL 98.566705 208.673039 \nL 99.243068 216.230904 \nL 99.919432 215.922165 \nL 100.595795 221.369666 \nL 101.272159 191.163065 \nL 101.948523 220.578971 \nL 102.624886 215.900993 \nL 103.30125 188.966329 \nL 103.977614 214.706995 \nL 104.653977 206.798415 \nL 106.006705 224.945841 \nL 106.683068 192.622706 \nL 107.359432 222.95918 \nL 108.035795 208.392829 \nL 108.712159 215.881074 \nL 109.388523 213.841168 \nL 110.064886 208.72384 \nL 110.74125 208.352364 \nL 111.417614 220.223524 \nL 112.093977 200.290774 \nL 112.770341 223.069138 \nL 113.446705 219.90596 \nL 114.123068 221.929932 \nL 114.799432 226.494056 \nL 115.475795 232.821325 \nL 116.152159 216.99042 \nL 116.828523 230.25262 \nL 117.504886 227.85344 \nL 118.18125 211.954638 \nL 118.857614 237.177113 \nL 119.533977 217.012227 \nL 120.210341 213.782726 \nL 120.886705 225.192649 \nL 121.563068 227.088942 \nL 122.239432 218.487549 \nL 122.915795 227.415687 \nL 123.592159 220.324992 \nL 124.268523 209.655523 \nL 124.944886 228.295149 \nL 125.62125 234.778439 \nL 126.297614 229.564991 \nL 126.973977 212.881128 \nL 127.650341 213.303088 \nL 128.326705 230.805264 \nL 129.003068 231.83498 \nL 129.679432 228.624882 \nL 130.355795 186.073 \nL 131.032159 225.115116 \nL 131.708523 227.391587 \nL 132.384886 228.569692 \nL 133.06125 232.584239 \nL 133.737614 216.41525 \nL 134.413977 228.725994 \nL 135.090341 226.59795 \nL 135.766705 222.532431 \nL 136.443068 230.780281 \nL 137.119432 224.890505 \nL 137.795795 232.060886 \nL 138.472159 233.810368 \nL 139.148523 223.161226 \nL 139.824886 231.943217 \nL 140.50125 204.79874 \nL 141.177614 227.394376 \nL 141.853977 236.361087 \nL 142.530341 226.362582 \nL 143.206705 235.026408 \nL 143.883068 211.659354 \nL 144.559432 208.347417 \nL 145.235795 229.241608 \nL 145.912159 233.889985 \nL 146.588523 221.545245 \nL 147.264886 228.951067 \nL 147.94125 205.98342 \nL 148.617614 242.38149 \nL 149.293977 225.225998 \nL 149.970341 221.680505 \nL 150.646705 251.691438 \nL 151.323068 230.765586 \nL 151.999432 229.894762 \nL 152.675795 232.951054 \nL 153.352159 216.806899 \nL 154.028523 220.556041 \nL 154.704886 244.381919 \nL 155.38125 240.50356 \nL 156.057614 238.734386 \nL 156.733977 220.439334 \nL 157.410341 235.503673 \nL 158.086705 219.804719 \nL 158.763068 220.611658 \nL 159.439432 232.282427 \nL 160.115795 226.294658 \nL 160.792159 243.122341 \nL 161.468523 210.767421 \nL 162.144886 233.418865 \nL 162.82125 210.336149 \nL 163.497614 238.243103 \nL 164.173977 234.466069 \nL 164.850341 233.066657 \nL 165.526705 229.448825 \nL 166.203068 232.986021 \nL 166.879432 213.337506 \nL 167.555795 249.959473 \nL 168.232159 233.187289 \nL 168.908523 203.33197 \nL 169.584886 235.59696 \nL 170.26125 229.498755 \nL 170.937614 235.671567 \nL 171.613977 248.905019 \nL 172.290341 237.458408 \nL 172.966705 238.922857 \nL 173.643068 233.831262 \nL 174.319432 231.810431 \nL 174.995795 226.969948 \nL 175.672159 212.602245 \nL 176.348523 228.477961 \nL 177.024886 234.34921 \nL 177.70125 242.183815 \nL 178.377614 223.332504 \nL 179.053977 237.73414 \nL 179.730341 241.686245 \nL 180.406705 233.97971 \nL 181.083068 235.192224 \nL 181.759432 234.429222 \nL 182.435795 239.100011 \nL 183.112159 226.778087 \nL 183.788523 219.983123 \nL 184.464886 247.018641 \nL 185.14125 242.644897 \nL 185.817614 237.210569 \nL 186.493977 245.942547 \nL 187.170341 239.450442 \nL 187.846705 237.47012 \nL 188.523068 217.279255 \nL 189.199432 233.782656 \nL 189.875795 217.026767 \nL 190.552159 233.663767 \nL 191.228523 243.05142 \nL 191.904886 248.12542 \nL 192.58125 232.693586 \nL 193.933977 246.794951 \nL 194.610341 240.051477 \nL 195.286705 231.765275 \nL 195.963068 236.710658 \nL 196.639432 233.219385 \nL 197.315795 254.06963 \nL 197.992159 214.367513 \nL 198.668523 235.795529 \nL 199.344886 212.452392 \nL 200.02125 224.397226 \nL 200.697614 218.529937 \nL 201.373977 239.357007 \nL 202.050341 231.5793 \nL 202.726705 251.702353 \nL 203.403068 240.031744 \nL 204.079432 252.582488 \nL 204.755795 243.706681 \nL 205.432159 224.471906 \nL 206.108523 252.320679 \nL 206.784886 239.25774 \nL 207.46125 235.43296 \nL 208.137614 247.658066 \nL 208.813977 251.481415 \nL 209.490341 228.171756 \nL 210.166705 220.043548 \nL 210.843068 238.187558 \nL 211.519432 244.143152 \nL 212.195795 239.858294 \nL 212.872159 245.612755 \nL 213.548523 230.131051 \nL 214.224886 239.047047 \nL 214.90125 240.238623 \nL 215.577614 242.394087 \nL 216.253977 234.558669 \nL 216.930341 245.526126 \nL 217.606705 236.858376 \nL 218.283068 236.865293 \nL 218.959432 239.150565 \nL 219.635795 240.282029 \nL 220.312159 231.909284 \nL 220.988523 236.222557 \nL 221.664886 244.001907 \nL 222.34125 243.026081 \nL 223.017614 219.640887 \nL 223.693977 245.74281 \nL 224.370341 232.036172 \nL 225.046705 239.224179 \nL 225.723068 248.331819 \nL 226.399432 245.878421 \nL 227.075795 249.188375 \nL 227.752159 239.504497 \nL 228.428523 243.866647 \nL 229.104886 252.774826 \nL 229.78125 250.650083 \nL 230.457614 216.095562 \nL 231.133977 234.322845 \nL 231.810341 244.536121 \nL 232.486705 238.430252 \nL 233.163068 246.94274 \nL 233.839432 226.332554 \nL 234.515795 247.182273 \nL 235.192159 231.00371 \nL 235.868523 255.488659 \nL 236.544886 239.732519 \nL 237.22125 249.884905 \nL 237.897614 241.689642 \nL 238.573977 237.313524 \nL 239.250341 241.369406 \nL 239.926705 233.611308 \nL 240.603068 249.498118 \nL 241.279432 243.914985 \nL 241.955795 240.642786 \nL 242.632159 227.381152 \nL 243.984886 243.125494 \nL 244.66125 243.72187 \nL 245.337614 250.868478 \nL 246.013977 241.10896 \nL 246.690341 250.872383 \nL 247.366705 240.475367 \nL 248.043068 237.308018 \nL 248.719432 247.903853 \nL 249.395795 234.70943 \nL 250.072159 244.075497 \nL 250.748523 232.817508 \nL 251.424886 248.303884 \nL 252.10125 245.053976 \nL 252.777614 237.322576 \nL 253.453977 217.651272 \nL 254.130341 239.363756 \nL 254.806705 241.67477 \nL 255.483068 252.284215 \nL 256.159432 241.78624 \nL 256.835795 250.764856 \nL 258.188523 216.310758 \nL 258.864886 245.025848 \nL 259.54125 248.087511 \nL 260.217614 246.726905 \nL 260.893977 254.664581 \nL 261.570341 237.874154 \nL 262.246705 245.657209 \nL 262.923068 247.745669 \nL 264.275795 239.241157 \nL 264.952159 248.997878 \nL 265.628523 239.376461 \nL 266.304886 232.91224 \nL 266.98125 243.320812 \nL 267.657614 241.168993 \nL 268.333977 253.396959 \nL 269.010341 219.836714 \nL 269.686705 247.81936 \nL 270.363068 228.060001 \nL 271.039432 246.992194 \nL 271.715795 239.354625 \nL 272.392159 243.066113 \nL 273.068523 247.911241 \nL 273.744886 247.433871 \nL 275.097614 255.001652 \nL 275.773977 253.422861 \nL 276.450341 232.01524 \nL 277.126705 254.526337 \nL 277.803068 224.132481 \nL 278.479432 249.45363 \nL 279.155795 232.699068 \nL 279.832159 253.660017 \nL 280.508523 246.738155 \nL 281.184886 212.234077 \nL 281.86125 246.661804 \nL 282.537614 243.513711 \nL 283.213977 252.026678 \nL 283.890341 236.76019 \nL 284.566705 207.248847 \nL 285.243068 242.962182 \nL 285.919432 245.966842 \nL 286.595795 239.362153 \nL 287.272159 242.563591 \nL 287.948523 229.292415 \nL 288.624886 233.974824 \nL 289.30125 254.720727 \nL 289.977614 238.844116 \nL 290.653977 244.517281 \nL 291.330341 245.276964 \nL 292.006705 245.649615 \nL 292.683068 250.753966 \nL 293.359432 244.833833 \nL 294.035795 251.002737 \nL 294.712159 244.653021 \nL 295.388523 251.991215 \nL 296.064886 226.8856 \nL 296.74125 237.232326 \nL 297.417614 249.601095 \nL 298.093977 252.778477 \nL 298.770341 252.96332 \nL 299.446705 253.536155 \nL 300.123068 239.311757 \nL 300.799432 247.911125 \nL 301.475795 241.122259 \nL 302.152159 237.04066 \nL 302.828523 245.58397 \nL 303.504886 246.82603 \nL 304.18125 254.27722 \nL 304.857614 238.040409 \nL 305.533977 251.42101 \nL 306.210341 229.103963 \nL 306.886705 250.311009 \nL 307.563068 241.676459 \nL 308.239432 255.800041 \nL 308.915795 247.716767 \nL 309.592159 232.211394 \nL 310.944886 252.626551 \nL 311.62125 244.981093 \nL 312.297614 245.095494 \nL 312.973977 243.008248 \nL 313.650341 238.532239 \nL 314.326705 247.831978 \nL 315.003068 232.468487 \nL 315.679432 229.271942 \nL 317.032159 255.759057 \nL 317.708523 238.891994 \nL 318.384886 250.203425 \nL 319.06125 247.962903 \nL 319.737614 230.878084 \nL 320.413977 248.746047 \nL 321.090341 250.335891 \nL 321.766705 241.977896 \nL 322.443068 246.208243 \nL 323.119432 243.337439 \nL 323.795795 235.15588 \nL 324.472159 239.134552 \nL 325.148523 248.3783 \nL 325.824886 255.468526 \nL 326.50125 255.548752 \nL 327.177614 236.528057 \nL 327.853977 229.931935 \nL 328.530341 242.729979 \nL 329.206705 244.321181 \nL 329.883068 251.884908 \nL 330.559432 257.046371 \nL 331.235795 261.216 \nL 331.912159 248.386678 \nL 332.588523 245.927598 \nL 333.264886 255.710217 \nL 333.94125 244.005198 \nL 334.617614 236.139448 \nL 335.293977 242.353398 \nL 335.970341 229.35939 \nL 336.646705 232.620972 \nL 337.323068 234.641588 \nL 337.999432 240.506078 \nL 338.675795 252.992108 \nL 339.352159 238.441382 \nL 340.028523 250.581197 \nL 340.704886 241.532995 \nL 341.38125 245.978245 \nL 342.057614 232.737265 \nL 342.733977 251.892816 \nL 343.410341 252.073124 \nL 344.086705 251.198299 \nL 344.763068 221.771827 \nL 345.439432 252.227024 \nL 346.115795 248.529426 \nL 346.792159 242.214988 \nL 347.468523 251.280158 \nL 348.144886 245.491394 \nL 348.82125 246.239952 \nL 349.497614 249.787607 \nL 350.173977 250.281187 \nL 350.850341 253.464246 \nL 351.526705 254.239056 \nL 352.203068 240.213674 \nL 352.879432 248.404962 \nL 353.555795 228.669775 \nL 354.232159 249.592815 \nL 354.908523 245.23537 \nL 355.584886 236.266725 \nL 356.26125 257.771819 \nL 356.937614 254.160801 \nL 357.613977 238.784766 \nL 358.290341 256.864368 \nL 358.966705 237.18575 \nL 359.643068 239.846291 \nL 360.319432 244.0848 \nL 360.995795 252.057397 \nL 361.672159 237.838595 \nL 362.348523 238.134841 \nL 363.024886 243.478612 \nL 363.70125 238.146916 \nL 364.377614 246.27117 \nL 365.053977 248.166614 \nL 365.730341 246.897209 \nL 366.406705 235.817653 \nL 367.083068 247.246085 \nL 367.759432 251.798001 \nL 369.112159 239.990764 \nL 369.788523 248.761285 \nL 370.464886 232.706905 \nL 371.14125 252.067099 \nL 371.817614 240.336321 \nL 372.493977 240.005066 \nL 373.846705 258.938639 \nL 374.523068 240.278648 \nL 375.199432 255.557407 \nL 375.875795 252.986688 \nL 376.552159 239.995179 \nL 377.228523 236.350002 \nL 377.904886 249.873334 \nL 378.58125 253.345396 \nL 379.257614 252.563961 \nL 379.933977 252.746729 \nL 380.610341 248.993785 \nL 381.286705 241.103403 \nL 381.963068 253.556707 \nL 382.639432 245.93362 \nL 383.315795 256.540665 \nL 383.992159 232.424544 \nL 383.992159 232.424544 \n\" clip-path=\"url(#pb7ef585033)\" style=\"fill: none; stroke: #0000ff; stroke-width: 1.5; stroke-linecap: square\"/>\n   </g>\n   <g id=\"patch_3\">\n    <path d=\"M 43.78125 273.312 \nL 43.78125 7.2 \n\" style=\"fill: none; stroke: #000000; stroke-width: 0.8; stroke-linejoin: miter; stroke-linecap: square\"/>\n   </g>\n   <g id=\"patch_4\">\n    <path d=\"M 400.90125 273.312 \nL 400.90125 7.2 \n\" style=\"fill: none; stroke: #000000; stroke-width: 0.8; stroke-linejoin: miter; stroke-linecap: square\"/>\n   </g>\n   <g id=\"patch_5\">\n    <path d=\"M 43.78125 273.312 \nL 400.90125 273.312 \n\" style=\"fill: none; stroke: #000000; stroke-width: 0.8; stroke-linejoin: miter; stroke-linecap: square\"/>\n   </g>\n   <g id=\"patch_6\">\n    <path d=\"M 43.78125 7.2 \nL 400.90125 7.2 \n\" style=\"fill: none; stroke: #000000; stroke-width: 0.8; stroke-linejoin: miter; stroke-linecap: square\"/>\n   </g>\n   <g id=\"legend_1\">\n    <g id=\"patch_7\">\n     <path d=\"M 312.80125 44.55625 \nL 393.90125 44.55625 \nQ 395.90125 44.55625 395.90125 42.55625 \nL 395.90125 14.2 \nQ 395.90125 12.2 393.90125 12.2 \nL 312.80125 12.2 \nQ 310.80125 12.2 310.80125 14.2 \nL 310.80125 42.55625 \nQ 310.80125 44.55625 312.80125 44.55625 \nz\n\" style=\"fill: #ffffff; opacity: 0.8; stroke: #cccccc; stroke-linejoin: miter\"/>\n    </g>\n    <g id=\"line2d_13\">\n     <path d=\"M 314.80125 20.298437 \nL 324.80125 20.298437 \nL 334.80125 20.298437 \n\" style=\"fill: none; stroke: #0000ff; stroke-width: 1.5; stroke-linecap: square\"/>\n    </g>\n    <g id=\"text_14\">\n     <!-- Train Loss -->\n     <g transform=\"translate(342.80125 23.798437) scale(0.1 -0.1)\">\n      <defs>\n       <path id=\"DejaVuSans-54\" d=\"M -19 4666 \nL 3928 4666 \nL 3928 4134 \nL 2272 4134 \nL 2272 0 \nL 1638 0 \nL 1638 4134 \nL -19 4134 \nL -19 4666 \nz\n\" transform=\"scale(0.015625)\"/>\n       <path id=\"DejaVuSans-4c\" d=\"M 628 4666 \nL 1259 4666 \nL 1259 531 \nL 3531 531 \nL 3531 0 \nL 628 0 \nL 628 4666 \nz\n\" transform=\"scale(0.015625)\"/>\n      </defs>\n      <use xlink:href=\"#DejaVuSans-54\"/>\n      <use xlink:href=\"#DejaVuSans-72\" x=\"46.333984\"/>\n      <use xlink:href=\"#DejaVuSans-61\" x=\"87.447266\"/>\n      <use xlink:href=\"#DejaVuSans-69\" x=\"148.726562\"/>\n      <use xlink:href=\"#DejaVuSans-6e\" x=\"176.509766\"/>\n      <use xlink:href=\"#DejaVuSans-20\" x=\"239.888672\"/>\n      <use xlink:href=\"#DejaVuSans-4c\" x=\"271.675781\"/>\n      <use xlink:href=\"#DejaVuSans-6f\" x=\"325.638672\"/>\n      <use xlink:href=\"#DejaVuSans-73\" x=\"386.820312\"/>\n      <use xlink:href=\"#DejaVuSans-73\" x=\"438.919922\"/>\n     </g>\n    </g>\n    <g id=\"PathCollection_2\">\n     <g>\n      <use xlink:href=\"#mff371a8dde\" x=\"324.80125\" y=\"35.851562\" style=\"fill: #ff0000; stroke: #ff0000\"/>\n     </g>\n    </g>\n    <g id=\"text_15\">\n     <!-- Test Loss -->\n     <g transform=\"translate(342.80125 38.476562) scale(0.1 -0.1)\">\n      <use xlink:href=\"#DejaVuSans-54\"/>\n      <use xlink:href=\"#DejaVuSans-65\" x=\"44.083984\"/>\n      <use xlink:href=\"#DejaVuSans-73\" x=\"105.607422\"/>\n      <use xlink:href=\"#DejaVuSans-74\" x=\"157.707031\"/>\n      <use xlink:href=\"#DejaVuSans-20\" x=\"196.916016\"/>\n      <use xlink:href=\"#DejaVuSans-4c\" x=\"228.703125\"/>\n      <use xlink:href=\"#DejaVuSans-6f\" x=\"282.666016\"/>\n      <use xlink:href=\"#DejaVuSans-73\" x=\"343.847656\"/>\n      <use xlink:href=\"#DejaVuSans-73\" x=\"395.947266\"/>\n     </g>\n    </g>\n   </g>\n  </g>\n </g>\n <defs>\n  <clipPath id=\"pb7ef585033\">\n   <rect x=\"43.78125\" y=\"7.2\" width=\"357.12\" height=\"266.112\"/>\n  </clipPath>\n </defs>\n</svg>\n",
            "text/plain": [
              "<Figure size 640x480 with 1 Axes>"
            ]
          },
          "metadata": {},
          "output_type": "display_data"
        }
      ],
      "source": [
        "fig = plt.figure()\n",
        "plt.plot(train_counter, train_losses, color='blue')\n",
        "plt.scatter(test_counter, [train_losses[0]] + test_losses, color='red')\n",
        "# plt.plot(test_counter, [train_losses[0]] + test_losses, color='red')\n",
        "plt.legend(['Train Loss', 'Test Loss'], loc='upper right')\n",
        "plt.xlabel('number of training examples seen')\n",
        "plt.ylabel('negative log likelihood loss')"
      ]
    },
    {
      "cell_type": "code",
      "execution_count": null,
      "metadata": {
        "colab": {
          "base_uri": "https://localhost:8080/"
        },
        "id": "4NVeJSjlkaH8",
        "outputId": "cb4c1fcf-da33-48e4-d891-10d1a9c66493"
      },
      "outputs": [
        {
          "data": {
            "text/plain": [
              "(480, 480, 8, 8)"
            ]
          },
          "execution_count": 277,
          "metadata": {},
          "output_type": "execute_result"
        }
      ],
      "source": [
        "# len(train_counter), len(train_losses), len(test_counter), len(test_losses)"
      ]
    },
    {
      "cell_type": "code",
      "execution_count": null,
      "metadata": {
        "id": "rM0GdnrCx560"
      },
      "outputs": [],
      "source": [
        "# test_counter = [test_counter[i]+60 for i in range(8)]"
      ]
    },
    {
      "cell_type": "code",
      "execution_count": null,
      "metadata": {
        "colab": {
          "base_uri": "https://localhost:8080/"
        },
        "id": "q9_ETYO-1HmR",
        "outputId": "36606bdd-e315-4f9f-90c1-eccdaaa6eaf1"
      },
      "outputs": [
        {
          "name": "stderr",
          "output_type": "stream",
          "text": [
            "<ipython-input-269-6c2218f37724>:17: UserWarning: Implicit dimension choice for log_softmax has been deprecated. Change the call to include dim=X as an argument.\n",
            "  return F.log_softmax(x)\n"
          ]
        }
      ],
      "source": [
        "# plot the pictures\n",
        "with torch.no_grad():\n",
        "  output = network(example_data)"
      ]
    },
    {
      "cell_type": "code",
      "execution_count": null,
      "metadata": {
        "colab": {
          "base_uri": "https://localhost:8080/",
          "height": 424
        },
        "id": "5LhjBguI2N56",
        "outputId": "608d4b66-21b5-4717-f9e0-fc5e2dbcd4cf"
      },
      "outputs": [
        {
          "data": {
            "image/svg+xml": "<?xml version=\"1.0\" encoding=\"utf-8\" standalone=\"no\"?>\n<!DOCTYPE svg PUBLIC \"-//W3C//DTD SVG 1.1//EN\"\n  \"http://www.w3.org/Graphics/SVG/1.1/DTD/svg11.dtd\">\n<svg xmlns:xlink=\"http://www.w3.org/1999/xlink\" width=\"442.53pt\" height=\"302.601458pt\" viewBox=\"0 0 442.53 302.601458\" xmlns=\"http://www.w3.org/2000/svg\" version=\"1.1\">\n <metadata>\n  <rdf:RDF xmlns:dc=\"http://purl.org/dc/elements/1.1/\" xmlns:cc=\"http://creativecommons.org/ns#\" xmlns:rdf=\"http://www.w3.org/1999/02/22-rdf-syntax-ns#\">\n   <cc:Work>\n    <dc:type rdf:resource=\"http://purl.org/dc/dcmitype/StillImage\"/>\n    <dc:date>2024-02-19T14:27:05.034822</dc:date>\n    <dc:format>image/svg+xml</dc:format>\n    <dc:creator>\n     <cc:Agent>\n      <dc:title>Matplotlib v3.7.1, https://matplotlib.org/</dc:title>\n     </cc:Agent>\n    </dc:creator>\n   </cc:Work>\n  </rdf:RDF>\n </metadata>\n <defs>\n  <style type=\"text/css\">*{stroke-linejoin: round; stroke-linecap: butt}</style>\n </defs>\n <g id=\"figure_1\">\n  <g id=\"patch_1\">\n   <path d=\"M 0 302.601458 \nL 442.53 302.601458 \nL 442.53 0 \nL 0 0 \nz\n\" style=\"fill: #ffffff\"/>\n  </g>\n  <g id=\"axes_1\">\n   <g id=\"patch_2\">\n    <path d=\"M 7.2 142.601458 \nL 127.483333 142.601458 \nL 127.483333 22.318125 \nL 7.2 22.318125 \nz\n\" style=\"fill: #ffffff\"/>\n   </g>\n   <g clip-path=\"url(#pc865630900)\">\n    <image xlink:href=\"data:image/png;base64,\niVBORw0KGgoAAAANSUhEUgAAABwAAAAcCAYAAAByDd+UAAACdElEQVR4nO2Wz0sicRjG31kFmRCPSXjxIAQSIliX8NDRjoJJIE23jv4FCf4gLx3FbnYQzJMXg0KCLmEiQ0HMRQJBiegyIigzqOX36bAoK6M75raxy+4D72HeZ975vO933oHhiAj0hfr2lbB/HBgIBKher5PH4/n9QKvVSul0mur1Olkslk8FEn3f0onIZDKQZRk2m03j/WpMnXBpaYkURaHn5+dPn27qhIwxNJvND3Vut9sXn5DjOMpms7qdhkIhUhSFFEWhWq1Gj4+PlEwmyWw2f3zCaDT6004DgQBUVYUkSQgGg3C5XMjlcnh7e8PFxQWcTues2sWAkiSh2+1iZWVlIl+pVMAYw/n5OXienw8oyzIuLy9nwhKJBIbDIeLxuMZbXl5GKpUCYwyFQmE+4OnpKXq9Hrxer8bjeR6SJOHp6WnmZ8NxHJLJJFRVxd7enj5QEAQwxpDNZjWexWLBy8sLwuGw7kbe3Nwgk8nob2k+n6eHhwfa2dmh7e3tCa/T6ZAoitPKNLq+vqaNjY2J3FTg6+srHR0dkdFopFQqRV6vV3OPwWCYC7q2tqbJzTySw8NDMMYgyzLcbvc4XywWcXd3p3uksVgMjDH9dzgKnudxfHyMXq8HVVXh9/thMplQLBbR7/chCMLMpVldXUWpVMLZ2dn8wFFsbm6iVCphOBzi/v4erVYLjDFcXV3B5/Nhf38fBwcHiEajKJfLuL29xWAwwMnJCRwOx2QzI+o82t3dJZfLRevr67S1tUVGo3HsNRoNikQi4+tyuUyNRkPzjA8Bf5TNZiOTyUShUIhEUaRqtUrtdlu3bmHgovpz/mn+A/8a4DtzuQfJdNTfiAAAAABJRU5ErkJggg==\" id=\"image89a536eafa\" transform=\"matrix(4.321429 0 0 4.321429 7.2 21.601458)\" style=\"image-rendering:crisp-edges;image-rendering:pixelated\" width=\"28\" height=\"28\"/>\n   </g>\n   <g id=\"matplotlib.axis_1\"/>\n   <g id=\"matplotlib.axis_2\"/>\n   <g id=\"patch_3\">\n    <path d=\"M 7.2 142.601458 \nL 7.2 22.318125 \n\" style=\"fill: none; stroke: #000000; stroke-width: 0.8; stroke-linejoin: miter; stroke-linecap: square\"/>\n   </g>\n   <g id=\"patch_4\">\n    <path d=\"M 127.483333 142.601458 \nL 127.483333 22.318125 \n\" style=\"fill: none; stroke: #000000; stroke-width: 0.8; stroke-linejoin: miter; stroke-linecap: square\"/>\n   </g>\n   <g id=\"patch_5\">\n    <path d=\"M 7.2 142.601458 \nL 127.483333 142.601458 \n\" style=\"fill: none; stroke: #000000; stroke-width: 0.8; stroke-linejoin: miter; stroke-linecap: square\"/>\n   </g>\n   <g id=\"patch_6\">\n    <path d=\"M 7.2 22.318125 \nL 127.483333 22.318125 \n\" style=\"fill: none; stroke: #000000; stroke-width: 0.8; stroke-linejoin: miter; stroke-linecap: square\"/>\n   </g>\n   <g id=\"text_1\">\n    <!-- Prediction: 6 -->\n    <g transform=\"translate(29.791979 16.318125) scale(0.12 -0.12)\">\n     <defs>\n      <path id=\"DejaVuSans-50\" d=\"M 1259 4147 \nL 1259 2394 \nL 2053 2394 \nQ 2494 2394 2734 2622 \nQ 2975 2850 2975 3272 \nQ 2975 3691 2734 3919 \nQ 2494 4147 2053 4147 \nL 1259 4147 \nz\nM 628 4666 \nL 2053 4666 \nQ 2838 4666 3239 4311 \nQ 3641 3956 3641 3272 \nQ 3641 2581 3239 2228 \nQ 2838 1875 2053 1875 \nL 1259 1875 \nL 1259 0 \nL 628 0 \nL 628 4666 \nz\n\" transform=\"scale(0.015625)\"/>\n      <path id=\"DejaVuSans-72\" d=\"M 2631 2963 \nQ 2534 3019 2420 3045 \nQ 2306 3072 2169 3072 \nQ 1681 3072 1420 2755 \nQ 1159 2438 1159 1844 \nL 1159 0 \nL 581 0 \nL 581 3500 \nL 1159 3500 \nL 1159 2956 \nQ 1341 3275 1631 3429 \nQ 1922 3584 2338 3584 \nQ 2397 3584 2469 3576 \nQ 2541 3569 2628 3553 \nL 2631 2963 \nz\n\" transform=\"scale(0.015625)\"/>\n      <path id=\"DejaVuSans-65\" d=\"M 3597 1894 \nL 3597 1613 \nL 953 1613 \nQ 991 1019 1311 708 \nQ 1631 397 2203 397 \nQ 2534 397 2845 478 \nQ 3156 559 3463 722 \nL 3463 178 \nQ 3153 47 2828 -22 \nQ 2503 -91 2169 -91 \nQ 1331 -91 842 396 \nQ 353 884 353 1716 \nQ 353 2575 817 3079 \nQ 1281 3584 2069 3584 \nQ 2775 3584 3186 3129 \nQ 3597 2675 3597 1894 \nz\nM 3022 2063 \nQ 3016 2534 2758 2815 \nQ 2500 3097 2075 3097 \nQ 1594 3097 1305 2825 \nQ 1016 2553 972 2059 \nL 3022 2063 \nz\n\" transform=\"scale(0.015625)\"/>\n      <path id=\"DejaVuSans-64\" d=\"M 2906 2969 \nL 2906 4863 \nL 3481 4863 \nL 3481 0 \nL 2906 0 \nL 2906 525 \nQ 2725 213 2448 61 \nQ 2172 -91 1784 -91 \nQ 1150 -91 751 415 \nQ 353 922 353 1747 \nQ 353 2572 751 3078 \nQ 1150 3584 1784 3584 \nQ 2172 3584 2448 3432 \nQ 2725 3281 2906 2969 \nz\nM 947 1747 \nQ 947 1113 1208 752 \nQ 1469 391 1925 391 \nQ 2381 391 2643 752 \nQ 2906 1113 2906 1747 \nQ 2906 2381 2643 2742 \nQ 2381 3103 1925 3103 \nQ 1469 3103 1208 2742 \nQ 947 2381 947 1747 \nz\n\" transform=\"scale(0.015625)\"/>\n      <path id=\"DejaVuSans-69\" d=\"M 603 3500 \nL 1178 3500 \nL 1178 0 \nL 603 0 \nL 603 3500 \nz\nM 603 4863 \nL 1178 4863 \nL 1178 4134 \nL 603 4134 \nL 603 4863 \nz\n\" transform=\"scale(0.015625)\"/>\n      <path id=\"DejaVuSans-63\" d=\"M 3122 3366 \nL 3122 2828 \nQ 2878 2963 2633 3030 \nQ 2388 3097 2138 3097 \nQ 1578 3097 1268 2742 \nQ 959 2388 959 1747 \nQ 959 1106 1268 751 \nQ 1578 397 2138 397 \nQ 2388 397 2633 464 \nQ 2878 531 3122 666 \nL 3122 134 \nQ 2881 22 2623 -34 \nQ 2366 -91 2075 -91 \nQ 1284 -91 818 406 \nQ 353 903 353 1747 \nQ 353 2603 823 3093 \nQ 1294 3584 2113 3584 \nQ 2378 3584 2631 3529 \nQ 2884 3475 3122 3366 \nz\n\" transform=\"scale(0.015625)\"/>\n      <path id=\"DejaVuSans-74\" d=\"M 1172 4494 \nL 1172 3500 \nL 2356 3500 \nL 2356 3053 \nL 1172 3053 \nL 1172 1153 \nQ 1172 725 1289 603 \nQ 1406 481 1766 481 \nL 2356 481 \nL 2356 0 \nL 1766 0 \nQ 1100 0 847 248 \nQ 594 497 594 1153 \nL 594 3053 \nL 172 3053 \nL 172 3500 \nL 594 3500 \nL 594 4494 \nL 1172 4494 \nz\n\" transform=\"scale(0.015625)\"/>\n      <path id=\"DejaVuSans-6f\" d=\"M 1959 3097 \nQ 1497 3097 1228 2736 \nQ 959 2375 959 1747 \nQ 959 1119 1226 758 \nQ 1494 397 1959 397 \nQ 2419 397 2687 759 \nQ 2956 1122 2956 1747 \nQ 2956 2369 2687 2733 \nQ 2419 3097 1959 3097 \nz\nM 1959 3584 \nQ 2709 3584 3137 3096 \nQ 3566 2609 3566 1747 \nQ 3566 888 3137 398 \nQ 2709 -91 1959 -91 \nQ 1206 -91 779 398 \nQ 353 888 353 1747 \nQ 353 2609 779 3096 \nQ 1206 3584 1959 3584 \nz\n\" transform=\"scale(0.015625)\"/>\n      <path id=\"DejaVuSans-6e\" d=\"M 3513 2113 \nL 3513 0 \nL 2938 0 \nL 2938 2094 \nQ 2938 2591 2744 2837 \nQ 2550 3084 2163 3084 \nQ 1697 3084 1428 2787 \nQ 1159 2491 1159 1978 \nL 1159 0 \nL 581 0 \nL 581 3500 \nL 1159 3500 \nL 1159 2956 \nQ 1366 3272 1645 3428 \nQ 1925 3584 2291 3584 \nQ 2894 3584 3203 3211 \nQ 3513 2838 3513 2113 \nz\n\" transform=\"scale(0.015625)\"/>\n      <path id=\"DejaVuSans-3a\" d=\"M 750 794 \nL 1409 794 \nL 1409 0 \nL 750 0 \nL 750 794 \nz\nM 750 3309 \nL 1409 3309 \nL 1409 2516 \nL 750 2516 \nL 750 3309 \nz\n\" transform=\"scale(0.015625)\"/>\n      <path id=\"DejaVuSans-20\" transform=\"scale(0.015625)\"/>\n      <path id=\"DejaVuSans-36\" d=\"M 2113 2584 \nQ 1688 2584 1439 2293 \nQ 1191 2003 1191 1497 \nQ 1191 994 1439 701 \nQ 1688 409 2113 409 \nQ 2538 409 2786 701 \nQ 3034 994 3034 1497 \nQ 3034 2003 2786 2293 \nQ 2538 2584 2113 2584 \nz\nM 3366 4563 \nL 3366 3988 \nQ 3128 4100 2886 4159 \nQ 2644 4219 2406 4219 \nQ 1781 4219 1451 3797 \nQ 1122 3375 1075 2522 \nQ 1259 2794 1537 2939 \nQ 1816 3084 2150 3084 \nQ 2853 3084 3261 2657 \nQ 3669 2231 3669 1497 \nQ 3669 778 3244 343 \nQ 2819 -91 2113 -91 \nQ 1303 -91 875 529 \nQ 447 1150 447 2328 \nQ 447 3434 972 4092 \nQ 1497 4750 2381 4750 \nQ 2619 4750 2861 4703 \nQ 3103 4656 3366 4563 \nz\n\" transform=\"scale(0.015625)\"/>\n     </defs>\n     <use xlink:href=\"#DejaVuSans-50\"/>\n     <use xlink:href=\"#DejaVuSans-72\" x=\"58.552734\"/>\n     <use xlink:href=\"#DejaVuSans-65\" x=\"97.416016\"/>\n     <use xlink:href=\"#DejaVuSans-64\" x=\"158.939453\"/>\n     <use xlink:href=\"#DejaVuSans-69\" x=\"222.416016\"/>\n     <use xlink:href=\"#DejaVuSans-63\" x=\"250.199219\"/>\n     <use xlink:href=\"#DejaVuSans-74\" x=\"305.179688\"/>\n     <use xlink:href=\"#DejaVuSans-69\" x=\"344.388672\"/>\n     <use xlink:href=\"#DejaVuSans-6f\" x=\"372.171875\"/>\n     <use xlink:href=\"#DejaVuSans-6e\" x=\"433.353516\"/>\n     <use xlink:href=\"#DejaVuSans-3a\" x=\"496.732422\"/>\n     <use xlink:href=\"#DejaVuSans-20\" x=\"530.423828\"/>\n     <use xlink:href=\"#DejaVuSans-36\" x=\"562.210938\"/>\n    </g>\n   </g>\n  </g>\n  <g id=\"axes_2\">\n   <g id=\"patch_7\">\n    <path d=\"M 161.123333 142.601458 \nL 281.406667 142.601458 \nL 281.406667 22.318125 \nL 161.123333 22.318125 \nz\n\" style=\"fill: #ffffff\"/>\n   </g>\n   <g clip-path=\"url(#paaa214bf74)\">\n    <image xlink:href=\"data:image/png;base64,\niVBORw0KGgoAAAANSUhEUgAAABwAAAAcCAYAAAByDd+UAAAB4klEQVR4nO2WvariUBRG9x0FsVNEfAELsdBCER/AVlEQtdJS38HWSgQfwLzALUSs0tilEG0sYhMRhBSimMIQFRT3+abywsD8eMK9MgPzQZok6yxO9tmbvBER6IX59krZf+FTKZVKpGkaJZPJpxm4vdrtNhzHwfV6RTabfZZzJ+v1erjdbmBmKIryNOfqk8ZiMarX6+TxeIiI6HQ6SfHSuxsMBhBCgJnBzCgWizK8nKzZbEIIAQAQQkAIgUwm8zXCWCyG7XYLZsZ8PgczY7fbIRKJfE0Na7UaRSIR6nQ6ZBgGERFpmkb7/f7pNaSEs9mMhsMh9fv9j3vL5VJmCfLKvKyqKqmqKiX4WVz14ePQRKNRKc5VH6bTaQJAm82GLMuSYl0LiYgmkwkdj0cpVqqGj+TzeSIi0nWdAoEAxeNxSqVSZJomjcfjP/JSNfD5fFgsFhBCQNd1OI4DZsZ6vUa5XP68xs/lcqhUKnh/f/9h0hiGgVar9TmTJhgM4nA4wLIs3O/3j9nJzFitVmg0GvD7/bIn/NcPQ6EQmBlCCJzPZ3S7XZimCWZGoVBw1U6/FXq9XlSrVdi2Ddu2MZ1OYds2FouFW9lzNQyHw1AUBaPRCJfLBYlEwrXw7WF9Vf69v7a/Xvgd68omEFzu5JUAAAAASUVORK5CYII=\" id=\"image2043272c53\" transform=\"matrix(4.321429 0 0 4.321429 161.123333 21.601458)\" style=\"image-rendering:crisp-edges;image-rendering:pixelated\" width=\"28\" height=\"28\"/>\n   </g>\n   <g id=\"matplotlib.axis_3\"/>\n   <g id=\"matplotlib.axis_4\"/>\n   <g id=\"patch_8\">\n    <path d=\"M 161.123333 142.601458 \nL 161.123333 22.318125 \n\" style=\"fill: none; stroke: #000000; stroke-width: 0.8; stroke-linejoin: miter; stroke-linecap: square\"/>\n   </g>\n   <g id=\"patch_9\">\n    <path d=\"M 281.406667 142.601458 \nL 281.406667 22.318125 \n\" style=\"fill: none; stroke: #000000; stroke-width: 0.8; stroke-linejoin: miter; stroke-linecap: square\"/>\n   </g>\n   <g id=\"patch_10\">\n    <path d=\"M 161.123333 142.601458 \nL 281.406667 142.601458 \n\" style=\"fill: none; stroke: #000000; stroke-width: 0.8; stroke-linejoin: miter; stroke-linecap: square\"/>\n   </g>\n   <g id=\"patch_11\">\n    <path d=\"M 161.123333 22.318125 \nL 281.406667 22.318125 \n\" style=\"fill: none; stroke: #000000; stroke-width: 0.8; stroke-linejoin: miter; stroke-linecap: square\"/>\n   </g>\n   <g id=\"text_2\">\n    <!-- Prediction: 1 -->\n    <g transform=\"translate(183.715312 16.318125) scale(0.12 -0.12)\">\n     <defs>\n      <path id=\"DejaVuSans-31\" d=\"M 794 531 \nL 1825 531 \nL 1825 4091 \nL 703 3866 \nL 703 4441 \nL 1819 4666 \nL 2450 4666 \nL 2450 531 \nL 3481 531 \nL 3481 0 \nL 794 0 \nL 794 531 \nz\n\" transform=\"scale(0.015625)\"/>\n     </defs>\n     <use xlink:href=\"#DejaVuSans-50\"/>\n     <use xlink:href=\"#DejaVuSans-72\" x=\"58.552734\"/>\n     <use xlink:href=\"#DejaVuSans-65\" x=\"97.416016\"/>\n     <use xlink:href=\"#DejaVuSans-64\" x=\"158.939453\"/>\n     <use xlink:href=\"#DejaVuSans-69\" x=\"222.416016\"/>\n     <use xlink:href=\"#DejaVuSans-63\" x=\"250.199219\"/>\n     <use xlink:href=\"#DejaVuSans-74\" x=\"305.179688\"/>\n     <use xlink:href=\"#DejaVuSans-69\" x=\"344.388672\"/>\n     <use xlink:href=\"#DejaVuSans-6f\" x=\"372.171875\"/>\n     <use xlink:href=\"#DejaVuSans-6e\" x=\"433.353516\"/>\n     <use xlink:href=\"#DejaVuSans-3a\" x=\"496.732422\"/>\n     <use xlink:href=\"#DejaVuSans-20\" x=\"530.423828\"/>\n     <use xlink:href=\"#DejaVuSans-31\" x=\"562.210938\"/>\n    </g>\n   </g>\n  </g>\n  <g id=\"axes_3\">\n   <g id=\"patch_12\">\n    <path d=\"M 315.046667 142.601458 \nL 435.33 142.601458 \nL 435.33 22.318125 \nL 315.046667 22.318125 \nz\n\" style=\"fill: #ffffff\"/>\n   </g>\n   <g clip-path=\"url(#p7349367cc2)\">\n    <image xlink:href=\"data:image/png;base64,\niVBORw0KGgoAAAANSUhEUgAAABwAAAAcCAYAAAByDd+UAAABgUlEQVR4nO2UMYrCQBiFn5sUFk4UBJtYCIopLBVsRG/gDQQrr5Dac4g3EMVGtFK08wKCTUAQRVAwAylsns1GsNoZkewuuw9eMQ/++Wb+4Z8YACJCfUQJ+wd+L7BarWK1WqFcLkcDzOVyqNVqaDab0QAB4Hw+o9frPWWNRgOTyQSO47wX2G63cTqdcLlcHlmhUMB8PodhGE/5V6KKp9Mpb7cbHcd5ZP1+nySZTqeV9vi0OnC9Xj/W+Xyevu9zv99TCKEM1HrDSqWCer0OABBCQAiB2WwGKaXONmonG4/HJMnFYsFSqcRWq0UpJS3L0mmnektt2+Z2uyVJHg4Hep7HIAho2zYty6Lrusxms+8DAmA8Hmen06HneQwVBAGllDwejywWi+8Fhk6lUpRSkiRHoxG73a7q7RgLqbryfR8kkUwmtep+7uf994DX6zVa4HA4jBa4XC5hmiYymUw0wM1mA9M04bouDMPQqtUe/NCDwYC73Y6JREK55uXBf1W/Zyxe1R2w/Er9RfzCjQAAAABJRU5ErkJggg==\" id=\"imagee9326f1c37\" transform=\"matrix(4.321429 0 0 4.321429 315.046667 21.601458)\" style=\"image-rendering:crisp-edges;image-rendering:pixelated\" width=\"28\" height=\"28\"/>\n   </g>\n   <g id=\"matplotlib.axis_5\"/>\n   <g id=\"matplotlib.axis_6\"/>\n   <g id=\"patch_13\">\n    <path d=\"M 315.046667 142.601458 \nL 315.046667 22.318125 \n\" style=\"fill: none; stroke: #000000; stroke-width: 0.8; stroke-linejoin: miter; stroke-linecap: square\"/>\n   </g>\n   <g id=\"patch_14\">\n    <path d=\"M 435.33 142.601458 \nL 435.33 22.318125 \n\" style=\"fill: none; stroke: #000000; stroke-width: 0.8; stroke-linejoin: miter; stroke-linecap: square\"/>\n   </g>\n   <g id=\"patch_15\">\n    <path d=\"M 315.046667 142.601458 \nL 435.33 142.601458 \n\" style=\"fill: none; stroke: #000000; stroke-width: 0.8; stroke-linejoin: miter; stroke-linecap: square\"/>\n   </g>\n   <g id=\"patch_16\">\n    <path d=\"M 315.046667 22.318125 \nL 435.33 22.318125 \n\" style=\"fill: none; stroke: #000000; stroke-width: 0.8; stroke-linejoin: miter; stroke-linecap: square\"/>\n   </g>\n   <g id=\"text_3\">\n    <!-- Prediction: 4 -->\n    <g transform=\"translate(337.638646 16.318125) scale(0.12 -0.12)\">\n     <defs>\n      <path id=\"DejaVuSans-34\" d=\"M 2419 4116 \nL 825 1625 \nL 2419 1625 \nL 2419 4116 \nz\nM 2253 4666 \nL 3047 4666 \nL 3047 1625 \nL 3713 1625 \nL 3713 1100 \nL 3047 1100 \nL 3047 0 \nL 2419 0 \nL 2419 1100 \nL 313 1100 \nL 313 1709 \nL 2253 4666 \nz\n\" transform=\"scale(0.015625)\"/>\n     </defs>\n     <use xlink:href=\"#DejaVuSans-50\"/>\n     <use xlink:href=\"#DejaVuSans-72\" x=\"58.552734\"/>\n     <use xlink:href=\"#DejaVuSans-65\" x=\"97.416016\"/>\n     <use xlink:href=\"#DejaVuSans-64\" x=\"158.939453\"/>\n     <use xlink:href=\"#DejaVuSans-69\" x=\"222.416016\"/>\n     <use xlink:href=\"#DejaVuSans-63\" x=\"250.199219\"/>\n     <use xlink:href=\"#DejaVuSans-74\" x=\"305.179688\"/>\n     <use xlink:href=\"#DejaVuSans-69\" x=\"344.388672\"/>\n     <use xlink:href=\"#DejaVuSans-6f\" x=\"372.171875\"/>\n     <use xlink:href=\"#DejaVuSans-6e\" x=\"433.353516\"/>\n     <use xlink:href=\"#DejaVuSans-3a\" x=\"496.732422\"/>\n     <use xlink:href=\"#DejaVuSans-20\" x=\"530.423828\"/>\n     <use xlink:href=\"#DejaVuSans-34\" x=\"562.210938\"/>\n    </g>\n   </g>\n  </g>\n  <g id=\"axes_4\">\n   <g id=\"patch_17\">\n    <path d=\"M 7.2 295.401458 \nL 127.483333 295.401458 \nL 127.483333 175.118125 \nL 7.2 175.118125 \nz\n\" style=\"fill: #ffffff\"/>\n   </g>\n   <g clip-path=\"url(#p22513b077c)\">\n    <image xlink:href=\"data:image/png;base64,\niVBORw0KGgoAAAANSUhEUgAAABwAAAAcCAYAAAByDd+UAAAA20lEQVR4nO3WoaqEQBTG8f/earFaNAqCUdAiCD6AT+gjTDWaBeOYJwo+gRjmbLiw3LJhXEZYrh9M/Pgx4XDOAxAuzM+V2A2+TVmWiAhN01wDtm2LiND3PXEc+werqgIgSRKiKPIPDsNwpnYenOcZgGVZMMb4B7uuA2BdV7Zt8w/meQ6AUsq5+9Ecaq39g0EQEIahM3QaTNP0NRaXgJ/mBv8hqLVmHMfrwOM42PcdgKIo/IN/k2WZ83qC36vN6dV1LdZasdaKUsqpe+qHxpjXWpqmyan74L5Lvx18AkiNXJkWAo0iAAAAAElFTkSuQmCC\" id=\"image6b8de5c705\" transform=\"matrix(4.321429 0 0 4.321429 7.2 174.401458)\" style=\"image-rendering:crisp-edges;image-rendering:pixelated\" width=\"28\" height=\"28\"/>\n   </g>\n   <g id=\"matplotlib.axis_7\"/>\n   <g id=\"matplotlib.axis_8\"/>\n   <g id=\"patch_18\">\n    <path d=\"M 7.2 295.401458 \nL 7.2 175.118125 \n\" style=\"fill: none; stroke: #000000; stroke-width: 0.8; stroke-linejoin: miter; stroke-linecap: square\"/>\n   </g>\n   <g id=\"patch_19\">\n    <path d=\"M 127.483333 295.401458 \nL 127.483333 175.118125 \n\" style=\"fill: none; stroke: #000000; stroke-width: 0.8; stroke-linejoin: miter; stroke-linecap: square\"/>\n   </g>\n   <g id=\"patch_20\">\n    <path d=\"M 7.2 295.401458 \nL 127.483333 295.401458 \n\" style=\"fill: none; stroke: #000000; stroke-width: 0.8; stroke-linejoin: miter; stroke-linecap: square\"/>\n   </g>\n   <g id=\"patch_21\">\n    <path d=\"M 7.2 175.118125 \nL 127.483333 175.118125 \n\" style=\"fill: none; stroke: #000000; stroke-width: 0.8; stroke-linejoin: miter; stroke-linecap: square\"/>\n   </g>\n   <g id=\"text_4\">\n    <!-- Prediction: 1 -->\n    <g transform=\"translate(29.791979 169.118125) scale(0.12 -0.12)\">\n     <use xlink:href=\"#DejaVuSans-50\"/>\n     <use xlink:href=\"#DejaVuSans-72\" x=\"58.552734\"/>\n     <use xlink:href=\"#DejaVuSans-65\" x=\"97.416016\"/>\n     <use xlink:href=\"#DejaVuSans-64\" x=\"158.939453\"/>\n     <use xlink:href=\"#DejaVuSans-69\" x=\"222.416016\"/>\n     <use xlink:href=\"#DejaVuSans-63\" x=\"250.199219\"/>\n     <use xlink:href=\"#DejaVuSans-74\" x=\"305.179688\"/>\n     <use xlink:href=\"#DejaVuSans-69\" x=\"344.388672\"/>\n     <use xlink:href=\"#DejaVuSans-6f\" x=\"372.171875\"/>\n     <use xlink:href=\"#DejaVuSans-6e\" x=\"433.353516\"/>\n     <use xlink:href=\"#DejaVuSans-3a\" x=\"496.732422\"/>\n     <use xlink:href=\"#DejaVuSans-20\" x=\"530.423828\"/>\n     <use xlink:href=\"#DejaVuSans-31\" x=\"562.210938\"/>\n    </g>\n   </g>\n  </g>\n  <g id=\"axes_5\">\n   <g id=\"patch_22\">\n    <path d=\"M 161.123333 295.401458 \nL 281.406667 295.401458 \nL 281.406667 175.118125 \nL 161.123333 175.118125 \nz\n\" style=\"fill: #ffffff\"/>\n   </g>\n   <g clip-path=\"url(#pa68d73877c)\">\n    <image xlink:href=\"data:image/png;base64,\niVBORw0KGgoAAAANSUhEUgAAABwAAAAcCAYAAAByDd+UAAACO0lEQVR4nO2WvWoqURSFt3oNJioOOMhYaBf1AQQbwSJBCIg6OErAxsbXCGKaPIStIBYGAlYSUlilFRuLQCAoaKURf2aie6W6gqDjT4jNvQd2Mcw665tzzl4zYyAi0AmH8ZSw/8B/FOhyuSgajVK9XqeXlxdiZgJAzEyVSoUURSGfz6frgX3KZDIhEong8/MTqqqCmbfWbDZDsVjc6PNn35Xd3NzQ09PT6rrdbpOmadRoNGgwGFC32yWv10vhcJji8Ti53e7jVxiLxTAej8HMGI/HSKVSMJvNG7Xn5+d4f3/Hx8fHNj99mMfjWcGm0ykCgYCuXpZlTKdTlEqljfd3Ns3FxQVZrVZaLBaUzWap0+no6nO5HFksFhoMBsdt6d3d3VpDPD4+olaroVarIZ/PQxTFlVaSJAyHQzSbTQiCcNyW+nw+3Y78+vqCpmlIpVIgImQyGTgcDj3P3XGIRqO6UGbGw8PDXvHaGYvlcknPz890dXVFoVCIbm9vyWAwkN/vp16vR4IgkCAIdHl5uctqvzPcVn6/H3a7HYVCAcyM+/v7feceByQiiKKIt7c3MDPS6fTvAkVRxOvrK5gZqqpCkqTfAzqdTvT7fTAz5vM54vH4IfMPg11fX2M0GoGZMZlMkEwmD33g/YRGoxGKoqy9U2VZPuY4dotsNhvK5fIqcz+A6QPPzs6gKApardZayIPB4LEwfWAmk1kDqaqKXC639dP0Y2C1Wl3BNE1DIpH4CQhEBMNf6qnGyf/avgEv7vCUbkRXpwAAAABJRU5ErkJggg==\" id=\"image8a3bb84f82\" transform=\"matrix(4.321429 0 0 4.321429 161.123333 174.401458)\" style=\"image-rendering:crisp-edges;image-rendering:pixelated\" width=\"28\" height=\"28\"/>\n   </g>\n   <g id=\"matplotlib.axis_9\"/>\n   <g id=\"matplotlib.axis_10\"/>\n   <g id=\"patch_23\">\n    <path d=\"M 161.123333 295.401458 \nL 161.123333 175.118125 \n\" style=\"fill: none; stroke: #000000; stroke-width: 0.8; stroke-linejoin: miter; stroke-linecap: square\"/>\n   </g>\n   <g id=\"patch_24\">\n    <path d=\"M 281.406667 295.401458 \nL 281.406667 175.118125 \n\" style=\"fill: none; stroke: #000000; stroke-width: 0.8; stroke-linejoin: miter; stroke-linecap: square\"/>\n   </g>\n   <g id=\"patch_25\">\n    <path d=\"M 161.123333 295.401458 \nL 281.406667 295.401458 \n\" style=\"fill: none; stroke: #000000; stroke-width: 0.8; stroke-linejoin: miter; stroke-linecap: square\"/>\n   </g>\n   <g id=\"patch_26\">\n    <path d=\"M 161.123333 175.118125 \nL 281.406667 175.118125 \n\" style=\"fill: none; stroke: #000000; stroke-width: 0.8; stroke-linejoin: miter; stroke-linecap: square\"/>\n   </g>\n   <g id=\"text_5\">\n    <!-- Prediction: 9 -->\n    <g transform=\"translate(183.715312 169.118125) scale(0.12 -0.12)\">\n     <defs>\n      <path id=\"DejaVuSans-39\" d=\"M 703 97 \nL 703 672 \nQ 941 559 1184 500 \nQ 1428 441 1663 441 \nQ 2288 441 2617 861 \nQ 2947 1281 2994 2138 \nQ 2813 1869 2534 1725 \nQ 2256 1581 1919 1581 \nQ 1219 1581 811 2004 \nQ 403 2428 403 3163 \nQ 403 3881 828 4315 \nQ 1253 4750 1959 4750 \nQ 2769 4750 3195 4129 \nQ 3622 3509 3622 2328 \nQ 3622 1225 3098 567 \nQ 2575 -91 1691 -91 \nQ 1453 -91 1209 -44 \nQ 966 3 703 97 \nz\nM 1959 2075 \nQ 2384 2075 2632 2365 \nQ 2881 2656 2881 3163 \nQ 2881 3666 2632 3958 \nQ 2384 4250 1959 4250 \nQ 1534 4250 1286 3958 \nQ 1038 3666 1038 3163 \nQ 1038 2656 1286 2365 \nQ 1534 2075 1959 2075 \nz\n\" transform=\"scale(0.015625)\"/>\n     </defs>\n     <use xlink:href=\"#DejaVuSans-50\"/>\n     <use xlink:href=\"#DejaVuSans-72\" x=\"58.552734\"/>\n     <use xlink:href=\"#DejaVuSans-65\" x=\"97.416016\"/>\n     <use xlink:href=\"#DejaVuSans-64\" x=\"158.939453\"/>\n     <use xlink:href=\"#DejaVuSans-69\" x=\"222.416016\"/>\n     <use xlink:href=\"#DejaVuSans-63\" x=\"250.199219\"/>\n     <use xlink:href=\"#DejaVuSans-74\" x=\"305.179688\"/>\n     <use xlink:href=\"#DejaVuSans-69\" x=\"344.388672\"/>\n     <use xlink:href=\"#DejaVuSans-6f\" x=\"372.171875\"/>\n     <use xlink:href=\"#DejaVuSans-6e\" x=\"433.353516\"/>\n     <use xlink:href=\"#DejaVuSans-3a\" x=\"496.732422\"/>\n     <use xlink:href=\"#DejaVuSans-20\" x=\"530.423828\"/>\n     <use xlink:href=\"#DejaVuSans-39\" x=\"562.210938\"/>\n    </g>\n   </g>\n  </g>\n  <g id=\"axes_6\">\n   <g id=\"patch_27\">\n    <path d=\"M 315.046667 295.401458 \nL 435.33 295.401458 \nL 435.33 175.118125 \nL 315.046667 175.118125 \nz\n\" style=\"fill: #ffffff\"/>\n   </g>\n   <g clip-path=\"url(#p9b77b95239)\">\n    <image xlink:href=\"data:image/png;base64,\niVBORw0KGgoAAAANSUhEUgAAABwAAAAcCAYAAAByDd+UAAABjUlEQVR4nO2Wv4rCQBDGv9MEUgmSQjtLIaVvkFZEX0E7wdZ3EBSxthYLG8FOq4BpLKwECxuRgJWNhaQQh++KOw7kwNvJocVxCwO77Hz7Y2b23xsA4oUt9UrYP/BvAC0TJ9/3US6X0W63QRLH4xHj8fjOZ7FYIAgCIyh/suFwSBF5aIfD4cd1ANAowm63C8/zsFwusV6vv81PJhOjyIwjfGS+7/N6vbLT6Rj5/2rTVKtVzOdzpNNpRFFkpPkVMJvNwrIsxHGM0Wj0fGAq9SHv9Xq4XC7GukS1cxyHu92OIkLbtjXaZMBGo0ER4el0omVZzweGYUgRYb/f12r1MNd1ud1uKSIslUrPBzabTYoIp9OpNp36c+i6LlqtFgDgfD7jdrup9GpgLpeD53kAgDAMtXI9MJPJAADiOE4EBBT5t22bs9mMIsIgCOg4TpIdbu6cz+fvnqR6va4GqlJaLBbvxqvVSiMHoKxhrVb76g8GA+z3ezUQUKSjUqlws9kwiiIWCoVEN9TbZ+dl7eW/tnes77FNbpKsKgAAAABJRU5ErkJggg==\" id=\"image23071f7020\" transform=\"matrix(4.321429 0 0 4.321429 315.046667 174.401458)\" style=\"image-rendering:crisp-edges;image-rendering:pixelated\" width=\"28\" height=\"28\"/>\n   </g>\n   <g id=\"matplotlib.axis_11\"/>\n   <g id=\"matplotlib.axis_12\"/>\n   <g id=\"patch_28\">\n    <path d=\"M 315.046667 295.401458 \nL 315.046667 175.118125 \n\" style=\"fill: none; stroke: #000000; stroke-width: 0.8; stroke-linejoin: miter; stroke-linecap: square\"/>\n   </g>\n   <g id=\"patch_29\">\n    <path d=\"M 435.33 295.401458 \nL 435.33 175.118125 \n\" style=\"fill: none; stroke: #000000; stroke-width: 0.8; stroke-linejoin: miter; stroke-linecap: square\"/>\n   </g>\n   <g id=\"patch_30\">\n    <path d=\"M 315.046667 295.401458 \nL 435.33 295.401458 \n\" style=\"fill: none; stroke: #000000; stroke-width: 0.8; stroke-linejoin: miter; stroke-linecap: square\"/>\n   </g>\n   <g id=\"patch_31\">\n    <path d=\"M 315.046667 175.118125 \nL 435.33 175.118125 \n\" style=\"fill: none; stroke: #000000; stroke-width: 0.8; stroke-linejoin: miter; stroke-linecap: square\"/>\n   </g>\n   <g id=\"text_6\">\n    <!-- Prediction: 7 -->\n    <g transform=\"translate(337.638646 169.118125) scale(0.12 -0.12)\">\n     <defs>\n      <path id=\"DejaVuSans-37\" d=\"M 525 4666 \nL 3525 4666 \nL 3525 4397 \nL 1831 0 \nL 1172 0 \nL 2766 4134 \nL 525 4134 \nL 525 4666 \nz\n\" transform=\"scale(0.015625)\"/>\n     </defs>\n     <use xlink:href=\"#DejaVuSans-50\"/>\n     <use xlink:href=\"#DejaVuSans-72\" x=\"58.552734\"/>\n     <use xlink:href=\"#DejaVuSans-65\" x=\"97.416016\"/>\n     <use xlink:href=\"#DejaVuSans-64\" x=\"158.939453\"/>\n     <use xlink:href=\"#DejaVuSans-69\" x=\"222.416016\"/>\n     <use xlink:href=\"#DejaVuSans-63\" x=\"250.199219\"/>\n     <use xlink:href=\"#DejaVuSans-74\" x=\"305.179688\"/>\n     <use xlink:href=\"#DejaVuSans-69\" x=\"344.388672\"/>\n     <use xlink:href=\"#DejaVuSans-6f\" x=\"372.171875\"/>\n     <use xlink:href=\"#DejaVuSans-6e\" x=\"433.353516\"/>\n     <use xlink:href=\"#DejaVuSans-3a\" x=\"496.732422\"/>\n     <use xlink:href=\"#DejaVuSans-20\" x=\"530.423828\"/>\n     <use xlink:href=\"#DejaVuSans-37\" x=\"562.210938\"/>\n    </g>\n   </g>\n  </g>\n </g>\n <defs>\n  <clipPath id=\"pc865630900\">\n   <rect x=\"7.2\" y=\"22.318125\" width=\"120.283333\" height=\"120.283333\"/>\n  </clipPath>\n  <clipPath id=\"paaa214bf74\">\n   <rect x=\"161.123333\" y=\"22.318125\" width=\"120.283333\" height=\"120.283333\"/>\n  </clipPath>\n  <clipPath id=\"p7349367cc2\">\n   <rect x=\"315.046667\" y=\"22.318125\" width=\"120.283333\" height=\"120.283333\"/>\n  </clipPath>\n  <clipPath id=\"p22513b077c\">\n   <rect x=\"7.2\" y=\"175.118125\" width=\"120.283333\" height=\"120.283333\"/>\n  </clipPath>\n  <clipPath id=\"pa68d73877c\">\n   <rect x=\"161.123333\" y=\"175.118125\" width=\"120.283333\" height=\"120.283333\"/>\n  </clipPath>\n  <clipPath id=\"p9b77b95239\">\n   <rect x=\"315.046667\" y=\"175.118125\" width=\"120.283333\" height=\"120.283333\"/>\n  </clipPath>\n </defs>\n</svg>\n",
            "text/plain": [
              "<Figure size 640x480 with 6 Axes>"
            ]
          },
          "metadata": {},
          "output_type": "display_data"
        }
      ],
      "source": [
        "fig = plt.figure()\n",
        "for i in range(6):\n",
        "  plt.subplot(2,3,i+1)\n",
        "  plt.tight_layout()\n",
        "  plt.imshow(example_data[i][0], cmap='gray', interpolation='none')\n",
        "  plt.title(\"Prediction: {}\".format(\n",
        "    output.data.max(1, keepdim=True)[1][i].item()))\n",
        "  plt.xticks([])\n",
        "  plt.yticks([])"
      ]
    },
    {
      "cell_type": "code",
      "execution_count": null,
      "metadata": {
        "colab": {
          "base_uri": "https://localhost:8080/"
        },
        "id": "VTTVFb_cUBXc",
        "outputId": "e6909308-0c87-4aa8-e918-51c770e0309e"
      },
      "outputs": [
        {
          "data": {
            "text/plain": [
              "torch.Size([1000, 1, 28, 28])"
            ]
          },
          "execution_count": 280,
          "metadata": {},
          "output_type": "execute_result"
        }
      ],
      "source": [
        "# plt.imshow(example_data[0],cmap='gray')\n",
        "len(example_data[2])\n",
        "example_data.shape"
      ]
    },
    {
      "cell_type": "markdown",
      "metadata": {
        "id": "iKLPaOFu7vKf"
      },
      "source": [
        "## FNN"
      ]
    },
    {
      "cell_type": "code",
      "execution_count": 164,
      "metadata": {
        "id": "CxdFLqvA5hgE"
      },
      "outputs": [],
      "source": [
        "input_size = 784\n",
        "hidden_size = 500\n",
        "num_classes = 10\n",
        "num_epochs = 8\n",
        "# batch_size = 100\n",
        "learning_rate = 0.01\n",
        "momentum=0.5"
      ]
    },
    {
      "cell_type": "code",
      "source": [
        "class NeuralNet(nn.Module):\n",
        "    def __init__(self, input_size, hidden_size, num_classes):\n",
        "        super(NeuralNet, self).__init__()\n",
        "        self.fc1 = nn.Linear(input_size, hidden_size)\n",
        "        self.relu = nn.ReLU()\n",
        "        self.fc2 = nn.Linear(hidden_size, num_classes)\n",
        "\n",
        "    def forward(self, x):\n",
        "        out = self.fc1(x)\n",
        "        out = self.relu(out)\n",
        "        out = self.fc2(out)\n",
        "        return out\n"
      ],
      "metadata": {
        "id": "IsdiNzG0naf3"
      },
      "execution_count": 142,
      "outputs": []
    },
    {
      "cell_type": "code",
      "source": [
        "model = NeuralNet(input_size, hidden_size, num_classes)\n",
        "\n",
        "criterion = nn.CrossEntropyLoss()\n",
        "\n",
        "\n",
        "optimizer = optim.SGD(model.parameters(), lr=learning_rate,\n",
        "                      momentum=momentum) #learning_rate=0.01,momentum=0.5\n"
      ],
      "metadata": {
        "id": "mIRGzB0cnbnt"
      },
      "execution_count": 165,
      "outputs": []
    },
    {
      "cell_type": "code",
      "source": [
        "total_step = len(train_loader)\n",
        "\n",
        "for epoch in range(num_epochs):\n",
        "    for i, (images, labels) in enumerate(train_loader):\n",
        "        images = images.reshape(-1, 28*28)\n",
        "        labels = labels\n",
        "\n",
        "        # feedforward\n",
        "        outputs = model(images)\n",
        "        loss = criterion(outputs, labels)\n",
        "\n",
        "        # back\n",
        "        optimizer.zero_grad()\n",
        "        loss.backward()\n",
        "        optimizer.step()\n",
        "\n",
        "        if (i+1) % 100 == 0:\n",
        "            print ('Epoch [{}/{}], Step [{}/{}], Loss: {:.4f}'\n",
        "                   .format(epoch+1, num_epochs, i+1, total_step, loss.item()))\n",
        "\n",
        "    with torch.no_grad():\n",
        "        correct = 0\n",
        "        total = 0\n",
        "        for images, labels in test_loader:\n",
        "          images = images.reshape(-1, 28*28)\n",
        "          labels = labels\n",
        "          outputs = model(images)\n",
        "          _, predicted = torch.max(outputs.data, 1)\n",
        "          total += labels.size(0)\n",
        "          correct += (predicted == labels).sum().item()\n",
        "        print('Accuracy of the test images: {} %'.format(100 * correct / total))"
      ],
      "metadata": {
        "colab": {
          "base_uri": "https://localhost:8080/"
        },
        "id": "doa9LyminpTO",
        "outputId": "a30d7e12-9558-4f4a-fe91-128522240c26"
      },
      "execution_count": 168,
      "outputs": [
        {
          "output_type": "stream",
          "name": "stdout",
          "text": [
            "Epoch [1/8], Step [100/600], Loss: 0.1895\n",
            "Epoch [1/8], Step [200/600], Loss: 0.2519\n",
            "Epoch [1/8], Step [300/600], Loss: 0.2208\n",
            "Epoch [1/8], Step [400/600], Loss: 0.1169\n",
            "Epoch [1/8], Step [500/600], Loss: 0.1386\n",
            "Epoch [1/8], Step [600/600], Loss: 0.2485\n",
            "Accuracy of the test images: 93.55166666666666 %\n",
            "Epoch [2/8], Step [100/600], Loss: 0.1673\n",
            "Epoch [2/8], Step [200/600], Loss: 0.2014\n",
            "Epoch [2/8], Step [300/600], Loss: 0.2067\n",
            "Epoch [2/8], Step [400/600], Loss: 0.1356\n",
            "Epoch [2/8], Step [500/600], Loss: 0.3898\n",
            "Epoch [2/8], Step [600/600], Loss: 0.1191\n",
            "Accuracy of the test images: 94.60166666666667 %\n",
            "Epoch [3/8], Step [100/600], Loss: 0.2559\n",
            "Epoch [3/8], Step [200/600], Loss: 0.2909\n",
            "Epoch [3/8], Step [300/600], Loss: 0.2019\n",
            "Epoch [3/8], Step [400/600], Loss: 0.1550\n",
            "Epoch [3/8], Step [500/600], Loss: 0.0935\n",
            "Epoch [3/8], Step [600/600], Loss: 0.1544\n",
            "Accuracy of the test images: 95.42833333333333 %\n",
            "Epoch [4/8], Step [100/600], Loss: 0.1242\n",
            "Epoch [4/8], Step [200/600], Loss: 0.1224\n",
            "Epoch [4/8], Step [300/600], Loss: 0.2084\n",
            "Epoch [4/8], Step [400/600], Loss: 0.2778\n",
            "Epoch [4/8], Step [500/600], Loss: 0.2322\n",
            "Epoch [4/8], Step [600/600], Loss: 0.1042\n",
            "Accuracy of the test images: 96.08666666666667 %\n",
            "Epoch [5/8], Step [100/600], Loss: 0.1532\n",
            "Epoch [5/8], Step [200/600], Loss: 0.2805\n",
            "Epoch [5/8], Step [300/600], Loss: 0.1068\n",
            "Epoch [5/8], Step [400/600], Loss: 0.0802\n",
            "Epoch [5/8], Step [500/600], Loss: 0.1591\n",
            "Epoch [5/8], Step [600/600], Loss: 0.0737\n",
            "Accuracy of the test images: 96.52166666666666 %\n",
            "Epoch [6/8], Step [100/600], Loss: 0.1094\n",
            "Epoch [6/8], Step [200/600], Loss: 0.1374\n",
            "Epoch [6/8], Step [300/600], Loss: 0.1485\n",
            "Epoch [6/8], Step [400/600], Loss: 0.1145\n",
            "Epoch [6/8], Step [500/600], Loss: 0.0853\n",
            "Epoch [6/8], Step [600/600], Loss: 0.1647\n",
            "Accuracy of the test images: 96.895 %\n",
            "Epoch [7/8], Step [100/600], Loss: 0.1500\n",
            "Epoch [7/8], Step [200/600], Loss: 0.0881\n",
            "Epoch [7/8], Step [300/600], Loss: 0.1921\n",
            "Epoch [7/8], Step [400/600], Loss: 0.1793\n",
            "Epoch [7/8], Step [500/600], Loss: 0.0501\n",
            "Epoch [7/8], Step [600/600], Loss: 0.1707\n",
            "Accuracy of the test images: 97.22666666666667 %\n",
            "Epoch [8/8], Step [100/600], Loss: 0.1539\n",
            "Epoch [8/8], Step [200/600], Loss: 0.0701\n",
            "Epoch [8/8], Step [300/600], Loss: 0.1101\n",
            "Epoch [8/8], Step [400/600], Loss: 0.0984\n",
            "Epoch [8/8], Step [500/600], Loss: 0.2011\n",
            "Epoch [8/8], Step [600/600], Loss: 0.0570\n",
            "Accuracy of the test images: 97.45 %\n"
          ]
        }
      ]
    },
    {
      "cell_type": "markdown",
      "metadata": {
        "id": "DIZvK-q-3MMg"
      },
      "source": [
        "## Visual Transformer"
      ]
    },
    {
      "cell_type": "code",
      "execution_count": null,
      "metadata": {
        "colab": {
          "base_uri": "https://localhost:8080/"
        },
        "id": "nJCvKBpCelyK",
        "outputId": "10cf953e-37e4-4d9b-bdb2-e0b01112747d"
      },
      "outputs": [
        {
          "name": "stdout",
          "output_type": "stream",
          "text": [
            "Collecting einops\n",
            "  Downloading einops-0.7.0-py3-none-any.whl (44 kB)\n",
            "\u001b[2K     \u001b[90m━━━━━━━━━━━━━━━━━━━━━━━━━━━━━━━━━━━━━━━━\u001b[0m \u001b[32m44.6/44.6 kB\u001b[0m \u001b[31m646.0 kB/s\u001b[0m eta \u001b[36m0:00:00\u001b[0m\n",
            "\u001b[?25hInstalling collected packages: einops\n",
            "Successfully installed einops-0.7.0\n"
          ]
        }
      ],
      "source": [
        "!pip install einops"
      ]
    },
    {
      "cell_type": "code",
      "execution_count": null,
      "metadata": {
        "id": "Z_N35I63p-QM"
      },
      "outputs": [],
      "source": [
        "import torch\n",
        "import torchvision\n",
        "from torch import nn\n",
        "import time\n",
        "import torch\n",
        "import torch.nn.functional as F\n",
        "from torch import optim\n",
        "from torch import nn\n",
        "from einops import rearrange"
      ]
    },
    {
      "cell_type": "code",
      "execution_count": null,
      "metadata": {
        "id": "esjWMsHsp-4i"
      },
      "outputs": [],
      "source": [
        "#Residual block\n",
        "class Residual(nn.Module):\n",
        "    def __init__(self, fn):\n",
        "        super().__init__()\n",
        "        self.fn = fn\n",
        "\n",
        "    def forward(self, x, **kwargs):\n",
        "        return self.fn(x, **kwargs) + x"
      ]
    },
    {
      "cell_type": "code",
      "execution_count": null,
      "metadata": {
        "id": "wvQFh0bYqEBc"
      },
      "outputs": [],
      "source": [
        "#layernorm\n",
        "class PreNorm(nn.Module):\n",
        "    \"\"\"layernorm\"\"\"\n",
        "    def __init__(self, dim, fn):\n",
        "        super().__init__()\n",
        "        self.norm = nn.LayerNorm(dim)\n",
        "        self.fn = fn\n",
        "\n",
        "    def forward(self, x, **kwargs):\n",
        "        return self.fn(self.norm(x), **kwargs)"
      ]
    },
    {
      "cell_type": "code",
      "execution_count": null,
      "metadata": {
        "id": "dhUZdZQ-qG3z"
      },
      "outputs": [],
      "source": [
        "class FeedForward(nn.Module):\n",
        "    def __init__(self, dim, hidden_dim):\n",
        "        super().__init__()\n",
        "        self.net = nn.Sequential(\n",
        "            nn.Linear(dim, hidden_dim),\n",
        "            nn.GELU(),\n",
        "            nn.Linear(hidden_dim, dim)\n",
        "        )\n",
        "\n",
        "    def forward(self, x):\n",
        "        return self.net(x)"
      ]
    },
    {
      "cell_type": "code",
      "execution_count": null,
      "metadata": {
        "id": "WGm3SOvzqQka"
      },
      "outputs": [],
      "source": [
        "class Attention(nn.Module):\n",
        "    \"\"\"multi-attention\"\"\"\n",
        "    def __init__(self, dim, heads=8):\n",
        "        super().__init__()\n",
        "        self.heads = heads\n",
        "        self.scale = dim ** -0.5\n",
        "\n",
        "        self.to_qkv = nn.Linear(dim, dim * 3, bias=False)\n",
        "        self.to_out = nn.Linear(dim, dim)\n",
        "\n",
        "    def forward(self, x, mask = None):\n",
        "        b, n, _, h = *x.shape, self.heads\n",
        "        qkv = self.to_qkv(x)\n",
        "        q, k, v = rearrange(qkv, 'b n (qkv h d) -> qkv b h n d', qkv=3, h=h)\n",
        "\n",
        "        dots = torch.einsum('bhid,bhjd->bhij', q, k) * self.scale\n",
        "\n",
        "        if mask is not None:\n",
        "            mask = F.pad(mask.flatten(1), (1, 0), value = True)\n",
        "            assert mask.shape[-1] == dots.shape[-1], 'mask has incorrect dimensions'\n",
        "            mask = mask[:, None, :] * mask[:, :, None]\n",
        "            dots.masked_fill_(~mask, float('-inf'))\n",
        "            del mask\n",
        "\n",
        "        attn = dots.softmax(dim=-1)\n",
        "\n",
        "        out = torch.einsum('bhij,bhjd->bhid', attn, v)\n",
        "        out = rearrange(out, 'b h n d -> b n (h d)')\n",
        "        out =  self.to_out(out)\n",
        "        return out"
      ]
    },
    {
      "cell_type": "code",
      "execution_count": null,
      "metadata": {
        "id": "bN5_r_dpqT1w"
      },
      "outputs": [],
      "source": [
        "class Transformer(nn.Module):\n",
        "    def __init__(self, dim, depth, heads, mlp_dim):\n",
        "        super().__init__()\n",
        "        self.layers = nn.ModuleList([])\n",
        "        for _ in range(depth):\n",
        "            self.layers.append(nn.ModuleList([\n",
        "                Residual(PreNorm(dim, Attention(dim, heads = heads))),\n",
        "                Residual(PreNorm(dim, FeedForward(dim, mlp_dim)))\n",
        "            ]))\n",
        "\n",
        "    def forward(self, x, mask=None):\n",
        "        for attn, ff in self.layers:\n",
        "            x = attn(x, mask=mask)\n",
        "            x = ff(x)\n",
        "        return x"
      ]
    },
    {
      "cell_type": "code",
      "execution_count": null,
      "metadata": {
        "id": "fr5P53s3qhtG"
      },
      "outputs": [],
      "source": [
        "class ViT(nn.Module):\n",
        "    def __init__(self, *, image_size, patch_size, num_classes, dim, depth, heads, mlp_dim, channels=3):\n",
        "        super().__init__()\n",
        "        assert image_size % patch_size == 0, 'image dimensions must be divisible by the patch size'\n",
        "        num_patches = (image_size // patch_size) ** 2\n",
        "        patch_dim = channels * patch_size ** 2\n",
        "\n",
        "        self.patch_size = patch_size\n",
        "\n",
        "        self.pos_embedding = nn.Parameter(torch.randn(1, num_patches + 1, dim))\n",
        "        self.patch_to_embedding = nn.Linear(patch_dim, dim)\n",
        "        self.cls_token = nn.Parameter(torch.randn(1, 1, dim))\n",
        "        self.transformer = Transformer(dim, depth, heads, mlp_dim)\n",
        "\n",
        "        self.to_cls_token = nn.Identity()\n",
        "\n",
        "        self.mlp_head = nn.Sequential(\n",
        "            nn.Linear(dim, mlp_dim),\n",
        "            nn.GELU(),\n",
        "            nn.Linear(mlp_dim, num_classes)\n",
        "        )\n",
        "\n",
        "    def forward(self, img, mask=None):\n",
        "        p = self.patch_size\n",
        "\n",
        "        x = rearrange(img, 'b c (h p1) (w p2) -> b (h w) (p1 p2 c)', p1 = p, p2 = p)\n",
        "        x = self.patch_to_embedding(x)\n",
        "\n",
        "        cls_tokens = self.cls_token.expand(img.shape[0], -1, -1)\n",
        "        x = torch.cat((cls_tokens, x), dim=1)\n",
        "        x += self.pos_embedding\n",
        "        x = self.transformer(x, mask)\n",
        "\n",
        "        x = self.to_cls_token(x[:, 0])\n",
        "        return self.mlp_head(x)\n"
      ]
    },
    {
      "cell_type": "code",
      "execution_count": null,
      "metadata": {
        "id": "K6paPVARqmip"
      },
      "outputs": [],
      "source": [
        "BATCH_SIZE_TRAIN = 100\n",
        "BATCH_SIZE_TEST = 1000"
      ]
    },
    {
      "cell_type": "code",
      "execution_count": null,
      "metadata": {
        "id": "VpmqV5luqt_g"
      },
      "outputs": [],
      "source": [
        "def train_epoch(model, optimizer, data_loader, loss_history):\n",
        "    total_samples = len(data_loader.dataset)\n",
        "    model.train()\n",
        "\n",
        "    for i, (data, target) in enumerate(data_loader):\n",
        "        optimizer.zero_grad()\n",
        "        output = F.log_softmax(model(data), dim=1)\n",
        "        loss = F.nll_loss(output, target)\n",
        "        loss.backward()\n",
        "        optimizer.step()\n",
        "\n",
        "        if i % 100 == 0:\n",
        "            print('[' +  '{:5}'.format(i * len(data)) + '/' + '{:5}'.format(total_samples) +\n",
        "                  ' (' + '{:3.0f}'.format(100 * i / len(data_loader)) + '%)]  Loss: ' +\n",
        "                  '{:6.4f}'.format(loss.item()))\n",
        "            loss_history.append(loss.item())"
      ]
    },
    {
      "cell_type": "code",
      "execution_count": null,
      "metadata": {
        "id": "OxtZb440qxzz"
      },
      "outputs": [],
      "source": [
        "def evaluate(model, data_loader, loss_history):\n",
        "    model.eval()\n",
        "\n",
        "    total_samples = len(data_loader.dataset)\n",
        "    correct_samples = 0\n",
        "    total_loss = 0\n",
        "\n",
        "    with torch.no_grad():\n",
        "        for data, target in data_loader:\n",
        "            output = F.log_softmax(model(data), dim=1)\n",
        "            loss = F.nll_loss(output, target, reduction='sum')\n",
        "            _, pred = torch.max(output, dim=1)\n",
        "\n",
        "            total_loss += loss.item()\n",
        "            correct_samples += pred.eq(target).sum()\n",
        "\n",
        "    avg_loss = total_loss / total_samples\n",
        "    loss_history.append(avg_loss)\n",
        "    print('\\nAverage test loss: ' + '{:.4f}'.format(avg_loss) +\n",
        "          '  Accuracy:' + '{:5}'.format(correct_samples) + '/' +\n",
        "          '{:5}'.format(total_samples) + ' (' +\n",
        "          '{:4.2f}'.format(100.0 * correct_samples / total_samples) + '%)\\n')"
      ]
    },
    {
      "cell_type": "code",
      "execution_count": null,
      "metadata": {
        "id": "Cutcn4vYq1EE"
      },
      "outputs": [],
      "source": [
        "N_EPOCHS = 8\n",
        "\n",
        "start_time = time.time()"
      ]
    },
    {
      "cell_type": "code",
      "execution_count": null,
      "metadata": {
        "id": "G7euWU6Fq5dZ"
      },
      "outputs": [],
      "source": [
        "vTrans = ViT(image_size=28, patch_size=7, num_classes=10, channels=1,\n",
        "            dim=64, depth=6, heads=8, mlp_dim=128)\n",
        "optimizer = optim.Adam(vTrans.parameters(), lr=0.003)"
      ]
    },
    {
      "cell_type": "code",
      "execution_count": null,
      "metadata": {
        "colab": {
          "base_uri": "https://localhost:8080/"
        },
        "id": "VOlev2_Oq_YE",
        "outputId": "1a2d1a2d-e53e-45a0-9aae-a14aa5be6683"
      },
      "outputs": [
        {
          "output_type": "stream",
          "name": "stdout",
          "text": [
            "Epoch: 1\n",
            "[    0/60000 (  0%)]  Loss: 2.4048\n",
            "[10000/60000 ( 17%)]  Loss: 0.5506\n",
            "[20000/60000 ( 33%)]  Loss: 0.2663\n",
            "[30000/60000 ( 50%)]  Loss: 0.1645\n",
            "[40000/60000 ( 67%)]  Loss: 0.1470\n",
            "[50000/60000 ( 83%)]  Loss: 0.0514\n",
            "\n",
            "Average test loss: 0.1442  Accuracy:57266/60000 (95.44%)\n",
            "\n",
            "Epoch: 2\n",
            "[    0/60000 (  0%)]  Loss: 0.1490\n",
            "[10000/60000 ( 17%)]  Loss: 0.1005\n",
            "[20000/60000 ( 33%)]  Loss: 0.2516\n",
            "[30000/60000 ( 50%)]  Loss: 0.1505\n",
            "[40000/60000 ( 67%)]  Loss: 0.1754\n",
            "[50000/60000 ( 83%)]  Loss: 0.0678\n",
            "\n",
            "Average test loss: 0.0805  Accuracy:58499/60000 (97.50%)\n",
            "\n",
            "Epoch: 3\n",
            "[    0/60000 (  0%)]  Loss: 0.0549\n",
            "[10000/60000 ( 17%)]  Loss: 0.2351\n",
            "[20000/60000 ( 33%)]  Loss: 0.1360\n",
            "[30000/60000 ( 50%)]  Loss: 0.1057\n",
            "[40000/60000 ( 67%)]  Loss: 0.1661\n",
            "[50000/60000 ( 83%)]  Loss: 0.0837\n",
            "\n",
            "Average test loss: 0.0836  Accuracy:58427/60000 (97.38%)\n",
            "\n",
            "Epoch: 4\n",
            "[    0/60000 (  0%)]  Loss: 0.1150\n",
            "[10000/60000 ( 17%)]  Loss: 0.0405\n",
            "[20000/60000 ( 33%)]  Loss: 0.0625\n",
            "[30000/60000 ( 50%)]  Loss: 0.0358\n",
            "[40000/60000 ( 67%)]  Loss: 0.0213\n",
            "[50000/60000 ( 83%)]  Loss: 0.0609\n",
            "\n",
            "Average test loss: 0.0755  Accuracy:58553/60000 (97.59%)\n",
            "\n",
            "Epoch: 5\n",
            "[    0/60000 (  0%)]  Loss: 0.2097\n",
            "[10000/60000 ( 17%)]  Loss: 0.0708\n",
            "[20000/60000 ( 33%)]  Loss: 0.1298\n",
            "[30000/60000 ( 50%)]  Loss: 0.0775\n",
            "[40000/60000 ( 67%)]  Loss: 0.1303\n",
            "[50000/60000 ( 83%)]  Loss: 0.0892\n",
            "\n",
            "Average test loss: 0.0639  Accuracy:58795/60000 (97.99%)\n",
            "\n",
            "Epoch: 6\n",
            "[    0/60000 (  0%)]  Loss: 0.0519\n",
            "[10000/60000 ( 17%)]  Loss: 0.1086\n",
            "[20000/60000 ( 33%)]  Loss: 0.1582\n",
            "[30000/60000 ( 50%)]  Loss: 0.2029\n",
            "[40000/60000 ( 67%)]  Loss: 0.0532\n",
            "[50000/60000 ( 83%)]  Loss: 0.1129\n",
            "\n",
            "Average test loss: 0.0509  Accuracy:59055/60000 (98.43%)\n",
            "\n",
            "Epoch: 7\n",
            "[    0/60000 (  0%)]  Loss: 0.0365\n",
            "[10000/60000 ( 17%)]  Loss: 0.0263\n",
            "[20000/60000 ( 33%)]  Loss: 0.0891\n",
            "[30000/60000 ( 50%)]  Loss: 0.0297\n",
            "[40000/60000 ( 67%)]  Loss: 0.0506\n",
            "[50000/60000 ( 83%)]  Loss: 0.0342\n",
            "\n",
            "Average test loss: 0.0464  Accuracy:59115/60000 (98.53%)\n",
            "\n",
            "Epoch: 8\n",
            "[    0/60000 (  0%)]  Loss: 0.0530\n",
            "[10000/60000 ( 17%)]  Loss: 0.0062\n",
            "[20000/60000 ( 33%)]  Loss: 0.1147\n",
            "[30000/60000 ( 50%)]  Loss: 0.0429\n",
            "[40000/60000 ( 67%)]  Loss: 0.0227\n",
            "[50000/60000 ( 83%)]  Loss: 0.0919\n",
            "\n",
            "Average test loss: 0.0598  Accuracy:58928/60000 (98.21%)\n",
            "\n",
            "Execution time: 2417.44 seconds\n"
          ]
        }
      ],
      "source": [
        "train_loss_history, test_loss_history = [], []\n",
        "\n",
        "for epoch in range(1, N_EPOCHS + 1):\n",
        "    print('Epoch:', epoch)\n",
        "    train_epoch(vTrans, optimizer, train_loader, train_loss_history)\n",
        "    evaluate(vTrans, test_loader, test_loss_history)\n",
        "\n",
        "print('Execution time:', '{:5.2f}'.format(time.time() - start_time), 'seconds')"
      ]
    },
    {
      "cell_type": "code",
      "execution_count": null,
      "metadata": {
        "id": "IGUny6Vfu-4Z"
      },
      "outputs": [],
      "source": [
        "fig = plt.figure()\n",
        "plt.plot(train_counter, train_loss_history, color='blue')\n",
        "plt.scatter(test_counter, test_loss_history, color='red')\n",
        "plt.legend(['Train Loss', 'Test Loss'], loc='upper right')\n",
        "plt.xlabel('number of training examples seen')\n",
        "plt.ylabel('negative log likelihood loss')"
      ]
    },
    {
      "cell_type": "code",
      "source": [
        "# class SublayerConnection(nn.Module):\n",
        "#     \"\"\"\n",
        "#     A residual connection followed by a layer norm.\n",
        "#     Note for code simplicity the norm is first as opposed to last.\n",
        "#     \"\"\"\n",
        "#     def __init__(self, size, dropout):\n",
        "#         super(SublayerConnection, self).__init__()\n",
        "#         self.norm = LayerNorm(size)\n",
        "#         self.dropout = nn.Dropout(dropout)\n",
        "\n",
        "#     def forward(self, x, sublayer):\n",
        "#         \"Apply residual connection to any sublayer with the same size.\"\n",
        "#         return x + self.dropout(sublayer(self.norm(x)))"
      ],
      "metadata": {
        "id": "jf3AQrhtI8lF"
      },
      "execution_count": null,
      "outputs": []
    },
    {
      "cell_type": "markdown",
      "source": [
        "## LSTM ViT"
      ],
      "metadata": {
        "id": "V61J7v-ZLm8I"
      }
    },
    {
      "cell_type": "code",
      "execution_count": null,
      "metadata": {
        "id": "pSBCyzpeLz6y"
      },
      "outputs": [],
      "source": [
        "class FeedForward2(nn.Module):\n",
        "    def __init__(self, dim, hidden_dim):\n",
        "        super().__init__()\n",
        "        self.net = nn.Sequential(\n",
        "            nn.Linear(dim, hidden_dim),\n",
        "            nn.GELU(),\n",
        "            nn.Linear(hidden_dim, dim)\n",
        "        )\n",
        "\n",
        "    def forward(self, x):\n",
        "        return self.net(x)"
      ]
    },
    {
      "cell_type": "code",
      "execution_count": null,
      "metadata": {
        "id": "90x_aPIJLz6y"
      },
      "outputs": [],
      "source": [
        "class Transformer2(nn.Module):\n",
        "    def __init__(self, dim, depth, heads, mlp_dim):\n",
        "        super().__init__()\n",
        "        self.layers = nn.ModuleList([])\n",
        "        for _ in range(depth):\n",
        "            self.layers.append(nn.ModuleList([\n",
        "                Residual(PreNorm(dim, Attention(dim, heads = heads))),\n",
        "                nn.LSTM(dim,dim),\n",
        "                Residual(PreNorm(dim, FeedForward2(dim, mlp_dim)))\n",
        "            ]))\n",
        "\n",
        "    def forward(self, x, mask=None):\n",
        "        for attn, ff in self.layers:\n",
        "            x = attn(x, mask=mask)\n",
        "            x = ff(x)\n",
        "        return x"
      ]
    },
    {
      "cell_type": "code",
      "execution_count": null,
      "metadata": {
        "id": "qIIOBfEgLz6y"
      },
      "outputs": [],
      "source": [
        "class ViT2(nn.Module):\n",
        "    def __init__(self, *, image_size, patch_size, num_classes, dim, depth, heads, mlp_dim, channels=3):\n",
        "        super().__init__()\n",
        "        assert image_size % patch_size == 0, 'image dimensions must be divisible by the patch size'\n",
        "        num_patches = (image_size // patch_size) ** 2\n",
        "        patch_dim = channels * patch_size ** 2\n",
        "\n",
        "        self.patch_size = patch_size\n",
        "\n",
        "        self.pos_embedding = nn.Parameter(torch.randn(1, num_patches + 1, dim))\n",
        "        self.patch_to_embedding = nn.Linear(patch_dim, dim)\n",
        "        self.cls_token = nn.Parameter(torch.randn(1, 1, dim))\n",
        "        self.transformer = Transformer2(dim, depth, heads, mlp_dim)\n",
        "\n",
        "        self.to_cls_token = nn.Identity()\n",
        "\n",
        "        self.mlp_head = nn.Sequential(\n",
        "            nn.Linear(dim, mlp_dim),\n",
        "            nn.GELU(),\n",
        "            nn.Linear(mlp_dim, num_classes)\n",
        "        )\n",
        "\n",
        "    def forward(self, img, mask=None):\n",
        "        p = self.patch_size\n",
        "\n",
        "        x = rearrange(img, 'b c (h p1) (w p2) -> b (h w) (p1 p2 c)', p1 = p, p2 = p)\n",
        "        x = self.patch_to_embedding(x)\n",
        "\n",
        "        cls_tokens = self.cls_token.expand(img.shape[0], -1, -1)\n",
        "        x = torch.cat((cls_tokens, x), dim=1)\n",
        "        x += self.pos_embedding\n",
        "        x = self.transformer(x, mask)\n",
        "\n",
        "        x = self.to_cls_token(x[:, 0])\n",
        "        return self.mlp_head(x)\n"
      ]
    },
    {
      "cell_type": "code",
      "execution_count": null,
      "metadata": {
        "id": "0ofjHDgJLz6y"
      },
      "outputs": [],
      "source": [
        "BATCH_SIZE_TRAIN = 100\n",
        "BATCH_SIZE_TEST = 1000"
      ]
    },
    {
      "cell_type": "code",
      "execution_count": null,
      "metadata": {
        "id": "nayp2uNULz6y"
      },
      "outputs": [],
      "source": [
        "N_EPOCHS = 8\n",
        "\n",
        "start_time = time.time()"
      ]
    },
    {
      "cell_type": "code",
      "execution_count": null,
      "metadata": {
        "id": "jv5pjxvwLz6y"
      },
      "outputs": [],
      "source": [
        "vTrans2 = ViT2(image_size=28, patch_size=7, num_classes=10, channels=1,\n",
        "            dim=64, depth=6, heads=8, mlp_dim=128)\n",
        "optimizer = optim.Adam(vTrans.parameters(), lr=0.003)"
      ]
    },
    {
      "cell_type": "code",
      "execution_count": null,
      "metadata": {
        "colab": {
          "base_uri": "https://localhost:8080/"
        },
        "outputId": "d626b271-7c21-441a-88aa-e3a0826f026a",
        "id": "a5YOrPGzLz6z"
      },
      "outputs": [
        {
          "output_type": "stream",
          "name": "stdout",
          "text": [
            "Epoch: 1\n",
            "[    0/60000 (  0%)]  Loss: 0.0227\n",
            "[10000/60000 ( 17%)]  Loss: 0.0460\n",
            "[20000/60000 ( 33%)]  Loss: 0.0638\n",
            "[30000/60000 ( 50%)]  Loss: 0.0206\n",
            "[40000/60000 ( 67%)]  Loss: 0.0774\n",
            "[50000/60000 ( 83%)]  Loss: 0.0469\n",
            "\n",
            "Average test loss: 0.0419  Accuracy:59241/60000 (98.74%)\n",
            "\n",
            "Epoch: 2\n",
            "[    0/60000 (  0%)]  Loss: 0.0289\n",
            "[10000/60000 ( 17%)]  Loss: 0.0100\n",
            "[20000/60000 ( 33%)]  Loss: 0.0227\n",
            "[30000/60000 ( 50%)]  Loss: 0.0243\n",
            "[40000/60000 ( 67%)]  Loss: 0.0588\n",
            "[50000/60000 ( 83%)]  Loss: 0.0068\n",
            "\n",
            "Average test loss: 0.0378  Accuracy:59285/60000 (98.81%)\n",
            "\n",
            "Epoch: 3\n",
            "[    0/60000 (  0%)]  Loss: 0.1235\n",
            "[10000/60000 ( 17%)]  Loss: 0.0094\n",
            "[20000/60000 ( 33%)]  Loss: 0.1406\n",
            "[30000/60000 ( 50%)]  Loss: 0.0160\n",
            "[40000/60000 ( 67%)]  Loss: 0.1058\n",
            "[50000/60000 ( 83%)]  Loss: 0.0245\n",
            "\n",
            "Average test loss: 0.0429  Accuracy:59203/60000 (98.67%)\n",
            "\n",
            "Epoch: 4\n",
            "[    0/60000 (  0%)]  Loss: 0.0523\n",
            "[10000/60000 ( 17%)]  Loss: 0.0620\n",
            "[20000/60000 ( 33%)]  Loss: 0.1133\n",
            "[30000/60000 ( 50%)]  Loss: 0.1429\n",
            "[40000/60000 ( 67%)]  Loss: 0.0489\n",
            "[50000/60000 ( 83%)]  Loss: 0.1102\n",
            "\n",
            "Average test loss: 0.0296  Accuracy:59422/60000 (99.04%)\n",
            "\n",
            "Epoch: 5\n",
            "[    0/60000 (  0%)]  Loss: 0.0040\n",
            "[10000/60000 ( 17%)]  Loss: 0.0734\n",
            "[20000/60000 ( 33%)]  Loss: 0.0280\n",
            "[30000/60000 ( 50%)]  Loss: 0.0630\n",
            "[40000/60000 ( 67%)]  Loss: 0.0099\n",
            "[50000/60000 ( 83%)]  Loss: 0.0300\n",
            "\n",
            "Average test loss: 0.0327  Accuracy:59387/60000 (98.98%)\n",
            "\n",
            "Epoch: 6\n",
            "[    0/60000 (  0%)]  Loss: 0.0784\n",
            "[10000/60000 ( 17%)]  Loss: 0.0643\n",
            "[20000/60000 ( 33%)]  Loss: 0.0547\n",
            "[30000/60000 ( 50%)]  Loss: 0.0048\n",
            "[40000/60000 ( 67%)]  Loss: 0.1203\n",
            "[50000/60000 ( 83%)]  Loss: 0.0072\n",
            "\n",
            "Average test loss: 0.0374  Accuracy:59302/60000 (98.84%)\n",
            "\n",
            "Epoch: 7\n",
            "[    0/60000 (  0%)]  Loss: 0.0347\n",
            "[10000/60000 ( 17%)]  Loss: 0.0400\n",
            "[20000/60000 ( 33%)]  Loss: 0.0130\n",
            "[30000/60000 ( 50%)]  Loss: 0.0523\n",
            "[40000/60000 ( 67%)]  Loss: 0.1293\n",
            "[50000/60000 ( 83%)]  Loss: 0.1149\n",
            "\n",
            "Average test loss: 0.0259  Accuracy:59502/60000 (99.17%)\n",
            "\n",
            "Epoch: 8\n",
            "[    0/60000 (  0%)]  Loss: 0.0383\n",
            "[10000/60000 ( 17%)]  Loss: 0.0480\n",
            "[20000/60000 ( 33%)]  Loss: 0.0045\n",
            "[30000/60000 ( 50%)]  Loss: 0.0211\n",
            "[40000/60000 ( 67%)]  Loss: 0.0669\n",
            "[50000/60000 ( 83%)]  Loss: 0.1045\n",
            "\n",
            "Average test loss: 0.0272  Accuracy:59504/60000 (99.17%)\n",
            "\n",
            "Execution time: 2448.30 seconds\n"
          ]
        }
      ],
      "source": [
        "train_loss_history2, test_loss_history2 = [], []\n",
        "\n",
        "for epoch in range(1, N_EPOCHS + 1):\n",
        "    print('Epoch:', epoch)\n",
        "    train_epoch(vTrans2, optimizer, train_loader, train_loss_history2)\n",
        "    evaluate(vTrans2, test_loader, test_loss_history2)\n",
        "\n",
        "print('Execution time:', '{:5.2f}'.format(time.time() - start_time), 'seconds')"
      ]
    },
    {
      "cell_type": "markdown",
      "metadata": {
        "id": "ildccE5z-4cF"
      },
      "source": [
        "## Appendix"
      ]
    },
    {
      "cell_type": "code",
      "execution_count": null,
      "metadata": {
        "id": "l0mC8Phj31tT",
        "colab": {
          "base_uri": "https://localhost:8080/",
          "height": 422
        },
        "outputId": "8d4f0cba-fdcf-48a3-f5ca-297a6a5e432b"
      },
      "outputs": [
        {
          "output_type": "display_data",
          "data": {
            "text/plain": [
              "<Figure size 640x480 with 1 Axes>"
            ],
            "image/svg+xml": "<?xml version=\"1.0\" encoding=\"utf-8\" standalone=\"no\"?>\n<!DOCTYPE svg PUBLIC \"-//W3C//DTD SVG 1.1//EN\"\n  \"http://www.w3.org/Graphics/SVG/1.1/DTD/svg11.dtd\">\n<svg xmlns:xlink=\"http://www.w3.org/1999/xlink\" width=\"396.443437pt\" height=\"300.989344pt\" viewBox=\"0 0 396.443437 300.989344\" xmlns=\"http://www.w3.org/2000/svg\" version=\"1.1\">\n <metadata>\n  <rdf:RDF xmlns:dc=\"http://purl.org/dc/elements/1.1/\" xmlns:cc=\"http://creativecommons.org/ns#\" xmlns:rdf=\"http://www.w3.org/1999/02/22-rdf-syntax-ns#\">\n   <cc:Work>\n    <dc:type rdf:resource=\"http://purl.org/dc/dcmitype/StillImage\"/>\n    <dc:date>2024-02-19T16:04:10.958818</dc:date>\n    <dc:format>image/svg+xml</dc:format>\n    <dc:creator>\n     <cc:Agent>\n      <dc:title>Matplotlib v3.7.1, https://matplotlib.org/</dc:title>\n     </cc:Agent>\n    </dc:creator>\n   </cc:Work>\n  </rdf:RDF>\n </metadata>\n <defs>\n  <style type=\"text/css\">*{stroke-linejoin: round; stroke-linecap: butt}</style>\n </defs>\n <g id=\"figure_1\">\n  <g id=\"patch_1\">\n   <path d=\"M 0 300.989344 \nL 396.443437 300.989344 \nL 396.443437 0 \nL 0 0 \nz\n\" style=\"fill: #ffffff\"/>\n  </g>\n  <g id=\"axes_1\">\n   <g id=\"patch_2\">\n    <path d=\"M 28.942188 277.111219 \nL 386.062188 277.111219 \nL 386.062188 10.999219 \nL 28.942188 10.999219 \nz\n\" style=\"fill: #ffffff\"/>\n   </g>\n   <g id=\"matplotlib.axis_1\">\n    <g id=\"xtick_1\">\n     <g id=\"line2d_1\">\n      <path d=\"M 28.942188 277.111219 \nL 28.942188 10.999219 \n\" clip-path=\"url(#p8c14564ebc)\" style=\"fill: none; stroke: #b0b0b0; stroke-width: 0.8; stroke-linecap: square\"/>\n     </g>\n     <g id=\"line2d_2\">\n      <defs>\n       <path id=\"m57da027cc4\" d=\"M 0 0 \nL 0 3.5 \n\" style=\"stroke: #000000; stroke-width: 0.8\"/>\n      </defs>\n      <g>\n       <use xlink:href=\"#m57da027cc4\" x=\"28.942188\" y=\"277.111219\" style=\"stroke: #000000; stroke-width: 0.8\"/>\n      </g>\n     </g>\n     <g id=\"text_1\">\n      <!-- −8 -->\n      <g transform=\"translate(21.571094 291.709656) scale(0.1 -0.1)\">\n       <defs>\n        <path id=\"DejaVuSans-2212\" d=\"M 678 2272 \nL 4684 2272 \nL 4684 1741 \nL 678 1741 \nL 678 2272 \nz\n\" transform=\"scale(0.015625)\"/>\n        <path id=\"DejaVuSans-38\" d=\"M 2034 2216 \nQ 1584 2216 1326 1975 \nQ 1069 1734 1069 1313 \nQ 1069 891 1326 650 \nQ 1584 409 2034 409 \nQ 2484 409 2743 651 \nQ 3003 894 3003 1313 \nQ 3003 1734 2745 1975 \nQ 2488 2216 2034 2216 \nz\nM 1403 2484 \nQ 997 2584 770 2862 \nQ 544 3141 544 3541 \nQ 544 4100 942 4425 \nQ 1341 4750 2034 4750 \nQ 2731 4750 3128 4425 \nQ 3525 4100 3525 3541 \nQ 3525 3141 3298 2862 \nQ 3072 2584 2669 2484 \nQ 3125 2378 3379 2068 \nQ 3634 1759 3634 1313 \nQ 3634 634 3220 271 \nQ 2806 -91 2034 -91 \nQ 1263 -91 848 271 \nQ 434 634 434 1313 \nQ 434 1759 690 2068 \nQ 947 2378 1403 2484 \nz\nM 1172 3481 \nQ 1172 3119 1398 2916 \nQ 1625 2713 2034 2713 \nQ 2441 2713 2670 2916 \nQ 2900 3119 2900 3481 \nQ 2900 3844 2670 4047 \nQ 2441 4250 2034 4250 \nQ 1625 4250 1398 4047 \nQ 1172 3844 1172 3481 \nz\n\" transform=\"scale(0.015625)\"/>\n       </defs>\n       <use xlink:href=\"#DejaVuSans-2212\"/>\n       <use xlink:href=\"#DejaVuSans-38\" x=\"83.789062\"/>\n      </g>\n     </g>\n    </g>\n    <g id=\"xtick_2\">\n     <g id=\"line2d_3\">\n      <path d=\"M 73.582188 277.111219 \nL 73.582188 10.999219 \n\" clip-path=\"url(#p8c14564ebc)\" style=\"fill: none; stroke: #b0b0b0; stroke-width: 0.8; stroke-linecap: square\"/>\n     </g>\n     <g id=\"line2d_4\">\n      <g>\n       <use xlink:href=\"#m57da027cc4\" x=\"73.582188\" y=\"277.111219\" style=\"stroke: #000000; stroke-width: 0.8\"/>\n      </g>\n     </g>\n     <g id=\"text_2\">\n      <!-- −6 -->\n      <g transform=\"translate(66.211094 291.709656) scale(0.1 -0.1)\">\n       <defs>\n        <path id=\"DejaVuSans-36\" d=\"M 2113 2584 \nQ 1688 2584 1439 2293 \nQ 1191 2003 1191 1497 \nQ 1191 994 1439 701 \nQ 1688 409 2113 409 \nQ 2538 409 2786 701 \nQ 3034 994 3034 1497 \nQ 3034 2003 2786 2293 \nQ 2538 2584 2113 2584 \nz\nM 3366 4563 \nL 3366 3988 \nQ 3128 4100 2886 4159 \nQ 2644 4219 2406 4219 \nQ 1781 4219 1451 3797 \nQ 1122 3375 1075 2522 \nQ 1259 2794 1537 2939 \nQ 1816 3084 2150 3084 \nQ 2853 3084 3261 2657 \nQ 3669 2231 3669 1497 \nQ 3669 778 3244 343 \nQ 2819 -91 2113 -91 \nQ 1303 -91 875 529 \nQ 447 1150 447 2328 \nQ 447 3434 972 4092 \nQ 1497 4750 2381 4750 \nQ 2619 4750 2861 4703 \nQ 3103 4656 3366 4563 \nz\n\" transform=\"scale(0.015625)\"/>\n       </defs>\n       <use xlink:href=\"#DejaVuSans-2212\"/>\n       <use xlink:href=\"#DejaVuSans-36\" x=\"83.789062\"/>\n      </g>\n     </g>\n    </g>\n    <g id=\"xtick_3\">\n     <g id=\"line2d_5\">\n      <path d=\"M 118.222188 277.111219 \nL 118.222188 10.999219 \n\" clip-path=\"url(#p8c14564ebc)\" style=\"fill: none; stroke: #b0b0b0; stroke-width: 0.8; stroke-linecap: square\"/>\n     </g>\n     <g id=\"line2d_6\">\n      <g>\n       <use xlink:href=\"#m57da027cc4\" x=\"118.222188\" y=\"277.111219\" style=\"stroke: #000000; stroke-width: 0.8\"/>\n      </g>\n     </g>\n     <g id=\"text_3\">\n      <!-- −4 -->\n      <g transform=\"translate(110.851094 291.709656) scale(0.1 -0.1)\">\n       <defs>\n        <path id=\"DejaVuSans-34\" d=\"M 2419 4116 \nL 825 1625 \nL 2419 1625 \nL 2419 4116 \nz\nM 2253 4666 \nL 3047 4666 \nL 3047 1625 \nL 3713 1625 \nL 3713 1100 \nL 3047 1100 \nL 3047 0 \nL 2419 0 \nL 2419 1100 \nL 313 1100 \nL 313 1709 \nL 2253 4666 \nz\n\" transform=\"scale(0.015625)\"/>\n       </defs>\n       <use xlink:href=\"#DejaVuSans-2212\"/>\n       <use xlink:href=\"#DejaVuSans-34\" x=\"83.789062\"/>\n      </g>\n     </g>\n    </g>\n    <g id=\"xtick_4\">\n     <g id=\"line2d_7\">\n      <path d=\"M 162.862188 277.111219 \nL 162.862188 10.999219 \n\" clip-path=\"url(#p8c14564ebc)\" style=\"fill: none; stroke: #b0b0b0; stroke-width: 0.8; stroke-linecap: square\"/>\n     </g>\n     <g id=\"line2d_8\">\n      <g>\n       <use xlink:href=\"#m57da027cc4\" x=\"162.862188\" y=\"277.111219\" style=\"stroke: #000000; stroke-width: 0.8\"/>\n      </g>\n     </g>\n     <g id=\"text_4\">\n      <!-- −2 -->\n      <g transform=\"translate(155.491094 291.709656) scale(0.1 -0.1)\">\n       <defs>\n        <path id=\"DejaVuSans-32\" d=\"M 1228 531 \nL 3431 531 \nL 3431 0 \nL 469 0 \nL 469 531 \nQ 828 903 1448 1529 \nQ 2069 2156 2228 2338 \nQ 2531 2678 2651 2914 \nQ 2772 3150 2772 3378 \nQ 2772 3750 2511 3984 \nQ 2250 4219 1831 4219 \nQ 1534 4219 1204 4116 \nQ 875 4013 500 3803 \nL 500 4441 \nQ 881 4594 1212 4672 \nQ 1544 4750 1819 4750 \nQ 2544 4750 2975 4387 \nQ 3406 4025 3406 3419 \nQ 3406 3131 3298 2873 \nQ 3191 2616 2906 2266 \nQ 2828 2175 2409 1742 \nQ 1991 1309 1228 531 \nz\n\" transform=\"scale(0.015625)\"/>\n       </defs>\n       <use xlink:href=\"#DejaVuSans-2212\"/>\n       <use xlink:href=\"#DejaVuSans-32\" x=\"83.789062\"/>\n      </g>\n     </g>\n    </g>\n    <g id=\"xtick_5\">\n     <g id=\"line2d_9\">\n      <path d=\"M 207.502188 277.111219 \nL 207.502188 10.999219 \n\" clip-path=\"url(#p8c14564ebc)\" style=\"fill: none; stroke: #b0b0b0; stroke-width: 0.8; stroke-linecap: square\"/>\n     </g>\n     <g id=\"line2d_10\">\n      <g>\n       <use xlink:href=\"#m57da027cc4\" x=\"207.502188\" y=\"277.111219\" style=\"stroke: #000000; stroke-width: 0.8\"/>\n      </g>\n     </g>\n     <g id=\"text_5\">\n      <!-- 0 -->\n      <g transform=\"translate(204.320938 291.709656) scale(0.1 -0.1)\">\n       <defs>\n        <path id=\"DejaVuSans-30\" d=\"M 2034 4250 \nQ 1547 4250 1301 3770 \nQ 1056 3291 1056 2328 \nQ 1056 1369 1301 889 \nQ 1547 409 2034 409 \nQ 2525 409 2770 889 \nQ 3016 1369 3016 2328 \nQ 3016 3291 2770 3770 \nQ 2525 4250 2034 4250 \nz\nM 2034 4750 \nQ 2819 4750 3233 4129 \nQ 3647 3509 3647 2328 \nQ 3647 1150 3233 529 \nQ 2819 -91 2034 -91 \nQ 1250 -91 836 529 \nQ 422 1150 422 2328 \nQ 422 3509 836 4129 \nQ 1250 4750 2034 4750 \nz\n\" transform=\"scale(0.015625)\"/>\n       </defs>\n       <use xlink:href=\"#DejaVuSans-30\"/>\n      </g>\n     </g>\n    </g>\n    <g id=\"xtick_6\">\n     <g id=\"line2d_11\">\n      <path d=\"M 252.142188 277.111219 \nL 252.142188 10.999219 \n\" clip-path=\"url(#p8c14564ebc)\" style=\"fill: none; stroke: #b0b0b0; stroke-width: 0.8; stroke-linecap: square\"/>\n     </g>\n     <g id=\"line2d_12\">\n      <g>\n       <use xlink:href=\"#m57da027cc4\" x=\"252.142188\" y=\"277.111219\" style=\"stroke: #000000; stroke-width: 0.8\"/>\n      </g>\n     </g>\n     <g id=\"text_6\">\n      <!-- 2 -->\n      <g transform=\"translate(248.960938 291.709656) scale(0.1 -0.1)\">\n       <use xlink:href=\"#DejaVuSans-32\"/>\n      </g>\n     </g>\n    </g>\n    <g id=\"xtick_7\">\n     <g id=\"line2d_13\">\n      <path d=\"M 296.782188 277.111219 \nL 296.782188 10.999219 \n\" clip-path=\"url(#p8c14564ebc)\" style=\"fill: none; stroke: #b0b0b0; stroke-width: 0.8; stroke-linecap: square\"/>\n     </g>\n     <g id=\"line2d_14\">\n      <g>\n       <use xlink:href=\"#m57da027cc4\" x=\"296.782188\" y=\"277.111219\" style=\"stroke: #000000; stroke-width: 0.8\"/>\n      </g>\n     </g>\n     <g id=\"text_7\">\n      <!-- 4 -->\n      <g transform=\"translate(293.600938 291.709656) scale(0.1 -0.1)\">\n       <use xlink:href=\"#DejaVuSans-34\"/>\n      </g>\n     </g>\n    </g>\n    <g id=\"xtick_8\">\n     <g id=\"line2d_15\">\n      <path d=\"M 341.422188 277.111219 \nL 341.422188 10.999219 \n\" clip-path=\"url(#p8c14564ebc)\" style=\"fill: none; stroke: #b0b0b0; stroke-width: 0.8; stroke-linecap: square\"/>\n     </g>\n     <g id=\"line2d_16\">\n      <g>\n       <use xlink:href=\"#m57da027cc4\" x=\"341.422188\" y=\"277.111219\" style=\"stroke: #000000; stroke-width: 0.8\"/>\n      </g>\n     </g>\n     <g id=\"text_8\">\n      <!-- 6 -->\n      <g transform=\"translate(338.240938 291.709656) scale(0.1 -0.1)\">\n       <use xlink:href=\"#DejaVuSans-36\"/>\n      </g>\n     </g>\n    </g>\n    <g id=\"xtick_9\">\n     <g id=\"line2d_17\">\n      <path d=\"M 386.062188 277.111219 \nL 386.062188 10.999219 \n\" clip-path=\"url(#p8c14564ebc)\" style=\"fill: none; stroke: #b0b0b0; stroke-width: 0.8; stroke-linecap: square\"/>\n     </g>\n     <g id=\"line2d_18\">\n      <g>\n       <use xlink:href=\"#m57da027cc4\" x=\"386.062188\" y=\"277.111219\" style=\"stroke: #000000; stroke-width: 0.8\"/>\n      </g>\n     </g>\n     <g id=\"text_9\">\n      <!-- 8 -->\n      <g transform=\"translate(382.880938 291.709656) scale(0.1 -0.1)\">\n       <use xlink:href=\"#DejaVuSans-38\"/>\n      </g>\n     </g>\n    </g>\n   </g>\n   <g id=\"matplotlib.axis_2\">\n    <g id=\"ytick_1\">\n     <g id=\"line2d_19\">\n      <path d=\"M 28.942188 277.111219 \nL 386.062188 277.111219 \n\" clip-path=\"url(#p8c14564ebc)\" style=\"fill: none; stroke: #b0b0b0; stroke-width: 0.8; stroke-linecap: square\"/>\n     </g>\n     <g id=\"line2d_20\">\n      <defs>\n       <path id=\"mf2dcde6f8f\" d=\"M 0 0 \nL -3.5 0 \n\" style=\"stroke: #000000; stroke-width: 0.8\"/>\n      </defs>\n      <g>\n       <use xlink:href=\"#mf2dcde6f8f\" x=\"28.942188\" y=\"277.111219\" style=\"stroke: #000000; stroke-width: 0.8\"/>\n      </g>\n     </g>\n     <g id=\"text_10\">\n      <!-- −2 -->\n      <g transform=\"translate(7.2 280.910437) scale(0.1 -0.1)\">\n       <use xlink:href=\"#DejaVuSans-2212\"/>\n       <use xlink:href=\"#DejaVuSans-32\" x=\"83.789062\"/>\n      </g>\n     </g>\n    </g>\n    <g id=\"ytick_2\">\n     <g id=\"line2d_21\">\n      <path d=\"M 28.942188 232.759219 \nL 386.062188 232.759219 \n\" clip-path=\"url(#p8c14564ebc)\" style=\"fill: none; stroke: #b0b0b0; stroke-width: 0.8; stroke-linecap: square\"/>\n     </g>\n     <g id=\"line2d_22\">\n      <g>\n       <use xlink:href=\"#mf2dcde6f8f\" x=\"28.942188\" y=\"232.759219\" style=\"stroke: #000000; stroke-width: 0.8\"/>\n      </g>\n     </g>\n     <g id=\"text_11\">\n      <!-- −1 -->\n      <g transform=\"translate(7.2 236.558437) scale(0.1 -0.1)\">\n       <defs>\n        <path id=\"DejaVuSans-31\" d=\"M 794 531 \nL 1825 531 \nL 1825 4091 \nL 703 3866 \nL 703 4441 \nL 1819 4666 \nL 2450 4666 \nL 2450 531 \nL 3481 531 \nL 3481 0 \nL 794 0 \nL 794 531 \nz\n\" transform=\"scale(0.015625)\"/>\n       </defs>\n       <use xlink:href=\"#DejaVuSans-2212\"/>\n       <use xlink:href=\"#DejaVuSans-31\" x=\"83.789062\"/>\n      </g>\n     </g>\n    </g>\n    <g id=\"ytick_3\">\n     <g id=\"line2d_23\">\n      <path d=\"M 28.942188 188.407219 \nL 386.062188 188.407219 \n\" clip-path=\"url(#p8c14564ebc)\" style=\"fill: none; stroke: #b0b0b0; stroke-width: 0.8; stroke-linecap: square\"/>\n     </g>\n     <g id=\"line2d_24\">\n      <g>\n       <use xlink:href=\"#mf2dcde6f8f\" x=\"28.942188\" y=\"188.407219\" style=\"stroke: #000000; stroke-width: 0.8\"/>\n      </g>\n     </g>\n     <g id=\"text_12\">\n      <!-- 0 -->\n      <g transform=\"translate(15.579688 192.206437) scale(0.1 -0.1)\">\n       <use xlink:href=\"#DejaVuSans-30\"/>\n      </g>\n     </g>\n    </g>\n    <g id=\"ytick_4\">\n     <g id=\"line2d_25\">\n      <path d=\"M 28.942188 144.055219 \nL 386.062188 144.055219 \n\" clip-path=\"url(#p8c14564ebc)\" style=\"fill: none; stroke: #b0b0b0; stroke-width: 0.8; stroke-linecap: square\"/>\n     </g>\n     <g id=\"line2d_26\">\n      <g>\n       <use xlink:href=\"#mf2dcde6f8f\" x=\"28.942188\" y=\"144.055219\" style=\"stroke: #000000; stroke-width: 0.8\"/>\n      </g>\n     </g>\n     <g id=\"text_13\">\n      <!-- 1 -->\n      <g transform=\"translate(15.579688 147.854437) scale(0.1 -0.1)\">\n       <use xlink:href=\"#DejaVuSans-31\"/>\n      </g>\n     </g>\n    </g>\n    <g id=\"ytick_5\">\n     <g id=\"line2d_27\">\n      <path d=\"M 28.942188 99.703219 \nL 386.062188 99.703219 \n\" clip-path=\"url(#p8c14564ebc)\" style=\"fill: none; stroke: #b0b0b0; stroke-width: 0.8; stroke-linecap: square\"/>\n     </g>\n     <g id=\"line2d_28\">\n      <g>\n       <use xlink:href=\"#mf2dcde6f8f\" x=\"28.942188\" y=\"99.703219\" style=\"stroke: #000000; stroke-width: 0.8\"/>\n      </g>\n     </g>\n     <g id=\"text_14\">\n      <!-- 2 -->\n      <g transform=\"translate(15.579688 103.502437) scale(0.1 -0.1)\">\n       <use xlink:href=\"#DejaVuSans-32\"/>\n      </g>\n     </g>\n    </g>\n    <g id=\"ytick_6\">\n     <g id=\"line2d_29\">\n      <path d=\"M 28.942188 55.351219 \nL 386.062188 55.351219 \n\" clip-path=\"url(#p8c14564ebc)\" style=\"fill: none; stroke: #b0b0b0; stroke-width: 0.8; stroke-linecap: square\"/>\n     </g>\n     <g id=\"line2d_30\">\n      <g>\n       <use xlink:href=\"#mf2dcde6f8f\" x=\"28.942188\" y=\"55.351219\" style=\"stroke: #000000; stroke-width: 0.8\"/>\n      </g>\n     </g>\n     <g id=\"text_15\">\n      <!-- 3 -->\n      <g transform=\"translate(15.579688 59.150437) scale(0.1 -0.1)\">\n       <defs>\n        <path id=\"DejaVuSans-33\" d=\"M 2597 2516 \nQ 3050 2419 3304 2112 \nQ 3559 1806 3559 1356 \nQ 3559 666 3084 287 \nQ 2609 -91 1734 -91 \nQ 1441 -91 1130 -33 \nQ 819 25 488 141 \nL 488 750 \nQ 750 597 1062 519 \nQ 1375 441 1716 441 \nQ 2309 441 2620 675 \nQ 2931 909 2931 1356 \nQ 2931 1769 2642 2001 \nQ 2353 2234 1838 2234 \nL 1294 2234 \nL 1294 2753 \nL 1863 2753 \nQ 2328 2753 2575 2939 \nQ 2822 3125 2822 3475 \nQ 2822 3834 2567 4026 \nQ 2313 4219 1838 4219 \nQ 1578 4219 1281 4162 \nQ 984 4106 628 3988 \nL 628 4550 \nQ 988 4650 1302 4700 \nQ 1616 4750 1894 4750 \nQ 2613 4750 3031 4423 \nQ 3450 4097 3450 3541 \nQ 3450 3153 3228 2886 \nQ 3006 2619 2597 2516 \nz\n\" transform=\"scale(0.015625)\"/>\n       </defs>\n       <use xlink:href=\"#DejaVuSans-33\"/>\n      </g>\n     </g>\n    </g>\n    <g id=\"ytick_7\">\n     <g id=\"line2d_31\">\n      <path d=\"M 28.942188 10.999219 \nL 386.062188 10.999219 \n\" clip-path=\"url(#p8c14564ebc)\" style=\"fill: none; stroke: #b0b0b0; stroke-width: 0.8; stroke-linecap: square\"/>\n     </g>\n     <g id=\"line2d_32\">\n      <g>\n       <use xlink:href=\"#mf2dcde6f8f\" x=\"28.942188\" y=\"10.999219\" style=\"stroke: #000000; stroke-width: 0.8\"/>\n      </g>\n     </g>\n     <g id=\"text_16\">\n      <!-- 4 -->\n      <g transform=\"translate(15.579688 14.798437) scale(0.1 -0.1)\">\n       <use xlink:href=\"#DejaVuSans-34\"/>\n      </g>\n     </g>\n    </g>\n   </g>\n   <g id=\"line2d_33\">\n    <path d=\"M 28.942188 188.407219 \nL 207.502188 188.407219 \nL 302.820755 -1 \nL 302.820755 -1 \n\" clip-path=\"url(#p8c14564ebc)\" style=\"fill: none; stroke: #1f77b4; stroke-width: 1.5; stroke-linecap: square\"/>\n   </g>\n   <g id=\"line2d_34\">\n    <path d=\"M 28.942188 188.407219 \nL 136.078186 188.504752 \nL 145.006189 188.724537 \nL 151.702188 189.095747 \nL 156.166183 189.501177 \nL 160.630184 190.07109 \nL 165.094185 190.827124 \nL 169.558186 191.767382 \nL 178.486186 193.988506 \nL 182.950187 195.025988 \nL 187.414187 195.754308 \nL 189.646187 195.924186 \nL 191.878188 195.919317 \nL 194.110187 195.705421 \nL 196.342188 195.249348 \nL 198.574187 194.520315 \nL 200.806187 193.491137 \nL 203.038187 192.139353 \nL 205.270187 190.448174 \nL 207.502188 188.407219 \nL 209.734188 186.012974 \nL 211.966188 183.268953 \nL 214.198188 180.185537 \nL 216.430188 176.779514 \nL 218.662188 173.073349 \nL 220.894188 169.09422 \nL 225.358188 160.442584 \nL 229.822188 151.091898 \nL 236.518186 136.330906 \nL 249.910187 106.558326 \nL 256.606189 92.189431 \nL 265.534191 73.629527 \nL 276.694191 51.049059 \nL 299.014185 6.567787 \nL 302.821703 -1 \nL 302.821703 -1 \n\" clip-path=\"url(#p8c14564ebc)\" style=\"fill: none; stroke: #ff7f0e; stroke-width: 1.5; stroke-linecap: square\"/>\n   </g>\n   <g id=\"line2d_35\">\n    <path d=\"M 28.942188 188.392345 \nL 82.51019 188.243815 \nL 104.830179 187.965837 \nL 118.222188 187.609494 \nL 129.382188 187.107163 \nL 138.310184 186.495326 \nL 145.006189 185.864777 \nL 151.702188 185.042757 \nL 158.398186 183.983085 \nL 165.094185 182.636648 \nL 169.558186 181.556376 \nL 174.022188 180.316282 \nL 178.486186 178.908573 \nL 182.950187 177.330755 \nL 189.646187 174.656967 \nL 196.342188 171.662535 \nL 205.270187 167.339096 \nL 218.662188 160.799902 \nL 225.358188 157.80547 \nL 232.054188 155.131682 \nL 236.518186 153.553864 \nL 240.982188 152.146157 \nL 245.446189 150.906059 \nL 252.142188 149.342109 \nL 258.838186 148.096703 \nL 265.534191 147.121645 \nL 272.23019 146.368332 \nL 281.158186 145.632871 \nL 290.086189 145.1253 \nL 301.246183 144.710476 \nL 316.87019 144.383047 \nL 339.19019 144.176385 \nL 379.366183 144.075297 \nL 383.830179 144.071657 \nL 383.830179 144.071657 \n\" clip-path=\"url(#p8c14564ebc)\" style=\"fill: none; stroke: #2ca02c; stroke-width: 1.5; stroke-linecap: square\"/>\n   </g>\n   <g id=\"line2d_36\">\n    <path d=\"M 28.942188 232.759208 \nL 131.614185 232.660531 \nL 145.006189 232.432411 \nL 153.934185 232.035167 \nL 160.630184 231.448704 \nL 165.094185 230.818264 \nL 169.558186 229.894482 \nL 171.790187 229.285061 \nL 174.022188 228.552355 \nL 176.254188 227.674335 \nL 178.486186 226.626365 \nL 180.718186 225.381469 \nL 182.950187 223.910951 \nL 185.182188 222.185444 \nL 187.414187 220.176462 \nL 189.646187 217.858577 \nL 191.878188 215.212139 \nL 194.110187 212.226442 \nL 196.342188 208.903039 \nL 198.574187 205.258716 \nL 200.806187 201.327517 \nL 205.270187 192.827694 \nL 211.966188 179.653228 \nL 216.430188 171.555722 \nL 218.662188 167.911398 \nL 220.894188 164.587995 \nL 223.126187 161.602298 \nL 225.358188 158.955861 \nL 227.590188 156.637976 \nL 229.822188 154.628994 \nL 232.054188 152.903486 \nL 234.286189 151.432968 \nL 236.518186 150.188075 \nL 238.750187 149.140102 \nL 240.982188 148.262083 \nL 243.214188 147.529376 \nL 247.678189 146.414478 \nL 252.142188 145.650667 \nL 256.606189 145.13106 \nL 263.302188 144.648902 \nL 272.23019 144.322964 \nL 285.622188 144.136033 \nL 312.406183 144.062557 \nL 383.830179 144.055232 \nL 383.830179 144.055232 \n\" clip-path=\"url(#p8c14564ebc)\" style=\"fill: none; stroke: #d62728; stroke-width: 1.5; stroke-linecap: square\"/>\n   </g>\n   <g id=\"patch_3\">\n    <path d=\"M 28.942188 277.111219 \nL 28.942188 10.999219 \n\" style=\"fill: none; stroke: #000000; stroke-width: 0.8; stroke-linejoin: miter; stroke-linecap: square\"/>\n   </g>\n   <g id=\"patch_4\">\n    <path d=\"M 386.062188 277.111219 \nL 386.062188 10.999219 \n\" style=\"fill: none; stroke: #000000; stroke-width: 0.8; stroke-linejoin: miter; stroke-linecap: square\"/>\n   </g>\n   <g id=\"patch_5\">\n    <path d=\"M 28.942188 277.111219 \nL 386.062188 277.111219 \n\" style=\"fill: none; stroke: #000000; stroke-width: 0.8; stroke-linejoin: miter; stroke-linecap: square\"/>\n   </g>\n   <g id=\"patch_6\">\n    <path d=\"M 28.942188 10.999219 \nL 386.062188 10.999219 \n\" style=\"fill: none; stroke: #000000; stroke-width: 0.8; stroke-linejoin: miter; stroke-linecap: square\"/>\n   </g>\n   <g id=\"legend_1\">\n    <g id=\"patch_7\">\n     <path d=\"M 35.942188 77.711719 \nL 120.985938 77.711719 \nQ 122.985938 77.711719 122.985938 75.711719 \nL 122.985938 17.999219 \nQ 122.985938 15.999219 120.985938 15.999219 \nL 35.942188 15.999219 \nQ 33.942188 15.999219 33.942188 17.999219 \nL 33.942188 75.711719 \nQ 33.942188 77.711719 35.942188 77.711719 \nz\n\" style=\"fill: #ffffff; opacity: 0.8; stroke: #cccccc; stroke-linejoin: miter\"/>\n    </g>\n    <g id=\"line2d_37\">\n     <path d=\"M 37.942188 24.097656 \nL 47.942188 24.097656 \nL 57.942188 24.097656 \n\" style=\"fill: none; stroke: #1f77b4; stroke-width: 1.5; stroke-linecap: square\"/>\n    </g>\n    <g id=\"text_17\">\n     <!-- relu(x) -->\n     <g transform=\"translate(65.942188 27.597656) scale(0.1 -0.1)\">\n      <defs>\n       <path id=\"DejaVuSans-72\" d=\"M 2631 2963 \nQ 2534 3019 2420 3045 \nQ 2306 3072 2169 3072 \nQ 1681 3072 1420 2755 \nQ 1159 2438 1159 1844 \nL 1159 0 \nL 581 0 \nL 581 3500 \nL 1159 3500 \nL 1159 2956 \nQ 1341 3275 1631 3429 \nQ 1922 3584 2338 3584 \nQ 2397 3584 2469 3576 \nQ 2541 3569 2628 3553 \nL 2631 2963 \nz\n\" transform=\"scale(0.015625)\"/>\n       <path id=\"DejaVuSans-65\" d=\"M 3597 1894 \nL 3597 1613 \nL 953 1613 \nQ 991 1019 1311 708 \nQ 1631 397 2203 397 \nQ 2534 397 2845 478 \nQ 3156 559 3463 722 \nL 3463 178 \nQ 3153 47 2828 -22 \nQ 2503 -91 2169 -91 \nQ 1331 -91 842 396 \nQ 353 884 353 1716 \nQ 353 2575 817 3079 \nQ 1281 3584 2069 3584 \nQ 2775 3584 3186 3129 \nQ 3597 2675 3597 1894 \nz\nM 3022 2063 \nQ 3016 2534 2758 2815 \nQ 2500 3097 2075 3097 \nQ 1594 3097 1305 2825 \nQ 1016 2553 972 2059 \nL 3022 2063 \nz\n\" transform=\"scale(0.015625)\"/>\n       <path id=\"DejaVuSans-6c\" d=\"M 603 4863 \nL 1178 4863 \nL 1178 0 \nL 603 0 \nL 603 4863 \nz\n\" transform=\"scale(0.015625)\"/>\n       <path id=\"DejaVuSans-75\" d=\"M 544 1381 \nL 544 3500 \nL 1119 3500 \nL 1119 1403 \nQ 1119 906 1312 657 \nQ 1506 409 1894 409 \nQ 2359 409 2629 706 \nQ 2900 1003 2900 1516 \nL 2900 3500 \nL 3475 3500 \nL 3475 0 \nL 2900 0 \nL 2900 538 \nQ 2691 219 2414 64 \nQ 2138 -91 1772 -91 \nQ 1169 -91 856 284 \nQ 544 659 544 1381 \nz\nM 1991 3584 \nL 1991 3584 \nz\n\" transform=\"scale(0.015625)\"/>\n       <path id=\"DejaVuSans-28\" d=\"M 1984 4856 \nQ 1566 4138 1362 3434 \nQ 1159 2731 1159 2009 \nQ 1159 1288 1364 580 \nQ 1569 -128 1984 -844 \nL 1484 -844 \nQ 1016 -109 783 600 \nQ 550 1309 550 2009 \nQ 550 2706 781 3412 \nQ 1013 4119 1484 4856 \nL 1984 4856 \nz\n\" transform=\"scale(0.015625)\"/>\n       <path id=\"DejaVuSans-78\" d=\"M 3513 3500 \nL 2247 1797 \nL 3578 0 \nL 2900 0 \nL 1881 1375 \nL 863 0 \nL 184 0 \nL 1544 1831 \nL 300 3500 \nL 978 3500 \nL 1906 2253 \nL 2834 3500 \nL 3513 3500 \nz\n\" transform=\"scale(0.015625)\"/>\n       <path id=\"DejaVuSans-29\" d=\"M 513 4856 \nL 1013 4856 \nQ 1481 4119 1714 3412 \nQ 1947 2706 1947 2009 \nQ 1947 1309 1714 600 \nQ 1481 -109 1013 -844 \nL 513 -844 \nQ 928 -128 1133 580 \nQ 1338 1288 1338 2009 \nQ 1338 2731 1133 3434 \nQ 928 4138 513 4856 \nz\n\" transform=\"scale(0.015625)\"/>\n      </defs>\n      <use xlink:href=\"#DejaVuSans-72\"/>\n      <use xlink:href=\"#DejaVuSans-65\" x=\"38.863281\"/>\n      <use xlink:href=\"#DejaVuSans-6c\" x=\"100.386719\"/>\n      <use xlink:href=\"#DejaVuSans-75\" x=\"128.169922\"/>\n      <use xlink:href=\"#DejaVuSans-28\" x=\"191.548828\"/>\n      <use xlink:href=\"#DejaVuSans-78\" x=\"230.5625\"/>\n      <use xlink:href=\"#DejaVuSans-29\" x=\"289.742188\"/>\n     </g>\n    </g>\n    <g id=\"line2d_38\">\n     <path d=\"M 37.942188 38.775781 \nL 47.942188 38.775781 \nL 57.942188 38.775781 \n\" style=\"fill: none; stroke: #ff7f0e; stroke-width: 1.5; stroke-linecap: square\"/>\n    </g>\n    <g id=\"text_18\">\n     <!-- gelu(x) -->\n     <g transform=\"translate(65.942188 42.275781) scale(0.1 -0.1)\">\n      <defs>\n       <path id=\"DejaVuSans-67\" d=\"M 2906 1791 \nQ 2906 2416 2648 2759 \nQ 2391 3103 1925 3103 \nQ 1463 3103 1205 2759 \nQ 947 2416 947 1791 \nQ 947 1169 1205 825 \nQ 1463 481 1925 481 \nQ 2391 481 2648 825 \nQ 2906 1169 2906 1791 \nz\nM 3481 434 \nQ 3481 -459 3084 -895 \nQ 2688 -1331 1869 -1331 \nQ 1566 -1331 1297 -1286 \nQ 1028 -1241 775 -1147 \nL 775 -588 \nQ 1028 -725 1275 -790 \nQ 1522 -856 1778 -856 \nQ 2344 -856 2625 -561 \nQ 2906 -266 2906 331 \nL 2906 616 \nQ 2728 306 2450 153 \nQ 2172 0 1784 0 \nQ 1141 0 747 490 \nQ 353 981 353 1791 \nQ 353 2603 747 3093 \nQ 1141 3584 1784 3584 \nQ 2172 3584 2450 3431 \nQ 2728 3278 2906 2969 \nL 2906 3500 \nL 3481 3500 \nL 3481 434 \nz\n\" transform=\"scale(0.015625)\"/>\n      </defs>\n      <use xlink:href=\"#DejaVuSans-67\"/>\n      <use xlink:href=\"#DejaVuSans-65\" x=\"63.476562\"/>\n      <use xlink:href=\"#DejaVuSans-6c\" x=\"125\"/>\n      <use xlink:href=\"#DejaVuSans-75\" x=\"152.783203\"/>\n      <use xlink:href=\"#DejaVuSans-28\" x=\"216.162109\"/>\n      <use xlink:href=\"#DejaVuSans-78\" x=\"255.175781\"/>\n      <use xlink:href=\"#DejaVuSans-29\" x=\"314.355469\"/>\n     </g>\n    </g>\n    <g id=\"line2d_39\">\n     <path d=\"M 37.942188 53.453906 \nL 47.942188 53.453906 \nL 57.942188 53.453906 \n\" style=\"fill: none; stroke: #2ca02c; stroke-width: 1.5; stroke-linecap: square\"/>\n    </g>\n    <g id=\"text_19\">\n     <!-- sigmoid(x) -->\n     <g transform=\"translate(65.942188 56.953906) scale(0.1 -0.1)\">\n      <defs>\n       <path id=\"DejaVuSans-73\" d=\"M 2834 3397 \nL 2834 2853 \nQ 2591 2978 2328 3040 \nQ 2066 3103 1784 3103 \nQ 1356 3103 1142 2972 \nQ 928 2841 928 2578 \nQ 928 2378 1081 2264 \nQ 1234 2150 1697 2047 \nL 1894 2003 \nQ 2506 1872 2764 1633 \nQ 3022 1394 3022 966 \nQ 3022 478 2636 193 \nQ 2250 -91 1575 -91 \nQ 1294 -91 989 -36 \nQ 684 19 347 128 \nL 347 722 \nQ 666 556 975 473 \nQ 1284 391 1588 391 \nQ 1994 391 2212 530 \nQ 2431 669 2431 922 \nQ 2431 1156 2273 1281 \nQ 2116 1406 1581 1522 \nL 1381 1569 \nQ 847 1681 609 1914 \nQ 372 2147 372 2553 \nQ 372 3047 722 3315 \nQ 1072 3584 1716 3584 \nQ 2034 3584 2315 3537 \nQ 2597 3491 2834 3397 \nz\n\" transform=\"scale(0.015625)\"/>\n       <path id=\"DejaVuSans-69\" d=\"M 603 3500 \nL 1178 3500 \nL 1178 0 \nL 603 0 \nL 603 3500 \nz\nM 603 4863 \nL 1178 4863 \nL 1178 4134 \nL 603 4134 \nL 603 4863 \nz\n\" transform=\"scale(0.015625)\"/>\n       <path id=\"DejaVuSans-6d\" d=\"M 3328 2828 \nQ 3544 3216 3844 3400 \nQ 4144 3584 4550 3584 \nQ 5097 3584 5394 3201 \nQ 5691 2819 5691 2113 \nL 5691 0 \nL 5113 0 \nL 5113 2094 \nQ 5113 2597 4934 2840 \nQ 4756 3084 4391 3084 \nQ 3944 3084 3684 2787 \nQ 3425 2491 3425 1978 \nL 3425 0 \nL 2847 0 \nL 2847 2094 \nQ 2847 2600 2669 2842 \nQ 2491 3084 2119 3084 \nQ 1678 3084 1418 2786 \nQ 1159 2488 1159 1978 \nL 1159 0 \nL 581 0 \nL 581 3500 \nL 1159 3500 \nL 1159 2956 \nQ 1356 3278 1631 3431 \nQ 1906 3584 2284 3584 \nQ 2666 3584 2933 3390 \nQ 3200 3197 3328 2828 \nz\n\" transform=\"scale(0.015625)\"/>\n       <path id=\"DejaVuSans-6f\" d=\"M 1959 3097 \nQ 1497 3097 1228 2736 \nQ 959 2375 959 1747 \nQ 959 1119 1226 758 \nQ 1494 397 1959 397 \nQ 2419 397 2687 759 \nQ 2956 1122 2956 1747 \nQ 2956 2369 2687 2733 \nQ 2419 3097 1959 3097 \nz\nM 1959 3584 \nQ 2709 3584 3137 3096 \nQ 3566 2609 3566 1747 \nQ 3566 888 3137 398 \nQ 2709 -91 1959 -91 \nQ 1206 -91 779 398 \nQ 353 888 353 1747 \nQ 353 2609 779 3096 \nQ 1206 3584 1959 3584 \nz\n\" transform=\"scale(0.015625)\"/>\n       <path id=\"DejaVuSans-64\" d=\"M 2906 2969 \nL 2906 4863 \nL 3481 4863 \nL 3481 0 \nL 2906 0 \nL 2906 525 \nQ 2725 213 2448 61 \nQ 2172 -91 1784 -91 \nQ 1150 -91 751 415 \nQ 353 922 353 1747 \nQ 353 2572 751 3078 \nQ 1150 3584 1784 3584 \nQ 2172 3584 2448 3432 \nQ 2725 3281 2906 2969 \nz\nM 947 1747 \nQ 947 1113 1208 752 \nQ 1469 391 1925 391 \nQ 2381 391 2643 752 \nQ 2906 1113 2906 1747 \nQ 2906 2381 2643 2742 \nQ 2381 3103 1925 3103 \nQ 1469 3103 1208 2742 \nQ 947 2381 947 1747 \nz\n\" transform=\"scale(0.015625)\"/>\n      </defs>\n      <use xlink:href=\"#DejaVuSans-73\"/>\n      <use xlink:href=\"#DejaVuSans-69\" x=\"52.099609\"/>\n      <use xlink:href=\"#DejaVuSans-67\" x=\"79.882812\"/>\n      <use xlink:href=\"#DejaVuSans-6d\" x=\"143.359375\"/>\n      <use xlink:href=\"#DejaVuSans-6f\" x=\"240.771484\"/>\n      <use xlink:href=\"#DejaVuSans-69\" x=\"301.953125\"/>\n      <use xlink:href=\"#DejaVuSans-64\" x=\"329.736328\"/>\n      <use xlink:href=\"#DejaVuSans-28\" x=\"393.212891\"/>\n      <use xlink:href=\"#DejaVuSans-78\" x=\"432.226562\"/>\n      <use xlink:href=\"#DejaVuSans-29\" x=\"491.40625\"/>\n     </g>\n    </g>\n    <g id=\"line2d_40\">\n     <path d=\"M 37.942188 68.132031 \nL 47.942188 68.132031 \nL 57.942188 68.132031 \n\" style=\"fill: none; stroke: #d62728; stroke-width: 1.5; stroke-linecap: square\"/>\n    </g>\n    <g id=\"text_20\">\n     <!-- tanh(x) -->\n     <g transform=\"translate(65.942188 71.632031) scale(0.1 -0.1)\">\n      <defs>\n       <path id=\"DejaVuSans-74\" d=\"M 1172 4494 \nL 1172 3500 \nL 2356 3500 \nL 2356 3053 \nL 1172 3053 \nL 1172 1153 \nQ 1172 725 1289 603 \nQ 1406 481 1766 481 \nL 2356 481 \nL 2356 0 \nL 1766 0 \nQ 1100 0 847 248 \nQ 594 497 594 1153 \nL 594 3053 \nL 172 3053 \nL 172 3500 \nL 594 3500 \nL 594 4494 \nL 1172 4494 \nz\n\" transform=\"scale(0.015625)\"/>\n       <path id=\"DejaVuSans-61\" d=\"M 2194 1759 \nQ 1497 1759 1228 1600 \nQ 959 1441 959 1056 \nQ 959 750 1161 570 \nQ 1363 391 1709 391 \nQ 2188 391 2477 730 \nQ 2766 1069 2766 1631 \nL 2766 1759 \nL 2194 1759 \nz\nM 3341 1997 \nL 3341 0 \nL 2766 0 \nL 2766 531 \nQ 2569 213 2275 61 \nQ 1981 -91 1556 -91 \nQ 1019 -91 701 211 \nQ 384 513 384 1019 \nQ 384 1609 779 1909 \nQ 1175 2209 1959 2209 \nL 2766 2209 \nL 2766 2266 \nQ 2766 2663 2505 2880 \nQ 2244 3097 1772 3097 \nQ 1472 3097 1187 3025 \nQ 903 2953 641 2809 \nL 641 3341 \nQ 956 3463 1253 3523 \nQ 1550 3584 1831 3584 \nQ 2591 3584 2966 3190 \nQ 3341 2797 3341 1997 \nz\n\" transform=\"scale(0.015625)\"/>\n       <path id=\"DejaVuSans-6e\" d=\"M 3513 2113 \nL 3513 0 \nL 2938 0 \nL 2938 2094 \nQ 2938 2591 2744 2837 \nQ 2550 3084 2163 3084 \nQ 1697 3084 1428 2787 \nQ 1159 2491 1159 1978 \nL 1159 0 \nL 581 0 \nL 581 3500 \nL 1159 3500 \nL 1159 2956 \nQ 1366 3272 1645 3428 \nQ 1925 3584 2291 3584 \nQ 2894 3584 3203 3211 \nQ 3513 2838 3513 2113 \nz\n\" transform=\"scale(0.015625)\"/>\n       <path id=\"DejaVuSans-68\" d=\"M 3513 2113 \nL 3513 0 \nL 2938 0 \nL 2938 2094 \nQ 2938 2591 2744 2837 \nQ 2550 3084 2163 3084 \nQ 1697 3084 1428 2787 \nQ 1159 2491 1159 1978 \nL 1159 0 \nL 581 0 \nL 581 4863 \nL 1159 4863 \nL 1159 2956 \nQ 1366 3272 1645 3428 \nQ 1925 3584 2291 3584 \nQ 2894 3584 3203 3211 \nQ 3513 2838 3513 2113 \nz\n\" transform=\"scale(0.015625)\"/>\n      </defs>\n      <use xlink:href=\"#DejaVuSans-74\"/>\n      <use xlink:href=\"#DejaVuSans-61\" x=\"39.208984\"/>\n      <use xlink:href=\"#DejaVuSans-6e\" x=\"100.488281\"/>\n      <use xlink:href=\"#DejaVuSans-68\" x=\"163.867188\"/>\n      <use xlink:href=\"#DejaVuSans-28\" x=\"227.246094\"/>\n      <use xlink:href=\"#DejaVuSans-78\" x=\"266.259766\"/>\n      <use xlink:href=\"#DejaVuSans-29\" x=\"325.439453\"/>\n     </g>\n    </g>\n   </g>\n  </g>\n </g>\n <defs>\n  <clipPath id=\"p8c14564ebc\">\n   <rect x=\"28.942188\" y=\"10.999219\" width=\"357.12\" height=\"266.112\"/>\n  </clipPath>\n </defs>\n</svg>\n"
          },
          "metadata": {}
        }
      ],
      "source": [
        "import torch\n",
        "# from d2l import torch as d2l\n",
        "import matplotlib.pyplot as plt\n",
        "import torch.nn.functional as F\n",
        "\n",
        "#ReLU\n",
        "x = torch.arange(-8.0, 8.0, 0.1, requires_grad=True)\n",
        "y = torch.relu(x)\n",
        "# d2l.plot(x.detach(), y.detach(), 'x', 'relu(x)', figsize=(5, 2.5))\n",
        "plt.plot(x.detach(), y.detach(), label = \"relu(x)\")\n",
        "\n",
        "y = F.gelu(x)\n",
        "plt.plot(x.detach(), y.detach(), label = \"gelu(x)\")\n",
        "\n",
        "y = torch.sigmoid(x)\n",
        "# d2l.plot(x.detach(), y.detach(), 'x', 'sigmoid(x)', figsize = (5,2.5))\n",
        "plt.plot(x.detach(), y.detach(), label = \"sigmoid(x)\")\n",
        "\n",
        "y = torch.tanh(x)\n",
        "# d2l.plot(x.detach(), y.detach(), 'x', 'tanh(x)', figsize=(5, 2.5))\n",
        "plt.plot(x.detach(), y.detach(), label = \"tanh(x)\")\n",
        "\n",
        "plt.legend()\n",
        "plt.xlim(-8,8)\n",
        "plt.ylim(-2,4)\n",
        "plt.grid()\n",
        "plt.show()"
      ]
    },
    {
      "cell_type": "code",
      "source": [
        "type(y)"
      ],
      "metadata": {
        "colab": {
          "base_uri": "https://localhost:8080/"
        },
        "id": "De8Ti1vdHEmn",
        "outputId": "e063b75c-8a06-4213-9352-b9ed90b254eb"
      },
      "execution_count": null,
      "outputs": [
        {
          "output_type": "execute_result",
          "data": {
            "text/plain": [
              "torch.Tensor"
            ]
          },
          "metadata": {},
          "execution_count": 370
        }
      ]
    },
    {
      "cell_type": "code",
      "execution_count": 169,
      "metadata": {
        "id": "r4QeMfdy4lLE",
        "colab": {
          "base_uri": "https://localhost:8080/",
          "height": 449
        },
        "outputId": "8c4f6805-8748-48b2-c6a0-4c7f522930de"
      },
      "outputs": [
        {
          "output_type": "display_data",
          "data": {
            "text/plain": [
              "<Figure size 640x480 with 1 Axes>"
            ],
            "image/png": "[encoded data removed]"
          },
          "metadata": {}
        }
      ],
      "source": [
        "##\n",
        "import matplotlib.pyplot as plt\n",
        "import torch\n",
        "\n",
        "fig = plt.figure()\n",
        "x = torch.arange(8)+1\n",
        "\n",
        "l1 = torch.tensor([92,95,96,97,97,97,98,98])\n",
        "# l1 = [92,95,96,97,97,97,98,98].ToTensor\n",
        "l2 = torch.tensor([93.55,94.60,95.42,96.08,96.52, 96.89,97.22,97.45])\n",
        "l3 = torch.tensor([95.44,97.50,97.38, 97.59,97.99,98.43,98.53,98.21])\n",
        "l4 = torch.tensor([98.74, 98.81, 98.67, 99.04, 98.98, 98.84, 99.17, 99.17])\n",
        "\n",
        "\n",
        "plt.plot(x, l1, label = \"Basic CNN\")\n",
        "plt.plot(x, l2, label = \"Basic FNN\")\n",
        "plt.plot(x, l3, label = \"Basic ViT\")\n",
        "plt.plot(x, l4, label = \"LSTM ViT\")\n",
        "\n",
        "plt.legend()\n",
        "plt.grid()\n",
        "plt.xlabel(\"Epcho\")\n",
        "plt.ylabel(\"Accuracy of Testing (%)\")\n",
        "plt.show()"
      ]
    }
  ],
  "metadata": {
    "colab": {
      "collapsed_sections": [
        "P8nuMHEp5eDN",
        "5XEuZzOU49xm",
        "n1fdId8Ty3TN"
      ],
      "provenance": [],
      "authorship_tag": "ABX9TyPiIrcnZ8dsszjWEyBvj5Bj",
      "include_colab_link": true
    },
    "kernelspec": {
      "display_name": "Python 3",
      "name": "python3"
    },
    "language_info": {
      "name": "python"
    }
  },
  "nbformat": 4,
  "nbformat_minor": 0
}